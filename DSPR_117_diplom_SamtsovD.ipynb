{
 "cells": [
  {
   "cell_type": "markdown",
   "id": "26c0819c",
   "metadata": {},
   "source": [
    "1. Постановка задачи"
   ]
  },
  {
   "cell_type": "markdown",
   "id": "bd3f8e5c",
   "metadata": {},
   "source": [
    "В данном проекте  произведем сегментацию клиентов металлургического комбината на основе их покупательской способности, частоты совершения заказов и срока давности последнего заказа, а также определим оптимальную стратегию взаимодействия с ними.\n",
    "\n",
    "\n",
    "Техническая задача : построить модель кластеризации клиентов на основе их покупательской способности, частоты заказов и срока давности последней покупки, определить профиль каждого из кластеров.\n",
    "\n",
    "Основные цели проекта:\n",
    "\n",
    "Произвести предобработку набора данных.\n",
    "Провести разведывательный анализ данных и выявить основные закономерности.\n",
    "Сформировать категории товаров и клиентов.\n",
    "Построить несколько моделей машинного обучения, решающих задачу кластеризации клиентов, определить количество кластеров и проинтерпретировать их.\n"
   ]
  },
  {
   "cell_type": "markdown",
   "id": "a329fd05",
   "metadata": {},
   "source": [
    "2. Знакомство с данными."
   ]
  },
  {
   "cell_type": "code",
   "execution_count": 730,
   "id": "704876e8",
   "metadata": {},
   "outputs": [],
   "source": [
    "import numpy as np\n",
    "import pandas as pd\n",
    "import sklearn\n",
    "import matplotlib.pyplot as plt\n",
    "import seaborn as sns\n",
    "from mpl_toolkits.mplot3d import Axes3D\n",
    "\n",
    "import plotly.graph_objs as go\n",
    "import plotly.express as px\n",
    "from plotly.subplots import make_subplots\n",
    "\n",
    "from sklearn import mixture\n",
    "from sklearn import manifold\n",
    "from sklearn import pipeline\n",
    "from sklearn import preprocessing\n",
    "from sklearn import cluster\n",
    "from sklearn import metrics\n",
    "from sklearn import model_selection\n",
    "from sklearn import decomposition\n",
    "from sklearn import ensemble\n",
    "import warnings\n",
    "\n",
    "from IPython.display import display, HTML\n",
    "\n",
    "warnings.filterwarnings(\"ignore\")\n",
    "\n",
    "plt.rcParams[\"patch.force_edgecolor\"] = True"
   ]
  },
  {
   "cell_type": "code",
   "execution_count": 731,
   "id": "9c40cebe",
   "metadata": {},
   "outputs": [
    {
     "name": "stdout",
     "output_type": "stream",
     "text": [
      "2.0.0\n",
      "1.2.2\n",
      "1.22.4\n"
     ]
    }
   ],
   "source": [
    "#Используемые версии бибилотек\n",
    "print(pd.__version__)\n",
    "print(sklearn.__version__)\n",
    "print(np.__version__)"
   ]
  },
  {
   "cell_type": "markdown",
   "id": "c1f405d4",
   "metadata": {},
   "source": [
    "Познакомимся с нашими данными:"
   ]
  },
  {
   "cell_type": "code",
   "execution_count": 732,
   "id": "b61dc0a5",
   "metadata": {},
   "outputs": [
    {
     "name": "stdout",
     "output_type": "stream",
     "text": [
      "Data shape: (201048, 6)\n"
     ]
    },
    {
     "data": {
      "text/html": [
       "<div>\n",
       "<style scoped>\n",
       "    .dataframe tbody tr th:only-of-type {\n",
       "        vertical-align: middle;\n",
       "    }\n",
       "\n",
       "    .dataframe tbody tr th {\n",
       "        vertical-align: top;\n",
       "    }\n",
       "\n",
       "    .dataframe thead th {\n",
       "        text-align: right;\n",
       "    }\n",
       "</style>\n",
       "<table border=\"1\" class=\"dataframe\">\n",
       "  <thead>\n",
       "    <tr style=\"text-align: right;\">\n",
       "      <th></th>\n",
       "      <th>Дата поставки</th>\n",
       "      <th>Наименование товара</th>\n",
       "      <th>Вес, т</th>\n",
       "      <th>Ст-ть, usd</th>\n",
       "      <th>Страна</th>\n",
       "      <th>Покупатель</th>\n",
       "    </tr>\n",
       "  </thead>\n",
       "  <tbody>\n",
       "    <tr>\n",
       "      <th>0</th>\n",
       "      <td>2017-01-01</td>\n",
       "      <td>NaN</td>\n",
       "      <td>-0.769231</td>\n",
       "      <td>0.0</td>\n",
       "      <td>Россия</td>\n",
       "      <td>165</td>\n",
       "    </tr>\n",
       "    <tr>\n",
       "      <th>1</th>\n",
       "      <td>2017-01-01</td>\n",
       "      <td>NaN</td>\n",
       "      <td>-0.769231</td>\n",
       "      <td>0.0</td>\n",
       "      <td>Россия</td>\n",
       "      <td>165</td>\n",
       "    </tr>\n",
       "    <tr>\n",
       "      <th>2</th>\n",
       "      <td>2017-01-01</td>\n",
       "      <td>NaN</td>\n",
       "      <td>0.000000</td>\n",
       "      <td>0.0</td>\n",
       "      <td>Россия</td>\n",
       "      <td>165</td>\n",
       "    </tr>\n",
       "    <tr>\n",
       "      <th>3</th>\n",
       "      <td>2017-01-01</td>\n",
       "      <td>NaN</td>\n",
       "      <td>-0.769231</td>\n",
       "      <td>0.0</td>\n",
       "      <td>Россия</td>\n",
       "      <td>165</td>\n",
       "    </tr>\n",
       "    <tr>\n",
       "      <th>4</th>\n",
       "      <td>2017-01-01</td>\n",
       "      <td>NaN</td>\n",
       "      <td>-0.769231</td>\n",
       "      <td>0.0</td>\n",
       "      <td>Россия</td>\n",
       "      <td>165</td>\n",
       "    </tr>\n",
       "  </tbody>\n",
       "</table>\n",
       "</div>"
      ],
      "text/plain": [
       "  Дата поставки Наименование товара    Вес, т  Ст-ть, usd  Страна  Покупатель\n",
       "0    2017-01-01                 NaN -0.769231         0.0  Россия         165\n",
       "1    2017-01-01                 NaN -0.769231         0.0  Россия         165\n",
       "2    2017-01-01                 NaN  0.000000         0.0  Россия         165\n",
       "3    2017-01-01                 NaN -0.769231         0.0  Россия         165\n",
       "4    2017-01-01                 NaN -0.769231         0.0  Россия         165"
      ]
     },
     "execution_count": 732,
     "metadata": {},
     "output_type": "execute_result"
    }
   ],
   "source": [
    "data = pd.read_excel(\n",
    "    'C:/Users/Dmitriy/Downloads/Data Science lessons/Diploma/data 2017.xlsx'\n",
    ")\n",
    "print('Data shape: {}'.format(data.shape))\n",
    "data.head(5)"
   ]
  },
  {
   "cell_type": "markdown",
   "id": "a6d7afc2",
   "metadata": {},
   "source": [
    "Итак, у нас есть данные о двухстах тысячах поставок металлургического завода. Каждая из них описывается следующими признаками:\n",
    "\n",
    "* Дата поставки — дата совершения поставки, дата счета, дата транзакции;\n",
    "* Наименование товара — вид поставляемой продукции;\n",
    "* Вес,т — отгруженный вес в тоннах;\n",
    "* Ст-ть, usd — стоимость отгруженной позиции; \n",
    "* Страна — страна куда поставляется продукция;\n",
    "* Покуапател — идентификатор клиента, уникальный номер, присвоенный покупателю/клиенту;\n",
    "\n",
    "Проведём анализ структуры таблицы."
   ]
  },
  {
   "cell_type": "code",
   "execution_count": 194,
   "id": "6ec7402a",
   "metadata": {},
   "outputs": [
    {
     "name": "stdout",
     "output_type": "stream",
     "text": [
      "<class 'pandas.core.frame.DataFrame'>\n",
      "RangeIndex: 201048 entries, 0 to 201047\n",
      "Data columns (total 6 columns):\n",
      " #   Column               Non-Null Count   Dtype         \n",
      "---  ------               --------------   -----         \n",
      " 0   Дата поставки        201048 non-null  datetime64[ns]\n",
      " 1   Наименование товара  130261 non-null  object        \n",
      " 2   Вес, т               201048 non-null  float64       \n",
      " 3   Ст-ть, usd           201048 non-null  float64       \n",
      " 4   Страна               201048 non-null  object        \n",
      " 5   Покупатель           201048 non-null  int64         \n",
      "dtypes: datetime64[ns](1), float64(2), int64(1), object(2)\n",
      "memory usage: 9.2+ MB\n"
     ]
    }
   ],
   "source": [
    "data.info()"
   ]
  },
  {
   "cell_type": "markdown",
   "id": "7f757cb4",
   "metadata": {},
   "source": [
    "4 столбца кодируются числовыми признаками, 1 в формате даты, 1 категориальный"
   ]
  },
  {
   "cell_type": "code",
   "execution_count": 195,
   "id": "e736b098",
   "metadata": {},
   "outputs": [
    {
     "data": {
      "text/plain": [
       "Дата поставки              0\n",
       "Наименование товара    70787\n",
       "Вес, т                     0\n",
       "Ст-ть, usd                 0\n",
       "Страна                     0\n",
       "Покупатель                 0\n",
       "dtype: int64"
      ]
     },
     "execution_count": 195,
     "metadata": {},
     "output_type": "execute_result"
    }
   ],
   "source": [
    "#проверим на наличие пропусков в датасете\n",
    "data.isnull().sum()"
   ]
  },
  {
   "cell_type": "markdown",
   "id": "92a1947f",
   "metadata": {},
   "source": [
    "Удалим пропуски поскольку это металлические возвратные рамы на которых грузится в вагонах продукция в рулонах. Не имеют стоимости, поскольку являются собственностью продавца. Покупатели их возвращают при этом вес отображается отрицательным числом."
   ]
  },
  {
   "cell_type": "code",
   "execution_count": 733,
   "id": "5a853ede",
   "metadata": {},
   "outputs": [],
   "source": [
    "data=data.dropna()"
   ]
  },
  {
   "cell_type": "code",
   "execution_count": 734,
   "id": "2e9b2f5f",
   "metadata": {},
   "outputs": [
    {
     "name": "stdout",
     "output_type": "stream",
     "text": [
      "<class 'pandas.core.frame.DataFrame'>\n",
      "Index: 130261 entries, 32283 to 201047\n",
      "Data columns (total 6 columns):\n",
      " #   Column               Non-Null Count   Dtype         \n",
      "---  ------               --------------   -----         \n",
      " 0   Дата поставки        130261 non-null  datetime64[ns]\n",
      " 1   Наименование товара  130261 non-null  object        \n",
      " 2   Вес, т               130261 non-null  float64       \n",
      " 3   Ст-ть, usd           130261 non-null  float64       \n",
      " 4   Страна               130261 non-null  object        \n",
      " 5   Покупатель           130261 non-null  int64         \n",
      "dtypes: datetime64[ns](1), float64(2), int64(1), object(2)\n",
      "memory usage: 7.0+ MB\n"
     ]
    }
   ],
   "source": [
    "data.info()"
   ]
  },
  {
   "cell_type": "code",
   "execution_count": 735,
   "id": "70ad088a",
   "metadata": {},
   "outputs": [
    {
     "data": {
      "text/plain": [
       "0"
      ]
     },
     "execution_count": 735,
     "metadata": {},
     "output_type": "execute_result"
    }
   ],
   "source": [
    "data.isnull().sum().sum()"
   ]
  },
  {
   "cell_type": "code",
   "execution_count": 736,
   "id": "b0d616ff",
   "metadata": {},
   "outputs": [
    {
     "data": {
      "text/html": [
       "<div>\n",
       "<style scoped>\n",
       "    .dataframe tbody tr th:only-of-type {\n",
       "        vertical-align: middle;\n",
       "    }\n",
       "\n",
       "    .dataframe tbody tr th {\n",
       "        vertical-align: top;\n",
       "    }\n",
       "\n",
       "    .dataframe thead th {\n",
       "        text-align: right;\n",
       "    }\n",
       "</style>\n",
       "<table border=\"1\" class=\"dataframe\">\n",
       "  <thead>\n",
       "    <tr style=\"text-align: right;\">\n",
       "      <th></th>\n",
       "      <th>Дата поставки</th>\n",
       "      <th>Наименование товара</th>\n",
       "      <th>Вес, т</th>\n",
       "      <th>Ст-ть, usd</th>\n",
       "      <th>Страна</th>\n",
       "      <th>Покупатель</th>\n",
       "    </tr>\n",
       "  </thead>\n",
       "  <tbody>\n",
       "    <tr>\n",
       "      <th>32283</th>\n",
       "      <td>2017-01-10</td>\n",
       "      <td>HRS</td>\n",
       "      <td>47.692308</td>\n",
       "      <td>39543.173</td>\n",
       "      <td>Иран</td>\n",
       "      <td>174</td>\n",
       "    </tr>\n",
       "    <tr>\n",
       "      <th>32284</th>\n",
       "      <td>2017-01-10</td>\n",
       "      <td>HRS</td>\n",
       "      <td>47.930769</td>\n",
       "      <td>39740.883</td>\n",
       "      <td>Иран</td>\n",
       "      <td>174</td>\n",
       "    </tr>\n",
       "    <tr>\n",
       "      <th>32285</th>\n",
       "      <td>2017-01-02</td>\n",
       "      <td>PPGI</td>\n",
       "      <td>13.138462</td>\n",
       "      <td>29389.396</td>\n",
       "      <td>Казахстан</td>\n",
       "      <td>365</td>\n",
       "    </tr>\n",
       "    <tr>\n",
       "      <th>32286</th>\n",
       "      <td>2017-01-02</td>\n",
       "      <td>PPGI</td>\n",
       "      <td>35.169231</td>\n",
       "      <td>78669.982</td>\n",
       "      <td>Казахстан</td>\n",
       "      <td>365</td>\n",
       "    </tr>\n",
       "    <tr>\n",
       "      <th>32293</th>\n",
       "      <td>2017-01-16</td>\n",
       "      <td>PPGI</td>\n",
       "      <td>30.523077</td>\n",
       "      <td>68285.192</td>\n",
       "      <td>Казахстан</td>\n",
       "      <td>365</td>\n",
       "    </tr>\n",
       "  </tbody>\n",
       "</table>\n",
       "</div>"
      ],
      "text/plain": [
       "      Дата поставки Наименование товара     Вес, т  Ст-ть, usd     Страна   \n",
       "32283    2017-01-10                 HRS  47.692308   39543.173       Иран  \\\n",
       "32284    2017-01-10                 HRS  47.930769   39740.883       Иран   \n",
       "32285    2017-01-02                PPGI  13.138462   29389.396  Казахстан   \n",
       "32286    2017-01-02                PPGI  35.169231   78669.982  Казахстан   \n",
       "32293    2017-01-16                PPGI  30.523077   68285.192  Казахстан   \n",
       "\n",
       "       Покупатель  \n",
       "32283         174  \n",
       "32284         174  \n",
       "32285         365  \n",
       "32286         365  \n",
       "32293         365  "
      ]
     },
     "execution_count": 736,
     "metadata": {},
     "output_type": "execute_result"
    }
   ],
   "source": [
    "data.head()"
   ]
  },
  {
   "cell_type": "markdown",
   "id": "b558d705",
   "metadata": {},
   "source": [
    "Определим период времени датасета"
   ]
  },
  {
   "cell_type": "code",
   "execution_count": 737,
   "id": "ac0de974",
   "metadata": {},
   "outputs": [
    {
     "name": "stdout",
     "output_type": "stream",
     "text": [
      "Начало периода: 2017-01-01 00:00:00\n",
      "Конец периода: 2017-12-31 00:00:00\n"
     ]
    }
   ],
   "source": [
    "print('Начало периода:', data['Дата поставки'].min())\n",
    "print('Конец периода:', data['Дата поставки'].max())"
   ]
  },
  {
   "cell_type": "markdown",
   "id": "48fae18d",
   "metadata": {},
   "source": [
    "В датасете представлены данные за 2017 год"
   ]
  },
  {
   "cell_type": "markdown",
   "id": "5d363ed8",
   "metadata": {},
   "source": [
    "Добавим новый признак - \"Цена за тонну\""
   ]
  },
  {
   "cell_type": "code",
   "execution_count": 738,
   "id": "b0b9e82a",
   "metadata": {},
   "outputs": [],
   "source": [
    "data['Цена за тонну']=data['Ст-ть, usd']/data['Вес, т']"
   ]
  },
  {
   "cell_type": "code",
   "execution_count": 739,
   "id": "7a321a7c",
   "metadata": {},
   "outputs": [
    {
     "data": {
      "text/html": [
       "<div>\n",
       "<style scoped>\n",
       "    .dataframe tbody tr th:only-of-type {\n",
       "        vertical-align: middle;\n",
       "    }\n",
       "\n",
       "    .dataframe tbody tr th {\n",
       "        vertical-align: top;\n",
       "    }\n",
       "\n",
       "    .dataframe thead th {\n",
       "        text-align: right;\n",
       "    }\n",
       "</style>\n",
       "<table border=\"1\" class=\"dataframe\">\n",
       "  <thead>\n",
       "    <tr style=\"text-align: right;\">\n",
       "      <th></th>\n",
       "      <th>Дата поставки</th>\n",
       "      <th>Наименование товара</th>\n",
       "      <th>Вес, т</th>\n",
       "      <th>Ст-ть, usd</th>\n",
       "      <th>Страна</th>\n",
       "      <th>Покупатель</th>\n",
       "      <th>Цена за тонну</th>\n",
       "    </tr>\n",
       "  </thead>\n",
       "  <tbody>\n",
       "    <tr>\n",
       "      <th>32283</th>\n",
       "      <td>2017-01-10</td>\n",
       "      <td>HRS</td>\n",
       "      <td>47.692308</td>\n",
       "      <td>39543.173</td>\n",
       "      <td>Иран</td>\n",
       "      <td>174</td>\n",
       "      <td>829.131047</td>\n",
       "    </tr>\n",
       "    <tr>\n",
       "      <th>32284</th>\n",
       "      <td>2017-01-10</td>\n",
       "      <td>HRS</td>\n",
       "      <td>47.930769</td>\n",
       "      <td>39740.883</td>\n",
       "      <td>Иран</td>\n",
       "      <td>174</td>\n",
       "      <td>829.130924</td>\n",
       "    </tr>\n",
       "    <tr>\n",
       "      <th>32285</th>\n",
       "      <td>2017-01-02</td>\n",
       "      <td>PPGI</td>\n",
       "      <td>13.138462</td>\n",
       "      <td>29389.396</td>\n",
       "      <td>Казахстан</td>\n",
       "      <td>365</td>\n",
       "      <td>2236.897822</td>\n",
       "    </tr>\n",
       "    <tr>\n",
       "      <th>32286</th>\n",
       "      <td>2017-01-02</td>\n",
       "      <td>PPGI</td>\n",
       "      <td>35.169231</td>\n",
       "      <td>78669.982</td>\n",
       "      <td>Казахстан</td>\n",
       "      <td>365</td>\n",
       "      <td>2236.898001</td>\n",
       "    </tr>\n",
       "    <tr>\n",
       "      <th>32293</th>\n",
       "      <td>2017-01-16</td>\n",
       "      <td>PPGI</td>\n",
       "      <td>30.523077</td>\n",
       "      <td>68285.192</td>\n",
       "      <td>Казахстан</td>\n",
       "      <td>365</td>\n",
       "      <td>2237.166069</td>\n",
       "    </tr>\n",
       "  </tbody>\n",
       "</table>\n",
       "</div>"
      ],
      "text/plain": [
       "      Дата поставки Наименование товара     Вес, т  Ст-ть, usd     Страна   \n",
       "32283    2017-01-10                 HRS  47.692308   39543.173       Иран  \\\n",
       "32284    2017-01-10                 HRS  47.930769   39740.883       Иран   \n",
       "32285    2017-01-02                PPGI  13.138462   29389.396  Казахстан   \n",
       "32286    2017-01-02                PPGI  35.169231   78669.982  Казахстан   \n",
       "32293    2017-01-16                PPGI  30.523077   68285.192  Казахстан   \n",
       "\n",
       "       Покупатель  Цена за тонну  \n",
       "32283         174     829.131047  \n",
       "32284         174     829.130924  \n",
       "32285         365    2236.897822  \n",
       "32286         365    2236.898001  \n",
       "32293         365    2237.166069  "
      ]
     },
     "execution_count": 739,
     "metadata": {},
     "output_type": "execute_result"
    }
   ],
   "source": [
    "data.head()"
   ]
  },
  {
   "cell_type": "code",
   "execution_count": 740,
   "id": "69cbadf1",
   "metadata": {},
   "outputs": [
    {
     "name": "stdout",
     "output_type": "stream",
     "text": [
      "Максимальное цена: 3217.55\n",
      "Минимальная цена: 0.0\n"
     ]
    },
    {
     "data": {
      "text/plain": [
       "count    130261.000000\n",
       "mean       1212.693618\n",
       "std         468.655375\n",
       "min           0.000000\n",
       "25%        1036.337519\n",
       "50%        1193.787778\n",
       "75%        1418.837878\n",
       "max        3217.552488\n",
       "Name: Цена за тонну, dtype: float64"
      ]
     },
     "execution_count": 740,
     "metadata": {},
     "output_type": "execute_result"
    }
   ],
   "source": [
    "print('Максимальное цена:', round(data['Цена за тонну'].max(),2))\n",
    "print('Минимальная цена:', round(data['Цена за тонну'].min(),2))\n",
    "\n",
    "data['Цена за тонну'].describe(include='all')"
   ]
  },
  {
   "cell_type": "code",
   "execution_count": 204,
   "id": "45c4021e",
   "metadata": {},
   "outputs": [
    {
     "name": "stdout",
     "output_type": "stream",
     "text": [
      "<class 'pandas.core.frame.DataFrame'>\n",
      "Index: 743 entries, 33218 to 200212\n",
      "Data columns (total 7 columns):\n",
      " #   Column               Non-Null Count  Dtype         \n",
      "---  ------               --------------  -----         \n",
      " 0   Дата поставки        743 non-null    datetime64[ns]\n",
      " 1   Наименование товара  743 non-null    object        \n",
      " 2   Вес, т               743 non-null    float64       \n",
      " 3   Ст-ть, usd           743 non-null    float64       \n",
      " 4   Страна               743 non-null    object        \n",
      " 5   Покупатель           743 non-null    int64         \n",
      " 6   Цена за тонну        743 non-null    float64       \n",
      "dtypes: datetime64[ns](1), float64(3), int64(1), object(2)\n",
      "memory usage: 46.4+ KB\n"
     ]
    }
   ],
   "source": [
    "data[data['Цена за тонну']==0].info()"
   ]
  },
  {
   "cell_type": "code",
   "execution_count": 205,
   "id": "f0588ed6",
   "metadata": {},
   "outputs": [
    {
     "name": "stdout",
     "output_type": "stream",
     "text": [
      "Отгрузки с нулевой ценой,тонн 4724.97\n",
      "Отгрузки с ненулевой ценой,ттонн 2815309.89\n",
      "% Отгрузки с нулевой ценой 0.17\n"
     ]
    }
   ],
   "source": [
    "print('Отгрузки с нулевой ценой,тонн', round(data[data['Цена за тонну']==0]['Вес, т'].sum(),2))\n",
    "print('Отгрузки с ненулевой ценой,ттонн', round(data[data['Цена за тонну']!=0]['Вес, т'].sum(),2))\n",
    "с=data[data['Цена за тонну']==0]['Вес, т'].sum()/data[data['Цена за тонну']!=0]['Вес, т'].sum()*100\n",
    "print('% Отгрузки с нулевой ценой', round(с,2))"
   ]
  },
  {
   "cell_type": "markdown",
   "id": "df0ba6b4",
   "metadata": {},
   "source": [
    "Отгрузки с нулевой ценой это незначительные отгрузки на склады с последующей продажей физическим лицам, ими можно пренебречь, избавимся от них"
   ]
  },
  {
   "cell_type": "code",
   "execution_count": 741,
   "id": "919208a9",
   "metadata": {},
   "outputs": [],
   "source": [
    "data = data[data['Цена за тонну']!=0]"
   ]
  },
  {
   "cell_type": "code",
   "execution_count": 742,
   "id": "b4420b36",
   "metadata": {},
   "outputs": [
    {
     "data": {
      "text/plain": [
       "count    129518.000000\n",
       "mean       1219.650422\n",
       "std         460.882764\n",
       "min           0.004719\n",
       "25%        1039.095330\n",
       "50%        1193.852200\n",
       "75%        1422.350680\n",
       "max        3217.552488\n",
       "Name: Цена за тонну, dtype: float64"
      ]
     },
     "execution_count": 742,
     "metadata": {},
     "output_type": "execute_result"
    }
   ],
   "source": [
    "data['Цена за тонну'].describe(include='all')"
   ]
  },
  {
   "cell_type": "markdown",
   "id": "e4c6e6eb",
   "metadata": {},
   "source": [
    "Посмотрим на:\n",
    "-сколько уникальных клиентов покупали товары за период выгрузки датасета,\n",
    "\n",
    "-сколько уникальных стран содержится в столбце \"Страна\",\n",
    "\n",
    "-укажем идентификатор самого популярного товара (\"Наименование товара\"):"
   ]
  },
  {
   "cell_type": "code",
   "execution_count": 743,
   "id": "1d311d59",
   "metadata": {},
   "outputs": [
    {
     "name": "stdout",
     "output_type": "stream",
     "text": [
      "Сколько уникальных клиентов покупали товары за период выгрузки датасета?: 372\n",
      "Сколько уникальных стран содержится в столбце \"Страна\"?: 19\n"
     ]
    }
   ],
   "source": [
    "print('Сколько уникальных клиентов покупали товары за период выгрузки датасета?:',\n",
    "      len(data['Покупатель'].unique()))\n",
    "print('Сколько уникальных стран содержится в столбце \"Страна\"?:',\n",
    "      len(data['Страна'].unique()))\n"
   ]
  },
  {
   "cell_type": "code",
   "execution_count": 744,
   "id": "011d940a",
   "metadata": {},
   "outputs": [
    {
     "data": {
      "text/html": [
       "<div>\n",
       "<style scoped>\n",
       "    .dataframe tbody tr th:only-of-type {\n",
       "        vertical-align: middle;\n",
       "    }\n",
       "\n",
       "    .dataframe tbody tr th {\n",
       "        vertical-align: top;\n",
       "    }\n",
       "\n",
       "    .dataframe thead th {\n",
       "        text-align: right;\n",
       "    }\n",
       "</style>\n",
       "<table border=\"1\" class=\"dataframe\">\n",
       "  <thead>\n",
       "    <tr style=\"text-align: right;\">\n",
       "      <th></th>\n",
       "      <th>Вес, т</th>\n",
       "    </tr>\n",
       "    <tr>\n",
       "      <th>Наименование товара</th>\n",
       "      <th></th>\n",
       "    </tr>\n",
       "  </thead>\n",
       "  <tbody>\n",
       "    <tr>\n",
       "      <th>HRC</th>\n",
       "      <td>961745.476923</td>\n",
       "    </tr>\n",
       "    <tr>\n",
       "      <th>CRC</th>\n",
       "      <td>552059.115385</td>\n",
       "    </tr>\n",
       "    <tr>\n",
       "      <th>HDGC</th>\n",
       "      <td>399314.715385</td>\n",
       "    </tr>\n",
       "    <tr>\n",
       "      <th>REBAR</th>\n",
       "      <td>319100.667692</td>\n",
       "    </tr>\n",
       "    <tr>\n",
       "      <th>HRS</th>\n",
       "      <td>293813.369231</td>\n",
       "    </tr>\n",
       "  </tbody>\n",
       "</table>\n",
       "</div>"
      ],
      "text/plain": [
       "                            Вес, т\n",
       "Наименование товара               \n",
       "HRC                  961745.476923\n",
       "CRC                  552059.115385\n",
       "HDGC                 399314.715385\n",
       "REBAR                319100.667692\n",
       "HRS                  293813.369231"
      ]
     },
     "execution_count": 744,
     "metadata": {},
     "output_type": "execute_result"
    }
   ],
   "source": [
    "data.groupby(['Наименование товара'], sort=False).agg({\n",
    "    'Вес, т':'sum',\n",
    "    \n",
    "}).sort_values(\"Вес, т\", ascending=False).head()"
   ]
  },
  {
   "cell_type": "markdown",
   "id": "27cdbe6d",
   "metadata": {},
   "source": [
    "Идентификатор самого популярного товара (\"Наименование товара\"): HRC -Hot rolled coil- это горячекатанный рулон, затем CRC -cold rolled coil холоднокатанный рулон, HDGC - hot deep galvanized coil - горячеоцинкованный рулон, REBAR - арматура, HRS- hot rolled sheet  - горячекатанный лист"
   ]
  },
  {
   "cell_type": "code",
   "execution_count": 210,
   "id": "87de1668",
   "metadata": {},
   "outputs": [
    {
     "name": "stdout",
     "output_type": "stream",
     "text": [
      "<class 'pandas.core.frame.DataFrame'>\n",
      "Index: 129518 entries, 32283 to 201047\n",
      "Data columns (total 7 columns):\n",
      " #   Column               Non-Null Count   Dtype         \n",
      "---  ------               --------------   -----         \n",
      " 0   Дата поставки        129518 non-null  datetime64[ns]\n",
      " 1   Наименование товара  129518 non-null  object        \n",
      " 2   Вес, т               129518 non-null  float64       \n",
      " 3   Ст-ть, usd           129518 non-null  float64       \n",
      " 4   Страна               129518 non-null  object        \n",
      " 5   Покупатель           129518 non-null  int64         \n",
      " 6   Цена за тонну        129518 non-null  float64       \n",
      "dtypes: datetime64[ns](1), float64(3), int64(1), object(2)\n",
      "memory usage: 7.9+ MB\n"
     ]
    }
   ],
   "source": [
    "data.info()"
   ]
  },
  {
   "cell_type": "markdown",
   "id": "c5f96e89",
   "metadata": {},
   "source": [
    "Разведывательный анализ данных"
   ]
  },
  {
   "cell_type": "markdown",
   "id": "0062615e",
   "metadata": {},
   "source": [
    "Разведывательный анализ и исследование транзакции.\n",
    "\n",
    "Задачи:\n",
    "\n",
    "клиенты из каких стран покупают больше и чаще?;\n",
    "присутствует ли в продажах сезонность (когда покупают чаще)?;\n",
    "создать новые признаки, которые в дальнейшем понадобятся при формировании датасета о клиентах."
   ]
  },
  {
   "cell_type": "code",
   "execution_count": 211,
   "id": "7e6363e4",
   "metadata": {},
   "outputs": [
    {
     "data": {
      "text/html": [
       "<div>\n",
       "<style scoped>\n",
       "    .dataframe tbody tr th:only-of-type {\n",
       "        vertical-align: middle;\n",
       "    }\n",
       "\n",
       "    .dataframe tbody tr th {\n",
       "        vertical-align: top;\n",
       "    }\n",
       "\n",
       "    .dataframe thead th {\n",
       "        text-align: right;\n",
       "    }\n",
       "</style>\n",
       "<table border=\"1\" class=\"dataframe\">\n",
       "  <thead>\n",
       "    <tr style=\"text-align: right;\">\n",
       "      <th></th>\n",
       "      <th>Покупатель</th>\n",
       "      <th>Страна</th>\n",
       "    </tr>\n",
       "    <tr>\n",
       "      <th>Страна</th>\n",
       "      <th></th>\n",
       "      <th></th>\n",
       "    </tr>\n",
       "  </thead>\n",
       "  <tbody>\n",
       "    <tr>\n",
       "      <th>Россия</th>\n",
       "      <td>49545</td>\n",
       "      <td>Россия</td>\n",
       "    </tr>\n",
       "    <tr>\n",
       "      <th>Иран</th>\n",
       "      <td>36912</td>\n",
       "      <td>Иран</td>\n",
       "    </tr>\n",
       "    <tr>\n",
       "      <th>Казахстан</th>\n",
       "      <td>21241</td>\n",
       "      <td>Казахстан</td>\n",
       "    </tr>\n",
       "    <tr>\n",
       "      <th>Узбекистан</th>\n",
       "      <td>5902</td>\n",
       "      <td>Узбекистан</td>\n",
       "    </tr>\n",
       "    <tr>\n",
       "      <th>Афганистан</th>\n",
       "      <td>4713</td>\n",
       "      <td>Афганистан</td>\n",
       "    </tr>\n",
       "    <tr>\n",
       "      <th>Кыргызстан</th>\n",
       "      <td>2617</td>\n",
       "      <td>Кыргызстан</td>\n",
       "    </tr>\n",
       "    <tr>\n",
       "      <th>Таджикистан</th>\n",
       "      <td>2430</td>\n",
       "      <td>Таджикистан</td>\n",
       "    </tr>\n",
       "    <tr>\n",
       "      <th>Китай</th>\n",
       "      <td>1762</td>\n",
       "      <td>Китай</td>\n",
       "    </tr>\n",
       "    <tr>\n",
       "      <th>Азербайджан</th>\n",
       "      <td>1123</td>\n",
       "      <td>Азербайджан</td>\n",
       "    </tr>\n",
       "    <tr>\n",
       "      <th>Украина</th>\n",
       "      <td>1119</td>\n",
       "      <td>Украина</td>\n",
       "    </tr>\n",
       "    <tr>\n",
       "      <th>Ливан</th>\n",
       "      <td>697</td>\n",
       "      <td>Ливан</td>\n",
       "    </tr>\n",
       "    <tr>\n",
       "      <th>Пакистан</th>\n",
       "      <td>583</td>\n",
       "      <td>Пакистан</td>\n",
       "    </tr>\n",
       "    <tr>\n",
       "      <th>Алжир</th>\n",
       "      <td>288</td>\n",
       "      <td>Алжир</td>\n",
       "    </tr>\n",
       "    <tr>\n",
       "      <th>Республ. Корея</th>\n",
       "      <td>171</td>\n",
       "      <td>Республ. Корея</td>\n",
       "    </tr>\n",
       "    <tr>\n",
       "      <th>Беларусь</th>\n",
       "      <td>167</td>\n",
       "      <td>Беларусь</td>\n",
       "    </tr>\n",
       "    <tr>\n",
       "      <th>Ирак</th>\n",
       "      <td>119</td>\n",
       "      <td>Ирак</td>\n",
       "    </tr>\n",
       "    <tr>\n",
       "      <th>Вьетнам</th>\n",
       "      <td>50</td>\n",
       "      <td>Вьетнам</td>\n",
       "    </tr>\n",
       "    <tr>\n",
       "      <th>Грузия</th>\n",
       "      <td>48</td>\n",
       "      <td>Грузия</td>\n",
       "    </tr>\n",
       "    <tr>\n",
       "      <th>Туркменистан</th>\n",
       "      <td>31</td>\n",
       "      <td>Туркменистан</td>\n",
       "    </tr>\n",
       "  </tbody>\n",
       "</table>\n",
       "</div>"
      ],
      "text/plain": [
       "                Покупатель          Страна\n",
       "Страна                                    \n",
       "Россия               49545          Россия\n",
       "Иран                 36912            Иран\n",
       "Казахстан            21241       Казахстан\n",
       "Узбекистан            5902      Узбекистан\n",
       "Афганистан            4713      Афганистан\n",
       "Кыргызстан            2617      Кыргызстан\n",
       "Таджикистан           2430     Таджикистан\n",
       "Китай                 1762           Китай\n",
       "Азербайджан           1123     Азербайджан\n",
       "Украина               1119         Украина\n",
       "Ливан                  697           Ливан\n",
       "Пакистан               583        Пакистан\n",
       "Алжир                  288           Алжир\n",
       "Республ. Корея         171  Республ. Корея\n",
       "Беларусь               167        Беларусь\n",
       "Ирак                   119            Ирак\n",
       "Вьетнам                 50         Вьетнам\n",
       "Грузия                  48          Грузия\n",
       "Туркменистан            31    Туркменистан"
      ]
     },
     "metadata": {},
     "output_type": "display_data"
    }
   ],
   "source": [
    "df=data.groupby(['Страна']).agg({\n",
    "    'Покупатель':'count',\n",
    "    \n",
    "}).sort_values(\"Покупатель\", ascending=False)\n",
    "df['Страна'] = df.index\n",
    "display(df)\n"
   ]
  },
  {
   "cell_type": "code",
   "execution_count": 212,
   "id": "50be77af",
   "metadata": {},
   "outputs": [
    {
     "data": {
      "text/plain": [
       "Text(0.5, 1.0, 'Наибольшее количество клиентов по странам')"
      ]
     },
     "execution_count": 212,
     "metadata": {},
     "output_type": "execute_result"
    },
    {
     "data": {
      "image/png": "[encoded data removed]",
      "text/plain": [
       "<Figure size 864x432 with 1 Axes>"
      ]
     },
     "metadata": {
      "needs_background": "light"
     },
     "output_type": "display_data"
    }
   ],
   "source": [
    "fig = plt.figure(figsize=(12, 6))\n",
    "plt.subplot(1, 2, 1)\n",
    "plt.barh(df['Страна'], df['Покупатель'], align=\"center\")\n",
    "plt.yticks(df['Страна'])\n",
    "\n",
    "#\n",
    "\n",
    "plt.title(\"Наибольшее количество клиентов по странам\")"
   ]
  },
  {
   "cell_type": "markdown",
   "id": "d5b9f96b",
   "metadata": {},
   "source": [
    "Топ-3: Россия, Иран, Казахстан"
   ]
  },
  {
   "cell_type": "code",
   "execution_count": 213,
   "id": "39f748db",
   "metadata": {},
   "outputs": [
    {
     "data": {
      "text/html": [
       "<div>\n",
       "<style scoped>\n",
       "    .dataframe tbody tr th:only-of-type {\n",
       "        vertical-align: middle;\n",
       "    }\n",
       "\n",
       "    .dataframe tbody tr th {\n",
       "        vertical-align: top;\n",
       "    }\n",
       "\n",
       "    .dataframe thead th {\n",
       "        text-align: right;\n",
       "    }\n",
       "</style>\n",
       "<table border=\"1\" class=\"dataframe\">\n",
       "  <thead>\n",
       "    <tr style=\"text-align: right;\">\n",
       "      <th></th>\n",
       "      <th>Вес, т</th>\n",
       "      <th>Страна</th>\n",
       "    </tr>\n",
       "    <tr>\n",
       "      <th>Страна</th>\n",
       "      <th></th>\n",
       "      <th></th>\n",
       "    </tr>\n",
       "  </thead>\n",
       "  <tbody>\n",
       "    <tr>\n",
       "      <th>Россия</th>\n",
       "      <td>1.251947e+06</td>\n",
       "      <td>Россия</td>\n",
       "    </tr>\n",
       "    <tr>\n",
       "      <th>Иран</th>\n",
       "      <td>6.313185e+05</td>\n",
       "      <td>Иран</td>\n",
       "    </tr>\n",
       "    <tr>\n",
       "      <th>Казахстан</th>\n",
       "      <td>4.692179e+05</td>\n",
       "      <td>Казахстан</td>\n",
       "    </tr>\n",
       "    <tr>\n",
       "      <th>Узбекистан</th>\n",
       "      <td>1.602349e+05</td>\n",
       "      <td>Узбекистан</td>\n",
       "    </tr>\n",
       "    <tr>\n",
       "      <th>Афганистан</th>\n",
       "      <td>8.029483e+04</td>\n",
       "      <td>Афганистан</td>\n",
       "    </tr>\n",
       "    <tr>\n",
       "      <th>Таджикистан</th>\n",
       "      <td>7.488114e+04</td>\n",
       "      <td>Таджикистан</td>\n",
       "    </tr>\n",
       "    <tr>\n",
       "      <th>Кыргызстан</th>\n",
       "      <td>4.715272e+04</td>\n",
       "      <td>Кыргызстан</td>\n",
       "    </tr>\n",
       "    <tr>\n",
       "      <th>Азербайджан</th>\n",
       "      <td>2.844121e+04</td>\n",
       "      <td>Азербайджан</td>\n",
       "    </tr>\n",
       "    <tr>\n",
       "      <th>Украина</th>\n",
       "      <td>2.384198e+04</td>\n",
       "      <td>Украина</td>\n",
       "    </tr>\n",
       "    <tr>\n",
       "      <th>Китай</th>\n",
       "      <td>2.325835e+04</td>\n",
       "      <td>Китай</td>\n",
       "    </tr>\n",
       "    <tr>\n",
       "      <th>Пакистан</th>\n",
       "      <td>6.146592e+03</td>\n",
       "      <td>Пакистан</td>\n",
       "    </tr>\n",
       "    <tr>\n",
       "      <th>Алжир</th>\n",
       "      <td>5.196962e+03</td>\n",
       "      <td>Алжир</td>\n",
       "    </tr>\n",
       "    <tr>\n",
       "      <th>Беларусь</th>\n",
       "      <td>3.734515e+03</td>\n",
       "      <td>Беларусь</td>\n",
       "    </tr>\n",
       "    <tr>\n",
       "      <th>Ирак</th>\n",
       "      <td>3.164608e+03</td>\n",
       "      <td>Ирак</td>\n",
       "    </tr>\n",
       "    <tr>\n",
       "      <th>Ливан</th>\n",
       "      <td>2.378562e+03</td>\n",
       "      <td>Ливан</td>\n",
       "    </tr>\n",
       "    <tr>\n",
       "      <th>Вьетнам</th>\n",
       "      <td>1.709185e+03</td>\n",
       "      <td>Вьетнам</td>\n",
       "    </tr>\n",
       "    <tr>\n",
       "      <th>Грузия</th>\n",
       "      <td>1.168492e+03</td>\n",
       "      <td>Грузия</td>\n",
       "    </tr>\n",
       "    <tr>\n",
       "      <th>Туркменистан</th>\n",
       "      <td>7.017692e+02</td>\n",
       "      <td>Туркменистан</td>\n",
       "    </tr>\n",
       "    <tr>\n",
       "      <th>Республ. Корея</th>\n",
       "      <td>5.204385e+02</td>\n",
       "      <td>Республ. Корея</td>\n",
       "    </tr>\n",
       "  </tbody>\n",
       "</table>\n",
       "</div>"
      ],
      "text/plain": [
       "                      Вес, т          Страна\n",
       "Страна                                      \n",
       "Россия          1.251947e+06          Россия\n",
       "Иран            6.313185e+05            Иран\n",
       "Казахстан       4.692179e+05       Казахстан\n",
       "Узбекистан      1.602349e+05      Узбекистан\n",
       "Афганистан      8.029483e+04      Афганистан\n",
       "Таджикистан     7.488114e+04     Таджикистан\n",
       "Кыргызстан      4.715272e+04      Кыргызстан\n",
       "Азербайджан     2.844121e+04     Азербайджан\n",
       "Украина         2.384198e+04         Украина\n",
       "Китай           2.325835e+04           Китай\n",
       "Пакистан        6.146592e+03        Пакистан\n",
       "Алжир           5.196962e+03           Алжир\n",
       "Беларусь        3.734515e+03        Беларусь\n",
       "Ирак            3.164608e+03            Ирак\n",
       "Ливан           2.378562e+03           Ливан\n",
       "Вьетнам         1.709185e+03         Вьетнам\n",
       "Грузия          1.168492e+03          Грузия\n",
       "Туркменистан    7.017692e+02    Туркменистан\n",
       "Республ. Корея  5.204385e+02  Республ. Корея"
      ]
     },
     "metadata": {},
     "output_type": "display_data"
    }
   ],
   "source": [
    "df=data.groupby(['Страна']).agg({\n",
    "    'Вес, т':'sum',\n",
    "    \n",
    "}).sort_values(\"Вес, т\", ascending=False)\n",
    "df['Страна'] = df.index\n",
    "display(df)"
   ]
  },
  {
   "cell_type": "code",
   "execution_count": 214,
   "id": "e32615ef",
   "metadata": {},
   "outputs": [
    {
     "data": {
      "text/plain": [
       "Text(0.5, 1.0, 'Наибольший объём закупок по странам, тонн')"
      ]
     },
     "execution_count": 214,
     "metadata": {},
     "output_type": "execute_result"
    },
    {
     "data": {
      "image/png": "[encoded data removed]",
      "text/plain": [
       "<Figure size 864x432 with 1 Axes>"
      ]
     },
     "metadata": {
      "needs_background": "light"
     },
     "output_type": "display_data"
    }
   ],
   "source": [
    "fig = plt.figure(figsize=(12, 6))\n",
    "plt.subplot(1, 2, 1)\n",
    "plt.barh(df['Страна'], df['Вес, т'], align=\"center\")\n",
    "plt.yticks(df['Страна'])\n",
    "\n",
    "#\n",
    "\n",
    "plt.title(\"Наибольший объём закупок по странам, тонн\")"
   ]
  },
  {
   "cell_type": "markdown",
   "id": "017d18d9",
   "metadata": {},
   "source": [
    "Топ-3: Россия, Иран, Казахстан"
   ]
  },
  {
   "cell_type": "code",
   "execution_count": 215,
   "id": "a1d52288",
   "metadata": {},
   "outputs": [
    {
     "data": {
      "text/html": [
       "<div>\n",
       "<style scoped>\n",
       "    .dataframe tbody tr th:only-of-type {\n",
       "        vertical-align: middle;\n",
       "    }\n",
       "\n",
       "    .dataframe tbody tr th {\n",
       "        vertical-align: top;\n",
       "    }\n",
       "\n",
       "    .dataframe thead th {\n",
       "        text-align: right;\n",
       "    }\n",
       "</style>\n",
       "<table border=\"1\" class=\"dataframe\">\n",
       "  <thead>\n",
       "    <tr style=\"text-align: right;\">\n",
       "      <th></th>\n",
       "      <th>Ст-ть, usd</th>\n",
       "      <th>Страна</th>\n",
       "    </tr>\n",
       "    <tr>\n",
       "      <th>Страна</th>\n",
       "      <th></th>\n",
       "      <th></th>\n",
       "    </tr>\n",
       "  </thead>\n",
       "  <tbody>\n",
       "    <tr>\n",
       "      <th>Россия</th>\n",
       "      <td>1.391966e+09</td>\n",
       "      <td>Россия</td>\n",
       "    </tr>\n",
       "    <tr>\n",
       "      <th>Иран</th>\n",
       "      <td>7.072150e+08</td>\n",
       "      <td>Иран</td>\n",
       "    </tr>\n",
       "    <tr>\n",
       "      <th>Казахстан</th>\n",
       "      <td>5.926270e+08</td>\n",
       "      <td>Казахстан</td>\n",
       "    </tr>\n",
       "    <tr>\n",
       "      <th>Узбекистан</th>\n",
       "      <td>2.037795e+08</td>\n",
       "      <td>Узбекистан</td>\n",
       "    </tr>\n",
       "    <tr>\n",
       "      <th>Афганистан</th>\n",
       "      <td>1.049950e+08</td>\n",
       "      <td>Афганистан</td>\n",
       "    </tr>\n",
       "    <tr>\n",
       "      <th>Таджикистан</th>\n",
       "      <td>8.027599e+07</td>\n",
       "      <td>Таджикистан</td>\n",
       "    </tr>\n",
       "    <tr>\n",
       "      <th>Кыргызстан</th>\n",
       "      <td>6.423370e+07</td>\n",
       "      <td>Кыргызстан</td>\n",
       "    </tr>\n",
       "    <tr>\n",
       "      <th>Азербайджан</th>\n",
       "      <td>4.028228e+07</td>\n",
       "      <td>Азербайджан</td>\n",
       "    </tr>\n",
       "    <tr>\n",
       "      <th>Украина</th>\n",
       "      <td>3.405217e+07</td>\n",
       "      <td>Украина</td>\n",
       "    </tr>\n",
       "    <tr>\n",
       "      <th>Китай</th>\n",
       "      <td>2.170508e+07</td>\n",
       "      <td>Китай</td>\n",
       "    </tr>\n",
       "    <tr>\n",
       "      <th>Пакистан</th>\n",
       "      <td>7.225987e+06</td>\n",
       "      <td>Пакистан</td>\n",
       "    </tr>\n",
       "    <tr>\n",
       "      <th>Алжир</th>\n",
       "      <td>4.822919e+06</td>\n",
       "      <td>Алжир</td>\n",
       "    </tr>\n",
       "    <tr>\n",
       "      <th>Беларусь</th>\n",
       "      <td>4.633740e+06</td>\n",
       "      <td>Беларусь</td>\n",
       "    </tr>\n",
       "    <tr>\n",
       "      <th>Ирак</th>\n",
       "      <td>3.703533e+06</td>\n",
       "      <td>Ирак</td>\n",
       "    </tr>\n",
       "    <tr>\n",
       "      <th>Ливан</th>\n",
       "      <td>3.153973e+06</td>\n",
       "      <td>Ливан</td>\n",
       "    </tr>\n",
       "    <tr>\n",
       "      <th>Грузия</th>\n",
       "      <td>1.757855e+06</td>\n",
       "      <td>Грузия</td>\n",
       "    </tr>\n",
       "    <tr>\n",
       "      <th>Вьетнам</th>\n",
       "      <td>1.405155e+06</td>\n",
       "      <td>Вьетнам</td>\n",
       "    </tr>\n",
       "    <tr>\n",
       "      <th>Туркменистан</th>\n",
       "      <td>1.058320e+06</td>\n",
       "      <td>Туркменистан</td>\n",
       "    </tr>\n",
       "    <tr>\n",
       "      <th>Республ. Корея</th>\n",
       "      <td>4.485659e+05</td>\n",
       "      <td>Республ. Корея</td>\n",
       "    </tr>\n",
       "  </tbody>\n",
       "</table>\n",
       "</div>"
      ],
      "text/plain": [
       "                  Ст-ть, usd          Страна\n",
       "Страна                                      \n",
       "Россия          1.391966e+09          Россия\n",
       "Иран            7.072150e+08            Иран\n",
       "Казахстан       5.926270e+08       Казахстан\n",
       "Узбекистан      2.037795e+08      Узбекистан\n",
       "Афганистан      1.049950e+08      Афганистан\n",
       "Таджикистан     8.027599e+07     Таджикистан\n",
       "Кыргызстан      6.423370e+07      Кыргызстан\n",
       "Азербайджан     4.028228e+07     Азербайджан\n",
       "Украина         3.405217e+07         Украина\n",
       "Китай           2.170508e+07           Китай\n",
       "Пакистан        7.225987e+06        Пакистан\n",
       "Алжир           4.822919e+06           Алжир\n",
       "Беларусь        4.633740e+06        Беларусь\n",
       "Ирак            3.703533e+06            Ирак\n",
       "Ливан           3.153973e+06           Ливан\n",
       "Грузия          1.757855e+06          Грузия\n",
       "Вьетнам         1.405155e+06         Вьетнам\n",
       "Туркменистан    1.058320e+06    Туркменистан\n",
       "Республ. Корея  4.485659e+05  Республ. Корея"
      ]
     },
     "metadata": {},
     "output_type": "display_data"
    }
   ],
   "source": [
    "df=data.groupby(['Страна']).agg({\n",
    "    'Ст-ть, usd':'sum',\n",
    "    \n",
    "}).sort_values(\"Ст-ть, usd\", ascending=False)\n",
    "df['Страна'] = df.index\n",
    "display(df)"
   ]
  },
  {
   "cell_type": "code",
   "execution_count": 216,
   "id": "322e4502",
   "metadata": {},
   "outputs": [
    {
     "data": {
      "text/plain": [
       "Text(0.5, 1.0, 'Наибольший объём выручки по странам, usd')"
      ]
     },
     "execution_count": 216,
     "metadata": {},
     "output_type": "execute_result"
    },
    {
     "data": {
      "image/png": "[encoded data removed]",
      "text/plain": [
       "<Figure size 864x432 with 1 Axes>"
      ]
     },
     "metadata": {
      "needs_background": "light"
     },
     "output_type": "display_data"
    }
   ],
   "source": [
    "fig = plt.figure(figsize=(12, 6))\n",
    "plt.subplot(1, 2, 1)\n",
    "plt.barh(df['Страна'], df['Ст-ть, usd'], align=\"center\")\n",
    "plt.yticks(df['Страна'])\n",
    "\n",
    "#\n",
    "\n",
    "plt.title(\"Наибольший объём выручки по странам, usd\")"
   ]
  },
  {
   "cell_type": "markdown",
   "id": "086c75d4",
   "metadata": {},
   "source": [
    "Топ-3: Россия, Иран, Казахстан"
   ]
  },
  {
   "cell_type": "markdown",
   "id": "7563dce4",
   "metadata": {},
   "source": [
    "Добавим в таблицу с транзакциями признаки месяца\n",
    "\n",
    "Построим визуализацию, отражающую распределение суммарной выручки от заказов по месяцам"
   ]
  },
  {
   "cell_type": "code",
   "execution_count": 217,
   "id": "27a33fb0",
   "metadata": {},
   "outputs": [],
   "source": [
    "data['Месяц поставки'] = pd.to_datetime(data['Дата поставки']).dt.month"
   ]
  },
  {
   "cell_type": "code",
   "execution_count": 218,
   "id": "73d25c77",
   "metadata": {},
   "outputs": [
    {
     "data": {
      "image/png": "[encoded data removed]",
      "text/plain": [
       "<Figure size 432x288 with 1 Axes>"
      ]
     },
     "metadata": {
      "needs_background": "light"
     },
     "output_type": "display_data"
    }
   ],
   "source": [
    "fig, ax = plt.subplots()\n",
    "\n",
    "months = ['Jan', 'Feb', 'Mar', 'Apr', 'May', 'Jun', 'Jul', 'Aug',\n",
    "          'Sep', 'Oct', 'Nov', 'Dec']  # data3[purchase_month'].unique()\n",
    "counts = data.groupby(['Месяц поставки'])['Ст-ть, usd'].sum()\n",
    "bar_labels = data['Месяц поставки'].unique()\n",
    "bar_colors = ['tab:red', 'tab:blue', 'tab:cyan',\n",
    "              'tab:orange', 'tab:grey', 'tab:green', 'tab:red']\n",
    "\n",
    "ax.bar(months, counts, label=bar_labels, color=bar_colors)\n",
    "\n",
    "ax.set_ylabel('Выручка')\n",
    "ax.set_title('Выручка в месяц')\n",
    "#ax.legend(title='day color')\n",
    "\n",
    "plt.show()"
   ]
  },
  {
   "cell_type": "markdown",
   "id": "6f1ae27e",
   "metadata": {},
   "source": [
    "4 - номер самого прибыльного для компании месяца, затем 5. Покупатели в апреле-мае увеличивают закупки для того, чтобы создать запас перед летним сезоном"
   ]
  },
  {
   "cell_type": "code",
   "execution_count": 219,
   "id": "3240dfd5",
   "metadata": {},
   "outputs": [
    {
     "data": {
      "text/plain": [
       "Наименование товара\n",
       "HRC      961745.476923\n",
       "CRC      552059.115385\n",
       "HDGC     399314.715385\n",
       "REBAR    319100.667692\n",
       "HRS      293813.369231\n",
       "CRS      110347.569231\n",
       "PPGI      81881.230769\n",
       "TPS       39604.469231\n",
       "TPC       26119.007692\n",
       "CRNC       6751.576923\n",
       "BPC        6287.330769\n",
       "CVC        4975.730769\n",
       "HDGS       4775.238462\n",
       "HRNC       4010.461538\n",
       "H_CBL      2567.096923\n",
       "HDGP       1152.661538\n",
       "ROUND       371.163077\n",
       "SCRAP       175.815385\n",
       "CVS         142.569231\n",
       "NONCD        67.846154\n",
       "PPGIP        36.003846\n",
       "STR          10.776923\n",
       "Name: Вес, т, dtype: float64"
      ]
     },
     "execution_count": 219,
     "metadata": {},
     "output_type": "execute_result"
    }
   ],
   "source": [
    "data.groupby(['Наименование товара'])['Вес, т'].sum().sort_values(ascending=False)"
   ]
  },
  {
   "cell_type": "code",
   "execution_count": 220,
   "id": "f87cc563",
   "metadata": {},
   "outputs": [
    {
     "data": {
      "text/html": [
       "<div>\n",
       "<style scoped>\n",
       "    .dataframe tbody tr th:only-of-type {\n",
       "        vertical-align: middle;\n",
       "    }\n",
       "\n",
       "    .dataframe tbody tr th {\n",
       "        vertical-align: top;\n",
       "    }\n",
       "\n",
       "    .dataframe thead th {\n",
       "        text-align: right;\n",
       "    }\n",
       "</style>\n",
       "<table border=\"1\" class=\"dataframe\">\n",
       "  <thead>\n",
       "    <tr style=\"text-align: right;\">\n",
       "      <th></th>\n",
       "      <th>Наименование товара</th>\n",
       "      <th>Месяц поставки</th>\n",
       "      <th>месячный объём</th>\n",
       "    </tr>\n",
       "  </thead>\n",
       "  <tbody>\n",
       "    <tr>\n",
       "      <th>6</th>\n",
       "      <td>CRC</td>\n",
       "      <td>1</td>\n",
       "      <td>36516.453846</td>\n",
       "    </tr>\n",
       "    <tr>\n",
       "      <th>7</th>\n",
       "      <td>CRC</td>\n",
       "      <td>2</td>\n",
       "      <td>29399.038462</td>\n",
       "    </tr>\n",
       "    <tr>\n",
       "      <th>8</th>\n",
       "      <td>CRC</td>\n",
       "      <td>3</td>\n",
       "      <td>47429.976923</td>\n",
       "    </tr>\n",
       "    <tr>\n",
       "      <th>9</th>\n",
       "      <td>CRC</td>\n",
       "      <td>4</td>\n",
       "      <td>53284.246154</td>\n",
       "    </tr>\n",
       "    <tr>\n",
       "      <th>10</th>\n",
       "      <td>CRC</td>\n",
       "      <td>5</td>\n",
       "      <td>54159.800000</td>\n",
       "    </tr>\n",
       "  </tbody>\n",
       "</table>\n",
       "</div>"
      ],
      "text/plain": [
       "   Наименование товара  Месяц поставки  месячный объём\n",
       "6                  CRC               1    36516.453846\n",
       "7                  CRC               2    29399.038462\n",
       "8                  CRC               3    47429.976923\n",
       "9                  CRC               4    53284.246154\n",
       "10                 CRC               5    54159.800000"
      ]
     },
     "execution_count": 220,
     "metadata": {},
     "output_type": "execute_result"
    }
   ],
   "source": [
    "pivot_table = data.groupby(['Наименование товара','Месяц поставки']).agg({\n",
    "    'Вес, т':'sum',\n",
    "    \n",
    "  \n",
    "}).reset_index().rename(columns={'Вес, т': 'месячный объём'})\n",
    "\n",
    "pivot_table=pivot_table[pivot_table['месячный объём']>10000]\n",
    "pivot_table.head()"
   ]
  },
  {
   "cell_type": "code",
   "execution_count": 221,
   "id": "7010233c",
   "metadata": {},
   "outputs": [
    {
     "data": {
      "image/png": "[encoded data removed]",
      "text/plain": [
       "<Figure size 576x288 with 1 Axes>"
      ]
     },
     "metadata": {
      "needs_background": "light"
     },
     "output_type": "display_data"
    }
   ],
   "source": [
    "# создаём фигуру размером 8x4\n",
    "fig = plt.figure(figsize=(8, 4))\n",
    "# добавляем систему координат\n",
    "ax = fig.add_axes([1, 1, 1, 1])\n",
    "# строим lineplot для покупательской способности в каждой группе\n",
    "sns.lineplot(x='Месяц поставки', y='месячный объём', data=pivot_table, hue='Наименование товара', ax=ax)\n",
    "# задаём подпись к графику\n",
    "ax.set_title('Сезонность в видах товара')\n",
    "# задаём поворот меток на оси абсцисс\n",
    "ax.xaxis.set_tick_params(rotation = 45)\n",
    "# задаём отображение сетки\n",
    "ax.grid(True);"
   ]
  },
  {
   "cell_type": "markdown",
   "id": "79aee184",
   "metadata": {},
   "source": [
    "Среди самых объёмных видов товара сезонность отсутствует в CRS - холоднокатанный лист, ярче всего выражена в HRC, CRC, далее по убыванию в HDGC, HRS, REBAR. HRC, CRC покупают заводы, производящие трубу, которая затем используется в строительстве, которое очень активно в летние месяцы. REBAR - арматура тоже для строительства. HDGC - горячеоцинкованный рулон для производства заборов, крыш, вентиляции, окон, сендвич-панелей- все для строительства. Февраль традиционно самый \"провальный месяц\", далее рынок оживляется, покупатели строят стоки для активной работы в летний сезон."
   ]
  },
  {
   "cell_type": "code",
   "execution_count": 745,
   "id": "80129258",
   "metadata": {},
   "outputs": [
    {
     "data": {
      "text/html": [
       "<div>\n",
       "<style scoped>\n",
       "    .dataframe tbody tr th:only-of-type {\n",
       "        vertical-align: middle;\n",
       "    }\n",
       "\n",
       "    .dataframe tbody tr th {\n",
       "        vertical-align: top;\n",
       "    }\n",
       "\n",
       "    .dataframe thead th {\n",
       "        text-align: right;\n",
       "    }\n",
       "</style>\n",
       "<table border=\"1\" class=\"dataframe\">\n",
       "  <thead>\n",
       "    <tr style=\"text-align: right;\">\n",
       "      <th></th>\n",
       "      <th>Дата поставки</th>\n",
       "      <th>Наименование товара</th>\n",
       "      <th>Вес, т</th>\n",
       "      <th>Ст-ть, usd</th>\n",
       "      <th>Страна</th>\n",
       "      <th>Покупатель</th>\n",
       "      <th>Цена за тонну</th>\n",
       "    </tr>\n",
       "  </thead>\n",
       "  <tbody>\n",
       "    <tr>\n",
       "      <th>32283</th>\n",
       "      <td>2017-01-10</td>\n",
       "      <td>HRS</td>\n",
       "      <td>47.692308</td>\n",
       "      <td>39543.173</td>\n",
       "      <td>Иран</td>\n",
       "      <td>174</td>\n",
       "      <td>829.131047</td>\n",
       "    </tr>\n",
       "  </tbody>\n",
       "</table>\n",
       "</div>"
      ],
      "text/plain": [
       "      Дата поставки Наименование товара     Вес, т  Ст-ть, usd Страна   \n",
       "32283    2017-01-10                 HRS  47.692308   39543.173   Иран  \\\n",
       "\n",
       "       Покупатель  Цена за тонну  \n",
       "32283         174     829.131047  "
      ]
     },
     "execution_count": 745,
     "metadata": {},
     "output_type": "execute_result"
    }
   ],
   "source": [
    "data.head(1)"
   ]
  },
  {
   "cell_type": "markdown",
   "id": "c8f1578d",
   "metadata": {},
   "source": [
    "RFM-сегментация клиентов: часть 1"
   ]
  },
  {
   "cell_type": "markdown",
   "id": "c5ce4175",
   "metadata": {},
   "source": [
    "Cформируем признаки, на основе которых мы будем производить сегментацию клиентов по методу RFM.\n",
    "\n",
    "\n",
    "Сгруппируем клиентов на основе следующих параметров:\n",
    "\n",
    "Recency (Давность) — давность последней покупки клиента;\n",
    "Frequency (Частота) — общее количество покупок клиента;\n",
    "Monetary Value (Денежная ценность) — сколько денег потратил клиент."
   ]
  },
  {
   "cell_type": "code",
   "execution_count": 747,
   "id": "14f50ef9",
   "metadata": {},
   "outputs": [],
   "source": [
    "import math\n",
    "data['zero_date'] = '2016-12-31 00:00:00'\n",
    "data['Recency'] = (pd.to_datetime(data['Дата поставки'])-pd.to_datetime(\n",
    "    data['zero_date'])).apply(lambda x: math.floor(x / np.timedelta64(1, 'D')))"
   ]
  },
  {
   "cell_type": "code",
   "execution_count": 835,
   "id": "7e22ba4e",
   "metadata": {},
   "outputs": [
    {
     "data": {
      "text/html": [
       "<div>\n",
       "<style scoped>\n",
       "    .dataframe tbody tr th:only-of-type {\n",
       "        vertical-align: middle;\n",
       "    }\n",
       "\n",
       "    .dataframe tbody tr th {\n",
       "        vertical-align: top;\n",
       "    }\n",
       "\n",
       "    .dataframe thead th {\n",
       "        text-align: right;\n",
       "    }\n",
       "</style>\n",
       "<table border=\"1\" class=\"dataframe\">\n",
       "  <thead>\n",
       "    <tr style=\"text-align: right;\">\n",
       "      <th></th>\n",
       "      <th>Дата поставки</th>\n",
       "      <th>Наименование товара</th>\n",
       "      <th>Вес, т</th>\n",
       "      <th>Ст-ть, usd</th>\n",
       "      <th>Страна</th>\n",
       "      <th>Покупатель</th>\n",
       "      <th>Цена за тонну</th>\n",
       "      <th>zero_date</th>\n",
       "      <th>Recency</th>\n",
       "    </tr>\n",
       "  </thead>\n",
       "  <tbody>\n",
       "    <tr>\n",
       "      <th>32283</th>\n",
       "      <td>2017-01-10</td>\n",
       "      <td>HRS</td>\n",
       "      <td>47.692308</td>\n",
       "      <td>39543.173</td>\n",
       "      <td>Иран</td>\n",
       "      <td>174</td>\n",
       "      <td>829.131047</td>\n",
       "      <td>2016-12-31 00:00:00</td>\n",
       "      <td>10</td>\n",
       "    </tr>\n",
       "  </tbody>\n",
       "</table>\n",
       "</div>"
      ],
      "text/plain": [
       "      Дата поставки Наименование товара     Вес, т  Ст-ть, usd Страна   \n",
       "32283    2017-01-10                 HRS  47.692308   39543.173   Иран  \\\n",
       "\n",
       "       Покупатель  Цена за тонну            zero_date  Recency  \n",
       "32283         174     829.131047  2016-12-31 00:00:00       10  "
      ]
     },
     "execution_count": 835,
     "metadata": {},
     "output_type": "execute_result"
    }
   ],
   "source": [
    "data.head(1)"
   ]
  },
  {
   "cell_type": "code",
   "execution_count": 836,
   "id": "d69763d0",
   "metadata": {},
   "outputs": [
    {
     "data": {
      "text/html": [
       "<div>\n",
       "<style scoped>\n",
       "    .dataframe tbody tr th:only-of-type {\n",
       "        vertical-align: middle;\n",
       "    }\n",
       "\n",
       "    .dataframe tbody tr th {\n",
       "        vertical-align: top;\n",
       "    }\n",
       "\n",
       "    .dataframe thead th {\n",
       "        text-align: right;\n",
       "    }\n",
       "</style>\n",
       "<table border=\"1\" class=\"dataframe\">\n",
       "  <thead>\n",
       "    <tr style=\"text-align: right;\">\n",
       "      <th></th>\n",
       "      <th>Monetary_Value</th>\n",
       "      <th>Recency</th>\n",
       "      <th>Frequency</th>\n",
       "    </tr>\n",
       "    <tr>\n",
       "      <th>Покупатель</th>\n",
       "      <th></th>\n",
       "      <th></th>\n",
       "      <th></th>\n",
       "    </tr>\n",
       "  </thead>\n",
       "  <tbody>\n",
       "    <tr>\n",
       "      <th>1</th>\n",
       "      <td>59034.319</td>\n",
       "      <td>9</td>\n",
       "      <td>1</td>\n",
       "    </tr>\n",
       "    <tr>\n",
       "      <th>2</th>\n",
       "      <td>1009600.709</td>\n",
       "      <td>4</td>\n",
       "      <td>17</td>\n",
       "    </tr>\n",
       "    <tr>\n",
       "      <th>3</th>\n",
       "      <td>126156.133</td>\n",
       "      <td>67</td>\n",
       "      <td>1</td>\n",
       "    </tr>\n",
       "    <tr>\n",
       "      <th>4</th>\n",
       "      <td>313714.277</td>\n",
       "      <td>259</td>\n",
       "      <td>5</td>\n",
       "    </tr>\n",
       "    <tr>\n",
       "      <th>5</th>\n",
       "      <td>1079512.053</td>\n",
       "      <td>15</td>\n",
       "      <td>12</td>\n",
       "    </tr>\n",
       "    <tr>\n",
       "      <th>...</th>\n",
       "      <td>...</td>\n",
       "      <td>...</td>\n",
       "      <td>...</td>\n",
       "    </tr>\n",
       "    <tr>\n",
       "      <th>379</th>\n",
       "      <td>111792.884</td>\n",
       "      <td>225</td>\n",
       "      <td>2</td>\n",
       "    </tr>\n",
       "    <tr>\n",
       "      <th>380</th>\n",
       "      <td>222306.025</td>\n",
       "      <td>306</td>\n",
       "      <td>3</td>\n",
       "    </tr>\n",
       "    <tr>\n",
       "      <th>381</th>\n",
       "      <td>4334542.173</td>\n",
       "      <td>84</td>\n",
       "      <td>26</td>\n",
       "    </tr>\n",
       "    <tr>\n",
       "      <th>382</th>\n",
       "      <td>2901079.903</td>\n",
       "      <td>74</td>\n",
       "      <td>13</td>\n",
       "    </tr>\n",
       "    <tr>\n",
       "      <th>383</th>\n",
       "      <td>140906.540</td>\n",
       "      <td>154</td>\n",
       "      <td>2</td>\n",
       "    </tr>\n",
       "  </tbody>\n",
       "</table>\n",
       "<p>372 rows × 3 columns</p>\n",
       "</div>"
      ],
      "text/plain": [
       "            Monetary_Value  Recency  Frequency\n",
       "Покупатель                                    \n",
       "1                59034.319        9          1\n",
       "2              1009600.709        4         17\n",
       "3               126156.133       67          1\n",
       "4               313714.277      259          5\n",
       "5              1079512.053       15         12\n",
       "...                    ...      ...        ...\n",
       "379             111792.884      225          2\n",
       "380             222306.025      306          3\n",
       "381            4334542.173       84         26\n",
       "382            2901079.903       74         13\n",
       "383             140906.540      154          2\n",
       "\n",
       "[372 rows x 3 columns]"
      ]
     },
     "execution_count": 836,
     "metadata": {},
     "output_type": "execute_result"
    }
   ],
   "source": [
    "rfm = data.groupby(['Покупатель']).agg(\n",
    "    Monetary_Value=pd.NamedAgg(column='Ст-ть, usd', aggfunc='sum'),\n",
    "    Recency=pd.NamedAgg(column='Recency', aggfunc='min'),\n",
    "    Frequency=pd.NamedAgg(column=\"Дата поставки\", aggfunc='nunique'),\n",
    "\n",
    ")\n",
    "rfm"
   ]
  },
  {
   "cell_type": "markdown",
   "id": "58b983d0",
   "metadata": {},
   "source": [
    "Посмотрим сколько клиентов совершили покупку более 200 дней назад?\n",
    "Сколько заказов в среднем делает клиент (за представленный годовой период)? Ответ округлим до целого числа.\n",
    "\n"
   ]
  },
  {
   "cell_type": "code",
   "execution_count": 837,
   "id": "8f491f28",
   "metadata": {},
   "outputs": [
    {
     "data": {
      "text/plain": [
       "78"
      ]
     },
     "execution_count": 837,
     "metadata": {},
     "output_type": "execute_result"
    }
   ],
   "source": [
    "rfm[(rfm['Recency'] > 200)].count()[0]\n"
   ]
  },
  {
   "cell_type": "code",
   "execution_count": 838,
   "id": "cc1b678d",
   "metadata": {},
   "outputs": [
    {
     "data": {
      "text/plain": [
       "34.0"
      ]
     },
     "execution_count": 838,
     "metadata": {},
     "output_type": "execute_result"
    }
   ],
   "source": [
    "round(rfm['Frequency'].mean(), 0)"
   ]
  },
  {
   "cell_type": "markdown",
   "id": "f032627a",
   "metadata": {},
   "source": [
    "Строим коробчатые диаграммы для каждого из признаков:"
   ]
  },
  {
   "cell_type": "code",
   "execution_count": 839,
   "id": "e17c22a7",
   "metadata": {},
   "outputs": [
    {
     "data": {
      "application/vnd.plotly.v1+json": {
       "config": {
        "plotlyServerURL": "https://plot.ly"
       },
       "data": [
        {
         "alignmentgroup": "True",
         "hovertemplate": "Monetary_Value=%{x}<extra></extra>",
         "legendgroup": "",
         "marker": {
          "color": "#636efa"
         },
         "name": "",
         "notched": false,
         "offsetgroup": "",
         "orientation": "h",
         "showlegend": false,
         "type": "box",
         "x": [
          59034.319,
          1009600.709,
          126156.133,
          313714.277,
          1079512.053,
          102630.95499999999,
          1628703.258,
          5170552.074,
          476297.143,
          6563657.568,
          647882.3589999999,
          3409336.604,
          182643.631,
          158470.413,
          638901.497,
          1712878.265,
          718318.51,
          100482.24,
          11363759.48,
          162702.019,
          195664.696,
          4110733.875,
          1389255.402,
          71162.85,
          1772692.187,
          1959037.721,
          89471.51,
          381272.702,
          606108.565,
          618801.292,
          561377.8589999999,
          164964.32799999998,
          200163.321,
          2222585.406,
          279291.06200000003,
          982203.186,
          631914.395,
          1485986.184,
          15652619.032,
          350736.809,
          34376125.391,
          3552093.764,
          1606697.064,
          292135.429,
          52358.555,
          1620194.044,
          1918616.838,
          50644.972,
          216377.63199999998,
          156405.64399999997,
          5320324.896,
          1015101.858,
          8382071.782,
          374567.63,
          383528.092,
          19407522.966,
          74873.61,
          30778204.829,
          6050406.947,
          56407.88699999999,
          1021566.669,
          121873.357,
          4527596.519,
          258231.054,
          192589.685,
          94660.47099999999,
          304526.25299999997,
          10043388.979,
          12012256.78,
          21726033.099,
          2401587.722,
          2185590.856,
          142.953,
          139715.86,
          206531.164,
          51632445.441,
          165633.686,
          77457620.76099999,
          2338984.729,
          97644700.691,
          537401.11,
          984454.853,
          10947817.08,
          10310263.496,
          1428792.608,
          1446043.868,
          1855045.355,
          167466.456,
          806219.237,
          13116812.689,
          26724728.858,
          175785.848,
          526239.335,
          167712549.649,
          4291115.911,
          77080.788,
          312576.82399999996,
          20730451.015,
          275132.709,
          76588123.461,
          6223746.92,
          17738.531,
          100227.75,
          9649810.215,
          4370340.195,
          217.328,
          7413083.58,
          169662.465,
          1683820.896,
          98050.118,
          376307.563,
          23910113.471,
          2625217.962,
          1289051.9109999998,
          2061127.974,
          246444.74999999997,
          1773831.493,
          51.374,
          116896.48800000001,
          2081345.972,
          187315.554,
          1233071.472,
          62348.707,
          905951.335,
          701906.319,
          7978680.227,
          2237406.822,
          13243859.078,
          1831920.136,
          218786.141,
          35590220.052,
          373410.627,
          12881695.345,
          204566.695,
          7620730.25,
          706907.532,
          584985.912,
          511944.613,
          11820889.718,
          195996.009,
          5271432.352,
          2228626.9,
          2482609.994,
          2949585.5779999997,
          1044326.201,
          76838.657,
          104598.29699999999,
          156342.67599999998,
          1037282.863,
          5372842.027,
          4579459.626,
          7986355.574,
          220257.27000000002,
          12471120.168,
          1150860.237,
          137001.589,
          382267.712,
          60411.591,
          1441955.317,
          2495716.025,
          55186035.783,
          189890.83299999998,
          2850768.42,
          311015936.037,
          23573536.948,
          9796834.936,
          366770.529,
          994244.0819999999,
          11495877.275,
          275558.95,
          25164617.268,
          2001598.462,
          852673593.791,
          142435.044,
          288549.602,
          904067.191,
          193889.59,
          6106312.739,
          253964.071,
          13399966.219,
          3181672.145,
          2700927.887,
          1022785.45,
          1929562.339,
          1533299.428,
          81669.105,
          1194433.736,
          278942.05199999997,
          221551.00400000002,
          161529.393,
          4694759.3719999995,
          3360223.23,
          81920.773,
          3326709.821,
          2410636.057,
          628696.329,
          3938896.702,
          367628.213,
          375345.431,
          94888.88299999999,
          397585.885,
          108211.868,
          198173.063,
          293456.771,
          18463166.812,
          1854691.16,
          256092.709,
          753687.095,
          861535.35,
          249739.962,
          5951806.726,
          4468981.879,
          1428884.561,
          1887807.806,
          3865853.346,
          7599375.275,
          1248733.6739999999,
          272950.13,
          61979.79,
          1459455.712,
          606524.13,
          1610304.277,
          585822.125,
          3489287.383,
          2288001.61,
          2432035.215,
          574802.368,
          264345.206,
          7405227.098,
          8772150.569,
          993956.1869999999,
          895982.773,
          790868.322,
          13633379.33,
          3217658.714,
          76265.332,
          6468722.632,
          3611217.35,
          3567574.8649999998,
          1049858.086,
          74700.04,
          8866357.157,
          54805.824,
          425692.036,
          145233.89,
          210093.61599999998,
          76073.572,
          2477635.641,
          120761.82899999998,
          80128.905,
          2003079.808,
          217164.494,
          3750422.836,
          10555331.943,
          108439.974,
          7349392.620999999,
          2125064.26,
          172755.7,
          286789.32,
          16867660.151,
          207203.956,
          16875477.397,
          102433.534,
          1878613.9679999999,
          941090.505,
          631811.647,
          106132.90400000001,
          147385.886,
          2487369.4159999997,
          23561373.023,
          24552288.131,
          3001308.0609999998,
          2892381.003,
          517945.035,
          657798.1869999999,
          5394239.433999999,
          1622443.28,
          3000616.246,
          78.013,
          3481813.86,
          69945718.034,
          140709.62900000002,
          1460754.988,
          14294437.386,
          362274.794,
          488179.871,
          84206.185,
          2516937.04,
          1266610.959,
          300721.891,
          527603.602,
          4822883.272,
          1306305.568,
          14365356.711,
          518066.823,
          14641001.018,
          4995095.482,
          719410.488,
          3896098.369,
          2281844.108,
          219844.476,
          326483.521,
          1546555.6709999999,
          13075944.757,
          22820424.3,
          2419833.057,
          64076.297999999995,
          238543.133,
          40118645.185,
          484048.02099999995,
          912444.876,
          478009.519,
          853150.236,
          596048.424,
          639413.537,
          26921286.785,
          7987.279999999999,
          1015767.68,
          268469.848,
          372552.093,
          152496.358,
          55167.55,
          93985.74100000001,
          4701322.545,
          11865562.454,
          2819164.961,
          6089001.197,
          2859296.351,
          38488808.503,
          54136.891,
          5083584.987,
          1239283.374,
          93271594.698,
          108692.57699999999,
          59470.96399999999,
          4060430.841,
          87412.57199999999,
          244716.36000000002,
          4553430.263,
          1747360.334,
          50590614.993,
          114159.114,
          14325.305,
          408770.695,
          77369.261,
          1966941.378,
          7895040.941,
          118788.707,
          8969.777999999998,
          10283915.57,
          1558723.353,
          293090.999,
          87727223.385,
          90322.41100000001,
          19142843.251,
          2312170.867,
          1093642.555,
          4417632.036,
          1816227.1979999999,
          203886.117,
          51299.965,
          221199.716,
          55756.770000000004,
          5779247.121,
          384432.339,
          351269.725,
          725511.448,
          111792.884,
          222306.025,
          4334542.1729999995,
          2901079.903,
          140906.53999999998
         ],
         "x0": " ",
         "xaxis": "x",
         "y0": " ",
         "yaxis": "y"
        },
        {
         "alignmentgroup": "True",
         "hovertemplate": "Recency=%{x}<extra></extra>",
         "legendgroup": "",
         "marker": {
          "color": "#636efa"
         },
         "name": "",
         "notched": false,
         "offsetgroup": "",
         "orientation": "h",
         "showlegend": false,
         "type": "box",
         "x": [
          9,
          4,
          67,
          259,
          15,
          31,
          107,
          4,
          277,
          20,
          14,
          241,
          79,
          220,
          30,
          46,
          64,
          326,
          3,
          307,
          9,
          2,
          220,
          111,
          182,
          19,
          248,
          70,
          74,
          233,
          139,
          222,
          227,
          171,
          26,
          24,
          311,
          2,
          12,
          28,
          1,
          156,
          288,
          146,
          146,
          7,
          47,
          194,
          45,
          61,
          66,
          168,
          5,
          45,
          15,
          1,
          335,
          1,
          5,
          62,
          81,
          292,
          218,
          307,
          309,
          19,
          79,
          71,
          202,
          1,
          36,
          14,
          208,
          179,
          38,
          1,
          73,
          1,
          231,
          79,
          31,
          56,
          3,
          1,
          46,
          27,
          168,
          172,
          48,
          1,
          3,
          123,
          214,
          1,
          206,
          275,
          175,
          14,
          174,
          1,
          1,
          349,
          128,
          11,
          11,
          290,
          6,
          120,
          6,
          243,
          148,
          10,
          55,
          198,
          248,
          61,
          16,
          106,
          131,
          30,
          222,
          213,
          34,
          336,
          228,
          130,
          24,
          45,
          11,
          21,
          3,
          82,
          4,
          164,
          8,
          57,
          69,
          9,
          3,
          83,
          6,
          285,
          1,
          130,
          45,
          20,
          148,
          335,
          90,
          19,
          180,
          242,
          15,
          136,
          10,
          111,
          15,
          143,
          1,
          28,
          1,
          17,
          8,
          1,
          1,
          2,
          87,
          282,
          2,
          15,
          1,
          2,
          1,
          299,
          62,
          127,
          126,
          2,
          24,
          25,
          318,
          10,
          96,
          8,
          11,
          138,
          77,
          8,
          58,
          232,
          24,
          80,
          128,
          18,
          15,
          69,
          25,
          30,
          5,
          149,
          277,
          290,
          1,
          240,
          38,
          31,
          222,
          48,
          185,
          67,
          233,
          275,
          5,
          253,
          345,
          12,
          21,
          213,
          170,
          103,
          13,
          2,
          293,
          14,
          312,
          16,
          116,
          364,
          88,
          1,
          163,
          42,
          107,
          2,
          240,
          40,
          1,
          56,
          85,
          169,
          331,
          211,
          13,
          87,
          60,
          76,
          10,
          62,
          55,
          76,
          170,
          12,
          11,
          21,
          112,
          145,
          8,
          72,
          349,
          33,
          248,
          2,
          123,
          314,
          19,
          150,
          179,
          15,
          97,
          1,
          1,
          65,
          13,
          103,
          4,
          11,
          283,
          200,
          340,
          2,
          1,
          355,
          1,
          2,
          197,
          35,
          179,
          45,
          82,
          124,
          128,
          75,
          62,
          1,
          335,
          1,
          18,
          19,
          92,
          38,
          107,
          224,
          15,
          77,
          11,
          328,
          256,
          143,
          1,
          154,
          221,
          152,
          77,
          27,
          88,
          1,
          272,
          181,
          44,
          14,
          308,
          52,
          207,
          28,
          4,
          10,
          2,
          38,
          1,
          27,
          26,
          147,
          1,
          202,
          54,
          1,
          63,
          90,
          115,
          28,
          2,
          90,
          257,
          304,
          124,
          191,
          57,
          360,
          74,
          111,
          6,
          48,
          1,
          95,
          2,
          18,
          8,
          79,
          42,
          169,
          256,
          262,
          33,
          107,
          268,
          75,
          277,
          225,
          306,
          84,
          74,
          154
         ],
         "x0": " ",
         "xaxis": "x2",
         "y0": " ",
         "yaxis": "y2"
        },
        {
         "alignmentgroup": "True",
         "hovertemplate": "Frequency=%{x}<extra></extra>",
         "legendgroup": "",
         "marker": {
          "color": "#636efa"
         },
         "name": "",
         "notched": false,
         "offsetgroup": "",
         "orientation": "h",
         "showlegend": false,
         "type": "box",
         "x": [
          1,
          17,
          1,
          5,
          12,
          2,
          5,
          43,
          7,
          43,
          8,
          20,
          2,
          3,
          9,
          20,
          7,
          1,
          111,
          2,
          2,
          41,
          14,
          1,
          12,
          10,
          1,
          5,
          6,
          9,
          3,
          2,
          1,
          14,
          4,
          8,
          7,
          20,
          78,
          6,
          164,
          26,
          9,
          3,
          1,
          22,
          21,
          1,
          1,
          2,
          38,
          8,
          65,
          5,
          5,
          132,
          1,
          116,
          53,
          1,
          6,
          2,
          30,
          4,
          2,
          1,
          2,
          53,
          42,
          107,
          23,
          30,
          26,
          2,
          11,
          234,
          2,
          176,
          24,
          221,
          8,
          14,
          173,
          107,
          4,
          22,
          25,
          3,
          10,
          82,
          132,
          3,
          6,
          323,
          15,
          1,
          4,
          129,
          5,
          199,
          47,
          1,
          1,
          56,
          39,
          57,
          82,
          3,
          20,
          1,
          4,
          133,
          28,
          19,
          16,
          4,
          20,
          22,
          2,
          16,
          3,
          7,
          1,
          4,
          9,
          67,
          21,
          78,
          14,
          3,
          221,
          59,
          87,
          4,
          44,
          11,
          7,
          9,
          79,
          2,
          60,
          17,
          35,
          18,
          9,
          1,
          1,
          1,
          7,
          38,
          30,
          30,
          3,
          73,
          13,
          9,
          5,
          1,
          18,
          10,
          273,
          3,
          37,
          364,
          68,
          90,
          1,
          7,
          45,
          5,
          168,
          10,
          365,
          2,
          3,
          9,
          3,
          76,
          3,
          119,
          20,
          19,
          17,
          22,
          9,
          1,
          16,
          6,
          3,
          2,
          47,
          20,
          1,
          111,
          27,
          7,
          29,
          5,
          5,
          1,
          5,
          1,
          3,
          3,
          46,
          16,
          5,
          10,
          8,
          4,
          35,
          21,
          13,
          20,
          13,
          80,
          15,
          4,
          1,
          8,
          6,
          13,
          2,
          35,
          14,
          20,
          10,
          2,
          41,
          55,
          11,
          11,
          10,
          56,
          31,
          1,
          47,
          31,
          21,
          12,
          1,
          77,
          1,
          3,
          2,
          2,
          1,
          20,
          2,
          1,
          18,
          4,
          33,
          84,
          1,
          49,
          30,
          2,
          4,
          108,
          3,
          143,
          2,
          7,
          14,
          7,
          1,
          2,
          24,
          159,
          115,
          21,
          33,
          102,
          6,
          56,
          13,
          21,
          12,
          30,
          283,
          2,
          14,
          113,
          3,
          8,
          1,
          33,
          20,
          3,
          6,
          47,
          17,
          124,
          4,
          147,
          63,
          12,
          25,
          20,
          4,
          4,
          24,
          24,
          159,
          11,
          1,
          4,
          243,
          7,
          11,
          6,
          7,
          5,
          6,
          185,
          1,
          8,
          3,
          5,
          2,
          1,
          1,
          54,
          99,
          16,
          41,
          21,
          198,
          1,
          43,
          11,
          249,
          1,
          2,
          25,
          1,
          12,
          36,
          19,
          196,
          5,
          1,
          2,
          3,
          22,
          58,
          1,
          1,
          66,
          20,
          4,
          314,
          1,
          115,
          20,
          16,
          176,
          16,
          2,
          1,
          3,
          1,
          59,
          5,
          6,
          11,
          2,
          3,
          26,
          13,
          2
         ],
         "x0": " ",
         "xaxis": "x3",
         "y0": " ",
         "yaxis": "y3"
        }
       ],
       "layout": {
        "annotations": [
         {
          "font": {
           "size": 16
          },
          "showarrow": false,
          "text": "Recency",
          "x": 0.14444444444444446,
          "xanchor": "center",
          "xref": "paper",
          "y": 1,
          "yanchor": "bottom",
          "yref": "paper"
         },
         {
          "font": {
           "size": 16
          },
          "showarrow": false,
          "text": "Frequency",
          "x": 0.5,
          "xanchor": "center",
          "xref": "paper",
          "y": 1,
          "yanchor": "bottom",
          "yref": "paper"
         },
         {
          "font": {
           "size": 16
          },
          "showarrow": false,
          "text": "Monetary",
          "x": 0.8555555555555556,
          "xanchor": "center",
          "xref": "paper",
          "y": 1,
          "yanchor": "bottom",
          "yref": "paper"
         }
        ],
        "showlegend": true,
        "template": {
         "data": {
          "bar": [
           {
            "error_x": {
             "color": "#2a3f5f"
            },
            "error_y": {
             "color": "#2a3f5f"
            },
            "marker": {
             "line": {
              "color": "#E5ECF6",
              "width": 0.5
             },
             "pattern": {
              "fillmode": "overlay",
              "size": 10,
              "solidity": 0.2
             }
            },
            "type": "bar"
           }
          ],
          "barpolar": [
           {
            "marker": {
             "line": {
              "color": "#E5ECF6",
              "width": 0.5
             },
             "pattern": {
              "fillmode": "overlay",
              "size": 10,
              "solidity": 0.2
             }
            },
            "type": "barpolar"
           }
          ],
          "carpet": [
           {
            "aaxis": {
             "endlinecolor": "#2a3f5f",
             "gridcolor": "white",
             "linecolor": "white",
             "minorgridcolor": "white",
             "startlinecolor": "#2a3f5f"
            },
            "baxis": {
             "endlinecolor": "#2a3f5f",
             "gridcolor": "white",
             "linecolor": "white",
             "minorgridcolor": "white",
             "startlinecolor": "#2a3f5f"
            },
            "type": "carpet"
           }
          ],
          "choropleth": [
           {
            "colorbar": {
             "outlinewidth": 0,
             "ticks": ""
            },
            "type": "choropleth"
           }
          ],
          "contour": [
           {
            "colorbar": {
             "outlinewidth": 0,
             "ticks": ""
            },
            "colorscale": [
             [
              0,
              "#0d0887"
             ],
             [
              0.1111111111111111,
              "#46039f"
             ],
             [
              0.2222222222222222,
              "#7201a8"
             ],
             [
              0.3333333333333333,
              "#9c179e"
             ],
             [
              0.4444444444444444,
              "#bd3786"
             ],
             [
              0.5555555555555556,
              "#d8576b"
             ],
             [
              0.6666666666666666,
              "#ed7953"
             ],
             [
              0.7777777777777778,
              "#fb9f3a"
             ],
             [
              0.8888888888888888,
              "#fdca26"
             ],
             [
              1,
              "#f0f921"
             ]
            ],
            "type": "contour"
           }
          ],
          "contourcarpet": [
           {
            "colorbar": {
             "outlinewidth": 0,
             "ticks": ""
            },
            "type": "contourcarpet"
           }
          ],
          "heatmap": [
           {
            "colorbar": {
             "outlinewidth": 0,
             "ticks": ""
            },
            "colorscale": [
             [
              0,
              "#0d0887"
             ],
             [
              0.1111111111111111,
              "#46039f"
             ],
             [
              0.2222222222222222,
              "#7201a8"
             ],
             [
              0.3333333333333333,
              "#9c179e"
             ],
             [
              0.4444444444444444,
              "#bd3786"
             ],
             [
              0.5555555555555556,
              "#d8576b"
             ],
             [
              0.6666666666666666,
              "#ed7953"
             ],
             [
              0.7777777777777778,
              "#fb9f3a"
             ],
             [
              0.8888888888888888,
              "#fdca26"
             ],
             [
              1,
              "#f0f921"
             ]
            ],
            "type": "heatmap"
           }
          ],
          "heatmapgl": [
           {
            "colorbar": {
             "outlinewidth": 0,
             "ticks": ""
            },
            "colorscale": [
             [
              0,
              "#0d0887"
             ],
             [
              0.1111111111111111,
              "#46039f"
             ],
             [
              0.2222222222222222,
              "#7201a8"
             ],
             [
              0.3333333333333333,
              "#9c179e"
             ],
             [
              0.4444444444444444,
              "#bd3786"
             ],
             [
              0.5555555555555556,
              "#d8576b"
             ],
             [
              0.6666666666666666,
              "#ed7953"
             ],
             [
              0.7777777777777778,
              "#fb9f3a"
             ],
             [
              0.8888888888888888,
              "#fdca26"
             ],
             [
              1,
              "#f0f921"
             ]
            ],
            "type": "heatmapgl"
           }
          ],
          "histogram": [
           {
            "marker": {
             "pattern": {
              "fillmode": "overlay",
              "size": 10,
              "solidity": 0.2
             }
            },
            "type": "histogram"
           }
          ],
          "histogram2d": [
           {
            "colorbar": {
             "outlinewidth": 0,
             "ticks": ""
            },
            "colorscale": [
             [
              0,
              "#0d0887"
             ],
             [
              0.1111111111111111,
              "#46039f"
             ],
             [
              0.2222222222222222,
              "#7201a8"
             ],
             [
              0.3333333333333333,
              "#9c179e"
             ],
             [
              0.4444444444444444,
              "#bd3786"
             ],
             [
              0.5555555555555556,
              "#d8576b"
             ],
             [
              0.6666666666666666,
              "#ed7953"
             ],
             [
              0.7777777777777778,
              "#fb9f3a"
             ],
             [
              0.8888888888888888,
              "#fdca26"
             ],
             [
              1,
              "#f0f921"
             ]
            ],
            "type": "histogram2d"
           }
          ],
          "histogram2dcontour": [
           {
            "colorbar": {
             "outlinewidth": 0,
             "ticks": ""
            },
            "colorscale": [
             [
              0,
              "#0d0887"
             ],
             [
              0.1111111111111111,
              "#46039f"
             ],
             [
              0.2222222222222222,
              "#7201a8"
             ],
             [
              0.3333333333333333,
              "#9c179e"
             ],
             [
              0.4444444444444444,
              "#bd3786"
             ],
             [
              0.5555555555555556,
              "#d8576b"
             ],
             [
              0.6666666666666666,
              "#ed7953"
             ],
             [
              0.7777777777777778,
              "#fb9f3a"
             ],
             [
              0.8888888888888888,
              "#fdca26"
             ],
             [
              1,
              "#f0f921"
             ]
            ],
            "type": "histogram2dcontour"
           }
          ],
          "mesh3d": [
           {
            "colorbar": {
             "outlinewidth": 0,
             "ticks": ""
            },
            "type": "mesh3d"
           }
          ],
          "parcoords": [
           {
            "line": {
             "colorbar": {
              "outlinewidth": 0,
              "ticks": ""
             }
            },
            "type": "parcoords"
           }
          ],
          "pie": [
           {
            "automargin": true,
            "type": "pie"
           }
          ],
          "scatter": [
           {
            "fillpattern": {
             "fillmode": "overlay",
             "size": 10,
             "solidity": 0.2
            },
            "type": "scatter"
           }
          ],
          "scatter3d": [
           {
            "line": {
             "colorbar": {
              "outlinewidth": 0,
              "ticks": ""
             }
            },
            "marker": {
             "colorbar": {
              "outlinewidth": 0,
              "ticks": ""
             }
            },
            "type": "scatter3d"
           }
          ],
          "scattercarpet": [
           {
            "marker": {
             "colorbar": {
              "outlinewidth": 0,
              "ticks": ""
             }
            },
            "type": "scattercarpet"
           }
          ],
          "scattergeo": [
           {
            "marker": {
             "colorbar": {
              "outlinewidth": 0,
              "ticks": ""
             }
            },
            "type": "scattergeo"
           }
          ],
          "scattergl": [
           {
            "marker": {
             "colorbar": {
              "outlinewidth": 0,
              "ticks": ""
             }
            },
            "type": "scattergl"
           }
          ],
          "scattermapbox": [
           {
            "marker": {
             "colorbar": {
              "outlinewidth": 0,
              "ticks": ""
             }
            },
            "type": "scattermapbox"
           }
          ],
          "scatterpolar": [
           {
            "marker": {
             "colorbar": {
              "outlinewidth": 0,
              "ticks": ""
             }
            },
            "type": "scatterpolar"
           }
          ],
          "scatterpolargl": [
           {
            "marker": {
             "colorbar": {
              "outlinewidth": 0,
              "ticks": ""
             }
            },
            "type": "scatterpolargl"
           }
          ],
          "scatterternary": [
           {
            "marker": {
             "colorbar": {
              "outlinewidth": 0,
              "ticks": ""
             }
            },
            "type": "scatterternary"
           }
          ],
          "surface": [
           {
            "colorbar": {
             "outlinewidth": 0,
             "ticks": ""
            },
            "colorscale": [
             [
              0,
              "#0d0887"
             ],
             [
              0.1111111111111111,
              "#46039f"
             ],
             [
              0.2222222222222222,
              "#7201a8"
             ],
             [
              0.3333333333333333,
              "#9c179e"
             ],
             [
              0.4444444444444444,
              "#bd3786"
             ],
             [
              0.5555555555555556,
              "#d8576b"
             ],
             [
              0.6666666666666666,
              "#ed7953"
             ],
             [
              0.7777777777777778,
              "#fb9f3a"
             ],
             [
              0.8888888888888888,
              "#fdca26"
             ],
             [
              1,
              "#f0f921"
             ]
            ],
            "type": "surface"
           }
          ],
          "table": [
           {
            "cells": {
             "fill": {
              "color": "#EBF0F8"
             },
             "line": {
              "color": "white"
             }
            },
            "header": {
             "fill": {
              "color": "#C8D4E3"
             },
             "line": {
              "color": "white"
             }
            },
            "type": "table"
           }
          ]
         },
         "layout": {
          "annotationdefaults": {
           "arrowcolor": "#2a3f5f",
           "arrowhead": 0,
           "arrowwidth": 1
          },
          "autotypenumbers": "strict",
          "coloraxis": {
           "colorbar": {
            "outlinewidth": 0,
            "ticks": ""
           }
          },
          "colorscale": {
           "diverging": [
            [
             0,
             "#8e0152"
            ],
            [
             0.1,
             "#c51b7d"
            ],
            [
             0.2,
             "#de77ae"
            ],
            [
             0.3,
             "#f1b6da"
            ],
            [
             0.4,
             "#fde0ef"
            ],
            [
             0.5,
             "#f7f7f7"
            ],
            [
             0.6,
             "#e6f5d0"
            ],
            [
             0.7,
             "#b8e186"
            ],
            [
             0.8,
             "#7fbc41"
            ],
            [
             0.9,
             "#4d9221"
            ],
            [
             1,
             "#276419"
            ]
           ],
           "sequential": [
            [
             0,
             "#0d0887"
            ],
            [
             0.1111111111111111,
             "#46039f"
            ],
            [
             0.2222222222222222,
             "#7201a8"
            ],
            [
             0.3333333333333333,
             "#9c179e"
            ],
            [
             0.4444444444444444,
             "#bd3786"
            ],
            [
             0.5555555555555556,
             "#d8576b"
            ],
            [
             0.6666666666666666,
             "#ed7953"
            ],
            [
             0.7777777777777778,
             "#fb9f3a"
            ],
            [
             0.8888888888888888,
             "#fdca26"
            ],
            [
             1,
             "#f0f921"
            ]
           ],
           "sequentialminus": [
            [
             0,
             "#0d0887"
            ],
            [
             0.1111111111111111,
             "#46039f"
            ],
            [
             0.2222222222222222,
             "#7201a8"
            ],
            [
             0.3333333333333333,
             "#9c179e"
            ],
            [
             0.4444444444444444,
             "#bd3786"
            ],
            [
             0.5555555555555556,
             "#d8576b"
            ],
            [
             0.6666666666666666,
             "#ed7953"
            ],
            [
             0.7777777777777778,
             "#fb9f3a"
            ],
            [
             0.8888888888888888,
             "#fdca26"
            ],
            [
             1,
             "#f0f921"
            ]
           ]
          },
          "colorway": [
           "#636efa",
           "#EF553B",
           "#00cc96",
           "#ab63fa",
           "#FFA15A",
           "#19d3f3",
           "#FF6692",
           "#B6E880",
           "#FF97FF",
           "#FECB52"
          ],
          "font": {
           "color": "#2a3f5f"
          },
          "geo": {
           "bgcolor": "white",
           "lakecolor": "white",
           "landcolor": "#E5ECF6",
           "showlakes": true,
           "showland": true,
           "subunitcolor": "white"
          },
          "hoverlabel": {
           "align": "left"
          },
          "hovermode": "closest",
          "mapbox": {
           "style": "light"
          },
          "paper_bgcolor": "white",
          "plot_bgcolor": "#E5ECF6",
          "polar": {
           "angularaxis": {
            "gridcolor": "white",
            "linecolor": "white",
            "ticks": ""
           },
           "bgcolor": "#E5ECF6",
           "radialaxis": {
            "gridcolor": "white",
            "linecolor": "white",
            "ticks": ""
           }
          },
          "scene": {
           "xaxis": {
            "backgroundcolor": "#E5ECF6",
            "gridcolor": "white",
            "gridwidth": 2,
            "linecolor": "white",
            "showbackground": true,
            "ticks": "",
            "zerolinecolor": "white"
           },
           "yaxis": {
            "backgroundcolor": "#E5ECF6",
            "gridcolor": "white",
            "gridwidth": 2,
            "linecolor": "white",
            "showbackground": true,
            "ticks": "",
            "zerolinecolor": "white"
           },
           "zaxis": {
            "backgroundcolor": "#E5ECF6",
            "gridcolor": "white",
            "gridwidth": 2,
            "linecolor": "white",
            "showbackground": true,
            "ticks": "",
            "zerolinecolor": "white"
           }
          },
          "shapedefaults": {
           "line": {
            "color": "#2a3f5f"
           }
          },
          "ternary": {
           "aaxis": {
            "gridcolor": "white",
            "linecolor": "white",
            "ticks": ""
           },
           "baxis": {
            "gridcolor": "white",
            "linecolor": "white",
            "ticks": ""
           },
           "bgcolor": "#E5ECF6",
           "caxis": {
            "gridcolor": "white",
            "linecolor": "white",
            "ticks": ""
           }
          },
          "title": {
           "x": 0.05
          },
          "xaxis": {
           "automargin": true,
           "gridcolor": "white",
           "linecolor": "white",
           "ticks": "",
           "title": {
            "standoff": 15
           },
           "zerolinecolor": "white",
           "zerolinewidth": 2
          },
          "yaxis": {
           "automargin": true,
           "gridcolor": "white",
           "linecolor": "white",
           "ticks": "",
           "title": {
            "standoff": 15
           },
           "zerolinecolor": "white",
           "zerolinewidth": 2
          }
         }
        },
        "xaxis": {
         "anchor": "y",
         "domain": [
          0,
          0.2888888888888889
         ]
        },
        "xaxis2": {
         "anchor": "y2",
         "domain": [
          0.35555555555555557,
          0.6444444444444445
         ]
        },
        "xaxis3": {
         "anchor": "y3",
         "domain": [
          0.7111111111111111,
          1
         ]
        },
        "yaxis": {
         "anchor": "x",
         "domain": [
          0,
          1
         ]
        },
        "yaxis2": {
         "anchor": "x2",
         "domain": [
          0,
          1
         ]
        },
        "yaxis3": {
         "anchor": "x3",
         "domain": [
          0,
          1
         ]
        }
       }
      },
      "text/html": [
       "<div>                            <div id=\"766b9d97-bbf0-4759-9a8d-e8c16f22a149\" class=\"plotly-graph-div\" style=\"height:525px; width:100%;\"></div>            <script type=\"text/javascript\">                require([\"plotly\"], function(Plotly) {                    window.PLOTLYENV=window.PLOTLYENV || {};                                    if (document.getElementById(\"766b9d97-bbf0-4759-9a8d-e8c16f22a149\")) {                    Plotly.newPlot(                        \"766b9d97-bbf0-4759-9a8d-e8c16f22a149\",                        [{\"alignmentgroup\":\"True\",\"hovertemplate\":\"Monetary_Value=%{x}<extra></extra>\",\"legendgroup\":\"\",\"marker\":{\"color\":\"#636efa\"},\"name\":\"\",\"notched\":false,\"offsetgroup\":\"\",\"orientation\":\"h\",\"showlegend\":false,\"x\":[59034.319,1009600.709,126156.133,313714.277,1079512.053,102630.95499999999,1628703.258,5170552.074,476297.143,6563657.568,647882.3589999999,3409336.604,182643.631,158470.413,638901.497,1712878.265,718318.51,100482.24,11363759.48,162702.019,195664.696,4110733.875,1389255.402,71162.85,1772692.187,1959037.721,89471.51,381272.702,606108.565,618801.292,561377.8589999999,164964.32799999998,200163.321,2222585.406,279291.06200000003,982203.186,631914.395,1485986.184,15652619.032,350736.809,34376125.391,3552093.764,1606697.064,292135.429,52358.555,1620194.044,1918616.838,50644.972,216377.63199999998,156405.64399999997,5320324.896,1015101.858,8382071.782,374567.63,383528.092,19407522.966,74873.61,30778204.829,6050406.947,56407.88699999999,1021566.669,121873.357,4527596.519,258231.054,192589.685,94660.47099999999,304526.25299999997,10043388.979,12012256.78,21726033.099,2401587.722,2185590.856,142.953,139715.86,206531.164,51632445.441,165633.686,77457620.76099999,2338984.729,97644700.691,537401.11,984454.853,10947817.08,10310263.496,1428792.608,1446043.868,1855045.355,167466.456,806219.237,13116812.689,26724728.858,175785.848,526239.335,167712549.649,4291115.911,77080.788,312576.82399999996,20730451.015,275132.709,76588123.461,6223746.92,17738.531,100227.75,9649810.215,4370340.195,217.328,7413083.58,169662.465,1683820.896,98050.118,376307.563,23910113.471,2625217.962,1289051.9109999998,2061127.974,246444.74999999997,1773831.493,51.374,116896.48800000001,2081345.972,187315.554,1233071.472,62348.707,905951.335,701906.319,7978680.227,2237406.822,13243859.078,1831920.136,218786.141,35590220.052,373410.627,12881695.345,204566.695,7620730.25,706907.532,584985.912,511944.613,11820889.718,195996.009,5271432.352,2228626.9,2482609.994,2949585.5779999997,1044326.201,76838.657,104598.29699999999,156342.67599999998,1037282.863,5372842.027,4579459.626,7986355.574,220257.27000000002,12471120.168,1150860.237,137001.589,382267.712,60411.591,1441955.317,2495716.025,55186035.783,189890.83299999998,2850768.42,311015936.037,23573536.948,9796834.936,366770.529,994244.0819999999,11495877.275,275558.95,25164617.268,2001598.462,852673593.791,142435.044,288549.602,904067.191,193889.59,6106312.739,253964.071,13399966.219,3181672.145,2700927.887,1022785.45,1929562.339,1533299.428,81669.105,1194433.736,278942.05199999997,221551.00400000002,161529.393,4694759.3719999995,3360223.23,81920.773,3326709.821,2410636.057,628696.329,3938896.702,367628.213,375345.431,94888.88299999999,397585.885,108211.868,198173.063,293456.771,18463166.812,1854691.16,256092.709,753687.095,861535.35,249739.962,5951806.726,4468981.879,1428884.561,1887807.806,3865853.346,7599375.275,1248733.6739999999,272950.13,61979.79,1459455.712,606524.13,1610304.277,585822.125,3489287.383,2288001.61,2432035.215,574802.368,264345.206,7405227.098,8772150.569,993956.1869999999,895982.773,790868.322,13633379.33,3217658.714,76265.332,6468722.632,3611217.35,3567574.8649999998,1049858.086,74700.04,8866357.157,54805.824,425692.036,145233.89,210093.61599999998,76073.572,2477635.641,120761.82899999998,80128.905,2003079.808,217164.494,3750422.836,10555331.943,108439.974,7349392.620999999,2125064.26,172755.7,286789.32,16867660.151,207203.956,16875477.397,102433.534,1878613.9679999999,941090.505,631811.647,106132.90400000001,147385.886,2487369.4159999997,23561373.023,24552288.131,3001308.0609999998,2892381.003,517945.035,657798.1869999999,5394239.433999999,1622443.28,3000616.246,78.013,3481813.86,69945718.034,140709.62900000002,1460754.988,14294437.386,362274.794,488179.871,84206.185,2516937.04,1266610.959,300721.891,527603.602,4822883.272,1306305.568,14365356.711,518066.823,14641001.018,4995095.482,719410.488,3896098.369,2281844.108,219844.476,326483.521,1546555.6709999999,13075944.757,22820424.3,2419833.057,64076.297999999995,238543.133,40118645.185,484048.02099999995,912444.876,478009.519,853150.236,596048.424,639413.537,26921286.785,7987.279999999999,1015767.68,268469.848,372552.093,152496.358,55167.55,93985.74100000001,4701322.545,11865562.454,2819164.961,6089001.197,2859296.351,38488808.503,54136.891,5083584.987,1239283.374,93271594.698,108692.57699999999,59470.96399999999,4060430.841,87412.57199999999,244716.36000000002,4553430.263,1747360.334,50590614.993,114159.114,14325.305,408770.695,77369.261,1966941.378,7895040.941,118788.707,8969.777999999998,10283915.57,1558723.353,293090.999,87727223.385,90322.41100000001,19142843.251,2312170.867,1093642.555,4417632.036,1816227.1979999999,203886.117,51299.965,221199.716,55756.770000000004,5779247.121,384432.339,351269.725,725511.448,111792.884,222306.025,4334542.1729999995,2901079.903,140906.53999999998],\"x0\":\" \",\"xaxis\":\"x\",\"y0\":\" \",\"yaxis\":\"y\",\"type\":\"box\"},{\"alignmentgroup\":\"True\",\"hovertemplate\":\"Recency=%{x}<extra></extra>\",\"legendgroup\":\"\",\"marker\":{\"color\":\"#636efa\"},\"name\":\"\",\"notched\":false,\"offsetgroup\":\"\",\"orientation\":\"h\",\"showlegend\":false,\"x\":[9,4,67,259,15,31,107,4,277,20,14,241,79,220,30,46,64,326,3,307,9,2,220,111,182,19,248,70,74,233,139,222,227,171,26,24,311,2,12,28,1,156,288,146,146,7,47,194,45,61,66,168,5,45,15,1,335,1,5,62,81,292,218,307,309,19,79,71,202,1,36,14,208,179,38,1,73,1,231,79,31,56,3,1,46,27,168,172,48,1,3,123,214,1,206,275,175,14,174,1,1,349,128,11,11,290,6,120,6,243,148,10,55,198,248,61,16,106,131,30,222,213,34,336,228,130,24,45,11,21,3,82,4,164,8,57,69,9,3,83,6,285,1,130,45,20,148,335,90,19,180,242,15,136,10,111,15,143,1,28,1,17,8,1,1,2,87,282,2,15,1,2,1,299,62,127,126,2,24,25,318,10,96,8,11,138,77,8,58,232,24,80,128,18,15,69,25,30,5,149,277,290,1,240,38,31,222,48,185,67,233,275,5,253,345,12,21,213,170,103,13,2,293,14,312,16,116,364,88,1,163,42,107,2,240,40,1,56,85,169,331,211,13,87,60,76,10,62,55,76,170,12,11,21,112,145,8,72,349,33,248,2,123,314,19,150,179,15,97,1,1,65,13,103,4,11,283,200,340,2,1,355,1,2,197,35,179,45,82,124,128,75,62,1,335,1,18,19,92,38,107,224,15,77,11,328,256,143,1,154,221,152,77,27,88,1,272,181,44,14,308,52,207,28,4,10,2,38,1,27,26,147,1,202,54,1,63,90,115,28,2,90,257,304,124,191,57,360,74,111,6,48,1,95,2,18,8,79,42,169,256,262,33,107,268,75,277,225,306,84,74,154],\"x0\":\" \",\"xaxis\":\"x2\",\"y0\":\" \",\"yaxis\":\"y2\",\"type\":\"box\"},{\"alignmentgroup\":\"True\",\"hovertemplate\":\"Frequency=%{x}<extra></extra>\",\"legendgroup\":\"\",\"marker\":{\"color\":\"#636efa\"},\"name\":\"\",\"notched\":false,\"offsetgroup\":\"\",\"orientation\":\"h\",\"showlegend\":false,\"x\":[1,17,1,5,12,2,5,43,7,43,8,20,2,3,9,20,7,1,111,2,2,41,14,1,12,10,1,5,6,9,3,2,1,14,4,8,7,20,78,6,164,26,9,3,1,22,21,1,1,2,38,8,65,5,5,132,1,116,53,1,6,2,30,4,2,1,2,53,42,107,23,30,26,2,11,234,2,176,24,221,8,14,173,107,4,22,25,3,10,82,132,3,6,323,15,1,4,129,5,199,47,1,1,56,39,57,82,3,20,1,4,133,28,19,16,4,20,22,2,16,3,7,1,4,9,67,21,78,14,3,221,59,87,4,44,11,7,9,79,2,60,17,35,18,9,1,1,1,7,38,30,30,3,73,13,9,5,1,18,10,273,3,37,364,68,90,1,7,45,5,168,10,365,2,3,9,3,76,3,119,20,19,17,22,9,1,16,6,3,2,47,20,1,111,27,7,29,5,5,1,5,1,3,3,46,16,5,10,8,4,35,21,13,20,13,80,15,4,1,8,6,13,2,35,14,20,10,2,41,55,11,11,10,56,31,1,47,31,21,12,1,77,1,3,2,2,1,20,2,1,18,4,33,84,1,49,30,2,4,108,3,143,2,7,14,7,1,2,24,159,115,21,33,102,6,56,13,21,12,30,283,2,14,113,3,8,1,33,20,3,6,47,17,124,4,147,63,12,25,20,4,4,24,24,159,11,1,4,243,7,11,6,7,5,6,185,1,8,3,5,2,1,1,54,99,16,41,21,198,1,43,11,249,1,2,25,1,12,36,19,196,5,1,2,3,22,58,1,1,66,20,4,314,1,115,20,16,176,16,2,1,3,1,59,5,6,11,2,3,26,13,2],\"x0\":\" \",\"xaxis\":\"x3\",\"y0\":\" \",\"yaxis\":\"y3\",\"type\":\"box\"}],                        {\"template\":{\"data\":{\"histogram2dcontour\":[{\"type\":\"histogram2dcontour\",\"colorbar\":{\"outlinewidth\":0,\"ticks\":\"\"},\"colorscale\":[[0.0,\"#0d0887\"],[0.1111111111111111,\"#46039f\"],[0.2222222222222222,\"#7201a8\"],[0.3333333333333333,\"#9c179e\"],[0.4444444444444444,\"#bd3786\"],[0.5555555555555556,\"#d8576b\"],[0.6666666666666666,\"#ed7953\"],[0.7777777777777778,\"#fb9f3a\"],[0.8888888888888888,\"#fdca26\"],[1.0,\"#f0f921\"]]}],\"choropleth\":[{\"type\":\"choropleth\",\"colorbar\":{\"outlinewidth\":0,\"ticks\":\"\"}}],\"histogram2d\":[{\"type\":\"histogram2d\",\"colorbar\":{\"outlinewidth\":0,\"ticks\":\"\"},\"colorscale\":[[0.0,\"#0d0887\"],[0.1111111111111111,\"#46039f\"],[0.2222222222222222,\"#7201a8\"],[0.3333333333333333,\"#9c179e\"],[0.4444444444444444,\"#bd3786\"],[0.5555555555555556,\"#d8576b\"],[0.6666666666666666,\"#ed7953\"],[0.7777777777777778,\"#fb9f3a\"],[0.8888888888888888,\"#fdca26\"],[1.0,\"#f0f921\"]]}],\"heatmap\":[{\"type\":\"heatmap\",\"colorbar\":{\"outlinewidth\":0,\"ticks\":\"\"},\"colorscale\":[[0.0,\"#0d0887\"],[0.1111111111111111,\"#46039f\"],[0.2222222222222222,\"#7201a8\"],[0.3333333333333333,\"#9c179e\"],[0.4444444444444444,\"#bd3786\"],[0.5555555555555556,\"#d8576b\"],[0.6666666666666666,\"#ed7953\"],[0.7777777777777778,\"#fb9f3a\"],[0.8888888888888888,\"#fdca26\"],[1.0,\"#f0f921\"]]}],\"heatmapgl\":[{\"type\":\"heatmapgl\",\"colorbar\":{\"outlinewidth\":0,\"ticks\":\"\"},\"colorscale\":[[0.0,\"#0d0887\"],[0.1111111111111111,\"#46039f\"],[0.2222222222222222,\"#7201a8\"],[0.3333333333333333,\"#9c179e\"],[0.4444444444444444,\"#bd3786\"],[0.5555555555555556,\"#d8576b\"],[0.6666666666666666,\"#ed7953\"],[0.7777777777777778,\"#fb9f3a\"],[0.8888888888888888,\"#fdca26\"],[1.0,\"#f0f921\"]]}],\"contourcarpet\":[{\"type\":\"contourcarpet\",\"colorbar\":{\"outlinewidth\":0,\"ticks\":\"\"}}],\"contour\":[{\"type\":\"contour\",\"colorbar\":{\"outlinewidth\":0,\"ticks\":\"\"},\"colorscale\":[[0.0,\"#0d0887\"],[0.1111111111111111,\"#46039f\"],[0.2222222222222222,\"#7201a8\"],[0.3333333333333333,\"#9c179e\"],[0.4444444444444444,\"#bd3786\"],[0.5555555555555556,\"#d8576b\"],[0.6666666666666666,\"#ed7953\"],[0.7777777777777778,\"#fb9f3a\"],[0.8888888888888888,\"#fdca26\"],[1.0,\"#f0f921\"]]}],\"surface\":[{\"type\":\"surface\",\"colorbar\":{\"outlinewidth\":0,\"ticks\":\"\"},\"colorscale\":[[0.0,\"#0d0887\"],[0.1111111111111111,\"#46039f\"],[0.2222222222222222,\"#7201a8\"],[0.3333333333333333,\"#9c179e\"],[0.4444444444444444,\"#bd3786\"],[0.5555555555555556,\"#d8576b\"],[0.6666666666666666,\"#ed7953\"],[0.7777777777777778,\"#fb9f3a\"],[0.8888888888888888,\"#fdca26\"],[1.0,\"#f0f921\"]]}],\"mesh3d\":[{\"type\":\"mesh3d\",\"colorbar\":{\"outlinewidth\":0,\"ticks\":\"\"}}],\"scatter\":[{\"fillpattern\":{\"fillmode\":\"overlay\",\"size\":10,\"solidity\":0.2},\"type\":\"scatter\"}],\"parcoords\":[{\"type\":\"parcoords\",\"line\":{\"colorbar\":{\"outlinewidth\":0,\"ticks\":\"\"}}}],\"scatterpolargl\":[{\"type\":\"scatterpolargl\",\"marker\":{\"colorbar\":{\"outlinewidth\":0,\"ticks\":\"\"}}}],\"bar\":[{\"error_x\":{\"color\":\"#2a3f5f\"},\"error_y\":{\"color\":\"#2a3f5f\"},\"marker\":{\"line\":{\"color\":\"#E5ECF6\",\"width\":0.5},\"pattern\":{\"fillmode\":\"overlay\",\"size\":10,\"solidity\":0.2}},\"type\":\"bar\"}],\"scattergeo\":[{\"type\":\"scattergeo\",\"marker\":{\"colorbar\":{\"outlinewidth\":0,\"ticks\":\"\"}}}],\"scatterpolar\":[{\"type\":\"scatterpolar\",\"marker\":{\"colorbar\":{\"outlinewidth\":0,\"ticks\":\"\"}}}],\"histogram\":[{\"marker\":{\"pattern\":{\"fillmode\":\"overlay\",\"size\":10,\"solidity\":0.2}},\"type\":\"histogram\"}],\"scattergl\":[{\"type\":\"scattergl\",\"marker\":{\"colorbar\":{\"outlinewidth\":0,\"ticks\":\"\"}}}],\"scatter3d\":[{\"type\":\"scatter3d\",\"line\":{\"colorbar\":{\"outlinewidth\":0,\"ticks\":\"\"}},\"marker\":{\"colorbar\":{\"outlinewidth\":0,\"ticks\":\"\"}}}],\"scattermapbox\":[{\"type\":\"scattermapbox\",\"marker\":{\"colorbar\":{\"outlinewidth\":0,\"ticks\":\"\"}}}],\"scatterternary\":[{\"type\":\"scatterternary\",\"marker\":{\"colorbar\":{\"outlinewidth\":0,\"ticks\":\"\"}}}],\"scattercarpet\":[{\"type\":\"scattercarpet\",\"marker\":{\"colorbar\":{\"outlinewidth\":0,\"ticks\":\"\"}}}],\"carpet\":[{\"aaxis\":{\"endlinecolor\":\"#2a3f5f\",\"gridcolor\":\"white\",\"linecolor\":\"white\",\"minorgridcolor\":\"white\",\"startlinecolor\":\"#2a3f5f\"},\"baxis\":{\"endlinecolor\":\"#2a3f5f\",\"gridcolor\":\"white\",\"linecolor\":\"white\",\"minorgridcolor\":\"white\",\"startlinecolor\":\"#2a3f5f\"},\"type\":\"carpet\"}],\"table\":[{\"cells\":{\"fill\":{\"color\":\"#EBF0F8\"},\"line\":{\"color\":\"white\"}},\"header\":{\"fill\":{\"color\":\"#C8D4E3\"},\"line\":{\"color\":\"white\"}},\"type\":\"table\"}],\"barpolar\":[{\"marker\":{\"line\":{\"color\":\"#E5ECF6\",\"width\":0.5},\"pattern\":{\"fillmode\":\"overlay\",\"size\":10,\"solidity\":0.2}},\"type\":\"barpolar\"}],\"pie\":[{\"automargin\":true,\"type\":\"pie\"}]},\"layout\":{\"autotypenumbers\":\"strict\",\"colorway\":[\"#636efa\",\"#EF553B\",\"#00cc96\",\"#ab63fa\",\"#FFA15A\",\"#19d3f3\",\"#FF6692\",\"#B6E880\",\"#FF97FF\",\"#FECB52\"],\"font\":{\"color\":\"#2a3f5f\"},\"hovermode\":\"closest\",\"hoverlabel\":{\"align\":\"left\"},\"paper_bgcolor\":\"white\",\"plot_bgcolor\":\"#E5ECF6\",\"polar\":{\"bgcolor\":\"#E5ECF6\",\"angularaxis\":{\"gridcolor\":\"white\",\"linecolor\":\"white\",\"ticks\":\"\"},\"radialaxis\":{\"gridcolor\":\"white\",\"linecolor\":\"white\",\"ticks\":\"\"}},\"ternary\":{\"bgcolor\":\"#E5ECF6\",\"aaxis\":{\"gridcolor\":\"white\",\"linecolor\":\"white\",\"ticks\":\"\"},\"baxis\":{\"gridcolor\":\"white\",\"linecolor\":\"white\",\"ticks\":\"\"},\"caxis\":{\"gridcolor\":\"white\",\"linecolor\":\"white\",\"ticks\":\"\"}},\"coloraxis\":{\"colorbar\":{\"outlinewidth\":0,\"ticks\":\"\"}},\"colorscale\":{\"sequential\":[[0.0,\"#0d0887\"],[0.1111111111111111,\"#46039f\"],[0.2222222222222222,\"#7201a8\"],[0.3333333333333333,\"#9c179e\"],[0.4444444444444444,\"#bd3786\"],[0.5555555555555556,\"#d8576b\"],[0.6666666666666666,\"#ed7953\"],[0.7777777777777778,\"#fb9f3a\"],[0.8888888888888888,\"#fdca26\"],[1.0,\"#f0f921\"]],\"sequentialminus\":[[0.0,\"#0d0887\"],[0.1111111111111111,\"#46039f\"],[0.2222222222222222,\"#7201a8\"],[0.3333333333333333,\"#9c179e\"],[0.4444444444444444,\"#bd3786\"],[0.5555555555555556,\"#d8576b\"],[0.6666666666666666,\"#ed7953\"],[0.7777777777777778,\"#fb9f3a\"],[0.8888888888888888,\"#fdca26\"],[1.0,\"#f0f921\"]],\"diverging\":[[0,\"#8e0152\"],[0.1,\"#c51b7d\"],[0.2,\"#de77ae\"],[0.3,\"#f1b6da\"],[0.4,\"#fde0ef\"],[0.5,\"#f7f7f7\"],[0.6,\"#e6f5d0\"],[0.7,\"#b8e186\"],[0.8,\"#7fbc41\"],[0.9,\"#4d9221\"],[1,\"#276419\"]]},\"xaxis\":{\"gridcolor\":\"white\",\"linecolor\":\"white\",\"ticks\":\"\",\"title\":{\"standoff\":15},\"zerolinecolor\":\"white\",\"automargin\":true,\"zerolinewidth\":2},\"yaxis\":{\"gridcolor\":\"white\",\"linecolor\":\"white\",\"ticks\":\"\",\"title\":{\"standoff\":15},\"zerolinecolor\":\"white\",\"automargin\":true,\"zerolinewidth\":2},\"scene\":{\"xaxis\":{\"backgroundcolor\":\"#E5ECF6\",\"gridcolor\":\"white\",\"linecolor\":\"white\",\"showbackground\":true,\"ticks\":\"\",\"zerolinecolor\":\"white\",\"gridwidth\":2},\"yaxis\":{\"backgroundcolor\":\"#E5ECF6\",\"gridcolor\":\"white\",\"linecolor\":\"white\",\"showbackground\":true,\"ticks\":\"\",\"zerolinecolor\":\"white\",\"gridwidth\":2},\"zaxis\":{\"backgroundcolor\":\"#E5ECF6\",\"gridcolor\":\"white\",\"linecolor\":\"white\",\"showbackground\":true,\"ticks\":\"\",\"zerolinecolor\":\"white\",\"gridwidth\":2}},\"shapedefaults\":{\"line\":{\"color\":\"#2a3f5f\"}},\"annotationdefaults\":{\"arrowcolor\":\"#2a3f5f\",\"arrowhead\":0,\"arrowwidth\":1},\"geo\":{\"bgcolor\":\"white\",\"landcolor\":\"#E5ECF6\",\"subunitcolor\":\"white\",\"showland\":true,\"showlakes\":true,\"lakecolor\":\"white\"},\"title\":{\"x\":0.05},\"mapbox\":{\"style\":\"light\"}}},\"xaxis\":{\"anchor\":\"y\",\"domain\":[0.0,0.2888888888888889]},\"yaxis\":{\"anchor\":\"x\",\"domain\":[0.0,1.0]},\"xaxis2\":{\"anchor\":\"y2\",\"domain\":[0.35555555555555557,0.6444444444444445]},\"yaxis2\":{\"anchor\":\"x2\",\"domain\":[0.0,1.0]},\"xaxis3\":{\"anchor\":\"y3\",\"domain\":[0.7111111111111111,1.0]},\"yaxis3\":{\"anchor\":\"x3\",\"domain\":[0.0,1.0]},\"annotations\":[{\"font\":{\"size\":16},\"showarrow\":false,\"text\":\"Recency\",\"x\":0.14444444444444446,\"xanchor\":\"center\",\"xref\":\"paper\",\"y\":1.0,\"yanchor\":\"bottom\",\"yref\":\"paper\"},{\"font\":{\"size\":16},\"showarrow\":false,\"text\":\"Frequency\",\"x\":0.5,\"xanchor\":\"center\",\"xref\":\"paper\",\"y\":1.0,\"yanchor\":\"bottom\",\"yref\":\"paper\"},{\"font\":{\"size\":16},\"showarrow\":false,\"text\":\"Monetary\",\"x\":0.8555555555555556,\"xanchor\":\"center\",\"xref\":\"paper\",\"y\":1.0,\"yanchor\":\"bottom\",\"yref\":\"paper\"}],\"showlegend\":true},                        {\"responsive\": true}                    ).then(function(){\n",
       "                            \n",
       "var gd = document.getElementById('766b9d97-bbf0-4759-9a8d-e8c16f22a149');\n",
       "var x = new MutationObserver(function (mutations, observer) {{\n",
       "        var display = window.getComputedStyle(gd).display;\n",
       "        if (!display || display === 'none') {{\n",
       "            console.log([gd, 'removed!']);\n",
       "            Plotly.purge(gd);\n",
       "            observer.disconnect();\n",
       "        }}\n",
       "}});\n",
       "\n",
       "// Listen for the removal of the full notebook cells\n",
       "var notebookContainer = gd.closest('#notebook-container');\n",
       "if (notebookContainer) {{\n",
       "    x.observe(notebookContainer, {childList: true});\n",
       "}}\n",
       "\n",
       "// Listen for the clearing of the current output cell\n",
       "var outputEl = gd.closest('.output');\n",
       "if (outputEl) {{\n",
       "    x.observe(outputEl, {childList: true});\n",
       "}}\n",
       "\n",
       "                        })                };                });            </script>        </div>"
      ]
     },
     "metadata": {},
     "output_type": "display_data"
    }
   ],
   "source": [
    "rfm_table = rfm\n",
    "boxes = [px.box(rfm_table, x=column) for column in rfm_table.columns]\n",
    "\n",
    "fig = make_subplots(\n",
    "    rows=1, cols=3,\n",
    "    subplot_titles=(\n",
    "        \"Recency\", \"Frequency\", \"Monetary\"\n",
    "    )\n",
    ")\n",
    "\n",
    "for i, box in enumerate(boxes):\n",
    "    fig.add_trace(boxes[i]['data'][0], row=1, col=i+1)\n",
    "\n",
    "fig.update_layout(showlegend=True)\n",
    "fig.show()"
   ]
  },
  {
   "cell_type": "markdown",
   "id": "04a07dd6",
   "metadata": {},
   "source": [
    "Удалим из RFM-таблицы записи о клиентах, для которых выполняется хотя бы одно из условий:\n",
    "\n",
    "𝑓𝑟𝑒𝑞𝑢𝑒𝑛𝑐𝑦>𝑓𝑟𝑒𝑞𝑢𝑒𝑛𝑐𝑦0.95\n",
    " \n",
    "𝑚𝑜𝑛𝑒𝑡𝑎𝑟𝑦>𝑚𝑜𝑛𝑒𝑡𝑎𝑟𝑦0.95\n",
    " \n",
    "где  𝑓𝑟𝑒𝑞𝑢𝑒𝑛𝑐𝑦0.95\n",
    "  и  𝑚𝑜𝑛𝑒𝑡𝑎𝑟𝑦0.95\n",
    "  - квантили уровня 0.95 для соответствующих признаков."
   ]
  },
  {
   "cell_type": "code",
   "execution_count": 840,
   "id": "8acb60fd",
   "metadata": {},
   "outputs": [
    {
     "name": "stdout",
     "output_type": "stream",
     "text": [
      "<class 'pandas.core.frame.DataFrame'>\n",
      "Index: 350 entries, 1 to 383\n",
      "Data columns (total 3 columns):\n",
      " #   Column          Non-Null Count  Dtype  \n",
      "---  ------          --------------  -----  \n",
      " 0   Monetary_Value  350 non-null    float64\n",
      " 1   Recency         350 non-null    int64  \n",
      " 2   Frequency       350 non-null    int64  \n",
      "dtypes: float64(1), int64(2)\n",
      "memory usage: 10.9 KB\n"
     ]
    }
   ],
   "source": [
    "rfm_table = rfm_table[(rfm_table['Frequency'] <= rfm_table['Frequency'].quantile(\n",
    "    0.95)) & (rfm_table['Monetary_Value'] <= rfm_table['Monetary_Value'].quantile(0.95))]\n",
    "\n",
    "rfm_table.info()"
   ]
  },
  {
   "cell_type": "markdown",
   "id": "3e6e989e",
   "metadata": {},
   "source": [
    "У нас остались данные о 350 клиентах в RFM-таблице"
   ]
  },
  {
   "cell_type": "code",
   "execution_count": 841,
   "id": "e195298d",
   "metadata": {},
   "outputs": [
    {
     "data": {
      "application/vnd.plotly.v1+json": {
       "config": {
        "plotlyServerURL": "https://plot.ly"
       },
       "data": [
        {
         "alignmentgroup": "True",
         "hovertemplate": "Monetary_Value=%{x}<extra></extra>",
         "legendgroup": "",
         "marker": {
          "color": "#636efa"
         },
         "name": "",
         "notched": false,
         "offsetgroup": "",
         "orientation": "h",
         "showlegend": false,
         "type": "box",
         "x": [
          59034.319,
          1009600.709,
          126156.133,
          313714.277,
          1079512.053,
          102630.95499999999,
          1628703.258,
          5170552.074,
          476297.143,
          6563657.568,
          647882.3589999999,
          3409336.604,
          182643.631,
          158470.413,
          638901.497,
          1712878.265,
          718318.51,
          100482.24,
          11363759.48,
          162702.019,
          195664.696,
          4110733.875,
          1389255.402,
          71162.85,
          1772692.187,
          1959037.721,
          89471.51,
          381272.702,
          606108.565,
          618801.292,
          561377.8589999999,
          164964.32799999998,
          200163.321,
          2222585.406,
          279291.06200000003,
          982203.186,
          631914.395,
          1485986.184,
          15652619.032,
          350736.809,
          3552093.764,
          1606697.064,
          292135.429,
          52358.555,
          1620194.044,
          1918616.838,
          50644.972,
          216377.63199999998,
          156405.64399999997,
          5320324.896,
          1015101.858,
          8382071.782,
          374567.63,
          383528.092,
          19407522.966,
          74873.61,
          6050406.947,
          56407.88699999999,
          1021566.669,
          121873.357,
          4527596.519,
          258231.054,
          192589.685,
          94660.47099999999,
          304526.25299999997,
          10043388.979,
          12012256.78,
          21726033.099,
          2401587.722,
          2185590.856,
          142.953,
          139715.86,
          206531.164,
          165633.686,
          2338984.729,
          537401.11,
          984454.853,
          10310263.496,
          1428792.608,
          1446043.868,
          1855045.355,
          167466.456,
          806219.237,
          13116812.689,
          175785.848,
          526239.335,
          4291115.911,
          77080.788,
          312576.82399999996,
          20730451.015,
          275132.709,
          6223746.92,
          17738.531,
          100227.75,
          9649810.215,
          4370340.195,
          217.328,
          7413083.58,
          169662.465,
          1683820.896,
          98050.118,
          376307.563,
          23910113.471,
          2625217.962,
          1289051.9109999998,
          2061127.974,
          246444.74999999997,
          1773831.493,
          51.374,
          116896.48800000001,
          2081345.972,
          187315.554,
          1233071.472,
          62348.707,
          905951.335,
          701906.319,
          7978680.227,
          2237406.822,
          13243859.078,
          1831920.136,
          218786.141,
          373410.627,
          12881695.345,
          204566.695,
          7620730.25,
          706907.532,
          584985.912,
          511944.613,
          11820889.718,
          195996.009,
          5271432.352,
          2228626.9,
          2482609.994,
          2949585.5779999997,
          1044326.201,
          76838.657,
          104598.29699999999,
          156342.67599999998,
          1037282.863,
          5372842.027,
          4579459.626,
          7986355.574,
          220257.27000000002,
          12471120.168,
          1150860.237,
          137001.589,
          382267.712,
          60411.591,
          1441955.317,
          2495716.025,
          189890.83299999998,
          2850768.42,
          23573536.948,
          9796834.936,
          366770.529,
          994244.0819999999,
          11495877.275,
          275558.95,
          2001598.462,
          142435.044,
          288549.602,
          904067.191,
          193889.59,
          6106312.739,
          253964.071,
          13399966.219,
          3181672.145,
          2700927.887,
          1022785.45,
          1929562.339,
          1533299.428,
          81669.105,
          1194433.736,
          278942.05199999997,
          221551.00400000002,
          161529.393,
          4694759.3719999995,
          3360223.23,
          81920.773,
          3326709.821,
          2410636.057,
          628696.329,
          3938896.702,
          367628.213,
          375345.431,
          94888.88299999999,
          397585.885,
          108211.868,
          198173.063,
          293456.771,
          18463166.812,
          1854691.16,
          256092.709,
          753687.095,
          861535.35,
          249739.962,
          5951806.726,
          4468981.879,
          1428884.561,
          1887807.806,
          3865853.346,
          7599375.275,
          1248733.6739999999,
          272950.13,
          61979.79,
          1459455.712,
          606524.13,
          1610304.277,
          585822.125,
          3489287.383,
          2288001.61,
          2432035.215,
          574802.368,
          264345.206,
          7405227.098,
          8772150.569,
          993956.1869999999,
          895982.773,
          790868.322,
          13633379.33,
          3217658.714,
          76265.332,
          6468722.632,
          3611217.35,
          3567574.8649999998,
          1049858.086,
          74700.04,
          8866357.157,
          54805.824,
          425692.036,
          145233.89,
          210093.61599999998,
          76073.572,
          2477635.641,
          120761.82899999998,
          80128.905,
          2003079.808,
          217164.494,
          3750422.836,
          10555331.943,
          108439.974,
          7349392.620999999,
          2125064.26,
          172755.7,
          286789.32,
          16867660.151,
          207203.956,
          16875477.397,
          102433.534,
          1878613.9679999999,
          941090.505,
          631811.647,
          106132.90400000001,
          147385.886,
          2487369.4159999997,
          23561373.023,
          24552288.131,
          3001308.0609999998,
          2892381.003,
          517945.035,
          657798.1869999999,
          5394239.433999999,
          1622443.28,
          3000616.246,
          78.013,
          3481813.86,
          140709.62900000002,
          1460754.988,
          14294437.386,
          362274.794,
          488179.871,
          84206.185,
          2516937.04,
          1266610.959,
          300721.891,
          527603.602,
          4822883.272,
          1306305.568,
          14365356.711,
          518066.823,
          14641001.018,
          4995095.482,
          719410.488,
          3896098.369,
          2281844.108,
          219844.476,
          326483.521,
          1546555.6709999999,
          13075944.757,
          22820424.3,
          2419833.057,
          64076.297999999995,
          238543.133,
          484048.02099999995,
          912444.876,
          478009.519,
          853150.236,
          596048.424,
          639413.537,
          7987.279999999999,
          1015767.68,
          268469.848,
          372552.093,
          152496.358,
          55167.55,
          93985.74100000001,
          4701322.545,
          11865562.454,
          2819164.961,
          6089001.197,
          2859296.351,
          54136.891,
          5083584.987,
          1239283.374,
          108692.57699999999,
          59470.96399999999,
          4060430.841,
          87412.57199999999,
          244716.36000000002,
          4553430.263,
          1747360.334,
          114159.114,
          14325.305,
          408770.695,
          77369.261,
          1966941.378,
          7895040.941,
          118788.707,
          8969.777999999998,
          10283915.57,
          1558723.353,
          293090.999,
          90322.41100000001,
          19142843.251,
          2312170.867,
          1093642.555,
          1816227.1979999999,
          203886.117,
          51299.965,
          221199.716,
          55756.770000000004,
          5779247.121,
          384432.339,
          351269.725,
          725511.448,
          111792.884,
          222306.025,
          4334542.1729999995,
          2901079.903,
          140906.53999999998
         ],
         "x0": " ",
         "xaxis": "x",
         "y0": " ",
         "yaxis": "y"
        },
        {
         "alignmentgroup": "True",
         "hovertemplate": "Recency=%{x}<extra></extra>",
         "legendgroup": "",
         "marker": {
          "color": "#636efa"
         },
         "name": "",
         "notched": false,
         "offsetgroup": "",
         "orientation": "h",
         "showlegend": false,
         "type": "box",
         "x": [
          9,
          4,
          67,
          259,
          15,
          31,
          107,
          4,
          277,
          20,
          14,
          241,
          79,
          220,
          30,
          46,
          64,
          326,
          3,
          307,
          9,
          2,
          220,
          111,
          182,
          19,
          248,
          70,
          74,
          233,
          139,
          222,
          227,
          171,
          26,
          24,
          311,
          2,
          12,
          28,
          156,
          288,
          146,
          146,
          7,
          47,
          194,
          45,
          61,
          66,
          168,
          5,
          45,
          15,
          1,
          335,
          5,
          62,
          81,
          292,
          218,
          307,
          309,
          19,
          79,
          71,
          202,
          1,
          36,
          14,
          208,
          179,
          38,
          73,
          231,
          31,
          56,
          1,
          46,
          27,
          168,
          172,
          48,
          1,
          123,
          214,
          206,
          275,
          175,
          14,
          174,
          1,
          349,
          128,
          11,
          11,
          290,
          6,
          120,
          6,
          243,
          148,
          10,
          55,
          198,
          248,
          61,
          16,
          106,
          131,
          30,
          222,
          213,
          34,
          336,
          228,
          130,
          24,
          45,
          11,
          21,
          82,
          4,
          164,
          8,
          57,
          69,
          9,
          3,
          83,
          6,
          285,
          1,
          130,
          45,
          20,
          148,
          335,
          90,
          19,
          180,
          242,
          15,
          136,
          10,
          111,
          15,
          143,
          1,
          28,
          17,
          8,
          1,
          2,
          87,
          282,
          2,
          15,
          2,
          299,
          62,
          127,
          126,
          2,
          24,
          25,
          318,
          10,
          96,
          8,
          11,
          138,
          77,
          8,
          58,
          232,
          24,
          80,
          128,
          18,
          15,
          69,
          25,
          30,
          5,
          149,
          277,
          290,
          1,
          240,
          38,
          31,
          222,
          48,
          185,
          67,
          233,
          275,
          5,
          253,
          345,
          12,
          21,
          213,
          170,
          103,
          13,
          2,
          293,
          14,
          312,
          16,
          116,
          364,
          88,
          1,
          163,
          42,
          107,
          2,
          240,
          40,
          1,
          56,
          85,
          169,
          331,
          211,
          13,
          87,
          60,
          76,
          10,
          62,
          55,
          76,
          170,
          12,
          11,
          21,
          112,
          145,
          8,
          72,
          349,
          33,
          248,
          2,
          123,
          314,
          19,
          150,
          179,
          15,
          97,
          1,
          1,
          65,
          13,
          103,
          4,
          11,
          283,
          200,
          340,
          2,
          355,
          1,
          2,
          197,
          35,
          179,
          45,
          82,
          124,
          128,
          75,
          62,
          1,
          335,
          1,
          18,
          19,
          92,
          38,
          107,
          224,
          15,
          77,
          11,
          328,
          256,
          143,
          154,
          221,
          152,
          77,
          27,
          88,
          272,
          181,
          44,
          14,
          308,
          52,
          207,
          28,
          4,
          10,
          2,
          38,
          27,
          26,
          147,
          202,
          54,
          1,
          63,
          90,
          115,
          28,
          90,
          257,
          304,
          124,
          191,
          57,
          360,
          74,
          111,
          6,
          48,
          95,
          2,
          18,
          8,
          42,
          169,
          256,
          262,
          33,
          107,
          268,
          75,
          277,
          225,
          306,
          84,
          74,
          154
         ],
         "x0": " ",
         "xaxis": "x2",
         "y0": " ",
         "yaxis": "y2"
        },
        {
         "alignmentgroup": "True",
         "hovertemplate": "Frequency=%{x}<extra></extra>",
         "legendgroup": "",
         "marker": {
          "color": "#636efa"
         },
         "name": "",
         "notched": false,
         "offsetgroup": "",
         "orientation": "h",
         "showlegend": false,
         "type": "box",
         "x": [
          1,
          17,
          1,
          5,
          12,
          2,
          5,
          43,
          7,
          43,
          8,
          20,
          2,
          3,
          9,
          20,
          7,
          1,
          111,
          2,
          2,
          41,
          14,
          1,
          12,
          10,
          1,
          5,
          6,
          9,
          3,
          2,
          1,
          14,
          4,
          8,
          7,
          20,
          78,
          6,
          26,
          9,
          3,
          1,
          22,
          21,
          1,
          1,
          2,
          38,
          8,
          65,
          5,
          5,
          132,
          1,
          53,
          1,
          6,
          2,
          30,
          4,
          2,
          1,
          2,
          53,
          42,
          107,
          23,
          30,
          26,
          2,
          11,
          2,
          24,
          8,
          14,
          107,
          4,
          22,
          25,
          3,
          10,
          82,
          3,
          6,
          15,
          1,
          4,
          129,
          5,
          47,
          1,
          1,
          56,
          39,
          57,
          82,
          3,
          20,
          1,
          4,
          133,
          28,
          19,
          16,
          4,
          20,
          22,
          2,
          16,
          3,
          7,
          1,
          4,
          9,
          67,
          21,
          78,
          14,
          3,
          59,
          87,
          4,
          44,
          11,
          7,
          9,
          79,
          2,
          60,
          17,
          35,
          18,
          9,
          1,
          1,
          1,
          7,
          38,
          30,
          30,
          3,
          73,
          13,
          9,
          5,
          1,
          18,
          10,
          3,
          37,
          68,
          90,
          1,
          7,
          45,
          5,
          10,
          2,
          3,
          9,
          3,
          76,
          3,
          119,
          20,
          19,
          17,
          22,
          9,
          1,
          16,
          6,
          3,
          2,
          47,
          20,
          1,
          111,
          27,
          7,
          29,
          5,
          5,
          1,
          5,
          1,
          3,
          3,
          46,
          16,
          5,
          10,
          8,
          4,
          35,
          21,
          13,
          20,
          13,
          80,
          15,
          4,
          1,
          8,
          6,
          13,
          2,
          35,
          14,
          20,
          10,
          2,
          41,
          55,
          11,
          11,
          10,
          56,
          31,
          1,
          47,
          31,
          21,
          12,
          1,
          77,
          1,
          3,
          2,
          2,
          1,
          20,
          2,
          1,
          18,
          4,
          33,
          84,
          1,
          49,
          30,
          2,
          4,
          108,
          3,
          143,
          2,
          7,
          14,
          7,
          1,
          2,
          24,
          159,
          115,
          21,
          33,
          102,
          6,
          56,
          13,
          21,
          12,
          30,
          2,
          14,
          113,
          3,
          8,
          1,
          33,
          20,
          3,
          6,
          47,
          17,
          124,
          4,
          147,
          63,
          12,
          25,
          20,
          4,
          4,
          24,
          24,
          159,
          11,
          1,
          4,
          7,
          11,
          6,
          7,
          5,
          6,
          1,
          8,
          3,
          5,
          2,
          1,
          1,
          54,
          99,
          16,
          41,
          21,
          1,
          43,
          11,
          1,
          2,
          25,
          1,
          12,
          36,
          19,
          5,
          1,
          2,
          3,
          22,
          58,
          1,
          1,
          66,
          20,
          4,
          1,
          115,
          20,
          16,
          16,
          2,
          1,
          3,
          1,
          59,
          5,
          6,
          11,
          2,
          3,
          26,
          13,
          2
         ],
         "x0": " ",
         "xaxis": "x3",
         "y0": " ",
         "yaxis": "y3"
        }
       ],
       "layout": {
        "annotations": [
         {
          "font": {
           "size": 16
          },
          "showarrow": false,
          "text": "Recency",
          "x": 0.14444444444444446,
          "xanchor": "center",
          "xref": "paper",
          "y": 1,
          "yanchor": "bottom",
          "yref": "paper"
         },
         {
          "font": {
           "size": 16
          },
          "showarrow": false,
          "text": "Frequency",
          "x": 0.5,
          "xanchor": "center",
          "xref": "paper",
          "y": 1,
          "yanchor": "bottom",
          "yref": "paper"
         },
         {
          "font": {
           "size": 16
          },
          "showarrow": false,
          "text": "Monetary",
          "x": 0.8555555555555556,
          "xanchor": "center",
          "xref": "paper",
          "y": 1,
          "yanchor": "bottom",
          "yref": "paper"
         }
        ],
        "showlegend": true,
        "template": {
         "data": {
          "bar": [
           {
            "error_x": {
             "color": "#2a3f5f"
            },
            "error_y": {
             "color": "#2a3f5f"
            },
            "marker": {
             "line": {
              "color": "#E5ECF6",
              "width": 0.5
             },
             "pattern": {
              "fillmode": "overlay",
              "size": 10,
              "solidity": 0.2
             }
            },
            "type": "bar"
           }
          ],
          "barpolar": [
           {
            "marker": {
             "line": {
              "color": "#E5ECF6",
              "width": 0.5
             },
             "pattern": {
              "fillmode": "overlay",
              "size": 10,
              "solidity": 0.2
             }
            },
            "type": "barpolar"
           }
          ],
          "carpet": [
           {
            "aaxis": {
             "endlinecolor": "#2a3f5f",
             "gridcolor": "white",
             "linecolor": "white",
             "minorgridcolor": "white",
             "startlinecolor": "#2a3f5f"
            },
            "baxis": {
             "endlinecolor": "#2a3f5f",
             "gridcolor": "white",
             "linecolor": "white",
             "minorgridcolor": "white",
             "startlinecolor": "#2a3f5f"
            },
            "type": "carpet"
           }
          ],
          "choropleth": [
           {
            "colorbar": {
             "outlinewidth": 0,
             "ticks": ""
            },
            "type": "choropleth"
           }
          ],
          "contour": [
           {
            "colorbar": {
             "outlinewidth": 0,
             "ticks": ""
            },
            "colorscale": [
             [
              0,
              "#0d0887"
             ],
             [
              0.1111111111111111,
              "#46039f"
             ],
             [
              0.2222222222222222,
              "#7201a8"
             ],
             [
              0.3333333333333333,
              "#9c179e"
             ],
             [
              0.4444444444444444,
              "#bd3786"
             ],
             [
              0.5555555555555556,
              "#d8576b"
             ],
             [
              0.6666666666666666,
              "#ed7953"
             ],
             [
              0.7777777777777778,
              "#fb9f3a"
             ],
             [
              0.8888888888888888,
              "#fdca26"
             ],
             [
              1,
              "#f0f921"
             ]
            ],
            "type": "contour"
           }
          ],
          "contourcarpet": [
           {
            "colorbar": {
             "outlinewidth": 0,
             "ticks": ""
            },
            "type": "contourcarpet"
           }
          ],
          "heatmap": [
           {
            "colorbar": {
             "outlinewidth": 0,
             "ticks": ""
            },
            "colorscale": [
             [
              0,
              "#0d0887"
             ],
             [
              0.1111111111111111,
              "#46039f"
             ],
             [
              0.2222222222222222,
              "#7201a8"
             ],
             [
              0.3333333333333333,
              "#9c179e"
             ],
             [
              0.4444444444444444,
              "#bd3786"
             ],
             [
              0.5555555555555556,
              "#d8576b"
             ],
             [
              0.6666666666666666,
              "#ed7953"
             ],
             [
              0.7777777777777778,
              "#fb9f3a"
             ],
             [
              0.8888888888888888,
              "#fdca26"
             ],
             [
              1,
              "#f0f921"
             ]
            ],
            "type": "heatmap"
           }
          ],
          "heatmapgl": [
           {
            "colorbar": {
             "outlinewidth": 0,
             "ticks": ""
            },
            "colorscale": [
             [
              0,
              "#0d0887"
             ],
             [
              0.1111111111111111,
              "#46039f"
             ],
             [
              0.2222222222222222,
              "#7201a8"
             ],
             [
              0.3333333333333333,
              "#9c179e"
             ],
             [
              0.4444444444444444,
              "#bd3786"
             ],
             [
              0.5555555555555556,
              "#d8576b"
             ],
             [
              0.6666666666666666,
              "#ed7953"
             ],
             [
              0.7777777777777778,
              "#fb9f3a"
             ],
             [
              0.8888888888888888,
              "#fdca26"
             ],
             [
              1,
              "#f0f921"
             ]
            ],
            "type": "heatmapgl"
           }
          ],
          "histogram": [
           {
            "marker": {
             "pattern": {
              "fillmode": "overlay",
              "size": 10,
              "solidity": 0.2
             }
            },
            "type": "histogram"
           }
          ],
          "histogram2d": [
           {
            "colorbar": {
             "outlinewidth": 0,
             "ticks": ""
            },
            "colorscale": [
             [
              0,
              "#0d0887"
             ],
             [
              0.1111111111111111,
              "#46039f"
             ],
             [
              0.2222222222222222,
              "#7201a8"
             ],
             [
              0.3333333333333333,
              "#9c179e"
             ],
             [
              0.4444444444444444,
              "#bd3786"
             ],
             [
              0.5555555555555556,
              "#d8576b"
             ],
             [
              0.6666666666666666,
              "#ed7953"
             ],
             [
              0.7777777777777778,
              "#fb9f3a"
             ],
             [
              0.8888888888888888,
              "#fdca26"
             ],
             [
              1,
              "#f0f921"
             ]
            ],
            "type": "histogram2d"
           }
          ],
          "histogram2dcontour": [
           {
            "colorbar": {
             "outlinewidth": 0,
             "ticks": ""
            },
            "colorscale": [
             [
              0,
              "#0d0887"
             ],
             [
              0.1111111111111111,
              "#46039f"
             ],
             [
              0.2222222222222222,
              "#7201a8"
             ],
             [
              0.3333333333333333,
              "#9c179e"
             ],
             [
              0.4444444444444444,
              "#bd3786"
             ],
             [
              0.5555555555555556,
              "#d8576b"
             ],
             [
              0.6666666666666666,
              "#ed7953"
             ],
             [
              0.7777777777777778,
              "#fb9f3a"
             ],
             [
              0.8888888888888888,
              "#fdca26"
             ],
             [
              1,
              "#f0f921"
             ]
            ],
            "type": "histogram2dcontour"
           }
          ],
          "mesh3d": [
           {
            "colorbar": {
             "outlinewidth": 0,
             "ticks": ""
            },
            "type": "mesh3d"
           }
          ],
          "parcoords": [
           {
            "line": {
             "colorbar": {
              "outlinewidth": 0,
              "ticks": ""
             }
            },
            "type": "parcoords"
           }
          ],
          "pie": [
           {
            "automargin": true,
            "type": "pie"
           }
          ],
          "scatter": [
           {
            "fillpattern": {
             "fillmode": "overlay",
             "size": 10,
             "solidity": 0.2
            },
            "type": "scatter"
           }
          ],
          "scatter3d": [
           {
            "line": {
             "colorbar": {
              "outlinewidth": 0,
              "ticks": ""
             }
            },
            "marker": {
             "colorbar": {
              "outlinewidth": 0,
              "ticks": ""
             }
            },
            "type": "scatter3d"
           }
          ],
          "scattercarpet": [
           {
            "marker": {
             "colorbar": {
              "outlinewidth": 0,
              "ticks": ""
             }
            },
            "type": "scattercarpet"
           }
          ],
          "scattergeo": [
           {
            "marker": {
             "colorbar": {
              "outlinewidth": 0,
              "ticks": ""
             }
            },
            "type": "scattergeo"
           }
          ],
          "scattergl": [
           {
            "marker": {
             "colorbar": {
              "outlinewidth": 0,
              "ticks": ""
             }
            },
            "type": "scattergl"
           }
          ],
          "scattermapbox": [
           {
            "marker": {
             "colorbar": {
              "outlinewidth": 0,
              "ticks": ""
             }
            },
            "type": "scattermapbox"
           }
          ],
          "scatterpolar": [
           {
            "marker": {
             "colorbar": {
              "outlinewidth": 0,
              "ticks": ""
             }
            },
            "type": "scatterpolar"
           }
          ],
          "scatterpolargl": [
           {
            "marker": {
             "colorbar": {
              "outlinewidth": 0,
              "ticks": ""
             }
            },
            "type": "scatterpolargl"
           }
          ],
          "scatterternary": [
           {
            "marker": {
             "colorbar": {
              "outlinewidth": 0,
              "ticks": ""
             }
            },
            "type": "scatterternary"
           }
          ],
          "surface": [
           {
            "colorbar": {
             "outlinewidth": 0,
             "ticks": ""
            },
            "colorscale": [
             [
              0,
              "#0d0887"
             ],
             [
              0.1111111111111111,
              "#46039f"
             ],
             [
              0.2222222222222222,
              "#7201a8"
             ],
             [
              0.3333333333333333,
              "#9c179e"
             ],
             [
              0.4444444444444444,
              "#bd3786"
             ],
             [
              0.5555555555555556,
              "#d8576b"
             ],
             [
              0.6666666666666666,
              "#ed7953"
             ],
             [
              0.7777777777777778,
              "#fb9f3a"
             ],
             [
              0.8888888888888888,
              "#fdca26"
             ],
             [
              1,
              "#f0f921"
             ]
            ],
            "type": "surface"
           }
          ],
          "table": [
           {
            "cells": {
             "fill": {
              "color": "#EBF0F8"
             },
             "line": {
              "color": "white"
             }
            },
            "header": {
             "fill": {
              "color": "#C8D4E3"
             },
             "line": {
              "color": "white"
             }
            },
            "type": "table"
           }
          ]
         },
         "layout": {
          "annotationdefaults": {
           "arrowcolor": "#2a3f5f",
           "arrowhead": 0,
           "arrowwidth": 1
          },
          "autotypenumbers": "strict",
          "coloraxis": {
           "colorbar": {
            "outlinewidth": 0,
            "ticks": ""
           }
          },
          "colorscale": {
           "diverging": [
            [
             0,
             "#8e0152"
            ],
            [
             0.1,
             "#c51b7d"
            ],
            [
             0.2,
             "#de77ae"
            ],
            [
             0.3,
             "#f1b6da"
            ],
            [
             0.4,
             "#fde0ef"
            ],
            [
             0.5,
             "#f7f7f7"
            ],
            [
             0.6,
             "#e6f5d0"
            ],
            [
             0.7,
             "#b8e186"
            ],
            [
             0.8,
             "#7fbc41"
            ],
            [
             0.9,
             "#4d9221"
            ],
            [
             1,
             "#276419"
            ]
           ],
           "sequential": [
            [
             0,
             "#0d0887"
            ],
            [
             0.1111111111111111,
             "#46039f"
            ],
            [
             0.2222222222222222,
             "#7201a8"
            ],
            [
             0.3333333333333333,
             "#9c179e"
            ],
            [
             0.4444444444444444,
             "#bd3786"
            ],
            [
             0.5555555555555556,
             "#d8576b"
            ],
            [
             0.6666666666666666,
             "#ed7953"
            ],
            [
             0.7777777777777778,
             "#fb9f3a"
            ],
            [
             0.8888888888888888,
             "#fdca26"
            ],
            [
             1,
             "#f0f921"
            ]
           ],
           "sequentialminus": [
            [
             0,
             "#0d0887"
            ],
            [
             0.1111111111111111,
             "#46039f"
            ],
            [
             0.2222222222222222,
             "#7201a8"
            ],
            [
             0.3333333333333333,
             "#9c179e"
            ],
            [
             0.4444444444444444,
             "#bd3786"
            ],
            [
             0.5555555555555556,
             "#d8576b"
            ],
            [
             0.6666666666666666,
             "#ed7953"
            ],
            [
             0.7777777777777778,
             "#fb9f3a"
            ],
            [
             0.8888888888888888,
             "#fdca26"
            ],
            [
             1,
             "#f0f921"
            ]
           ]
          },
          "colorway": [
           "#636efa",
           "#EF553B",
           "#00cc96",
           "#ab63fa",
           "#FFA15A",
           "#19d3f3",
           "#FF6692",
           "#B6E880",
           "#FF97FF",
           "#FECB52"
          ],
          "font": {
           "color": "#2a3f5f"
          },
          "geo": {
           "bgcolor": "white",
           "lakecolor": "white",
           "landcolor": "#E5ECF6",
           "showlakes": true,
           "showland": true,
           "subunitcolor": "white"
          },
          "hoverlabel": {
           "align": "left"
          },
          "hovermode": "closest",
          "mapbox": {
           "style": "light"
          },
          "paper_bgcolor": "white",
          "plot_bgcolor": "#E5ECF6",
          "polar": {
           "angularaxis": {
            "gridcolor": "white",
            "linecolor": "white",
            "ticks": ""
           },
           "bgcolor": "#E5ECF6",
           "radialaxis": {
            "gridcolor": "white",
            "linecolor": "white",
            "ticks": ""
           }
          },
          "scene": {
           "xaxis": {
            "backgroundcolor": "#E5ECF6",
            "gridcolor": "white",
            "gridwidth": 2,
            "linecolor": "white",
            "showbackground": true,
            "ticks": "",
            "zerolinecolor": "white"
           },
           "yaxis": {
            "backgroundcolor": "#E5ECF6",
            "gridcolor": "white",
            "gridwidth": 2,
            "linecolor": "white",
            "showbackground": true,
            "ticks": "",
            "zerolinecolor": "white"
           },
           "zaxis": {
            "backgroundcolor": "#E5ECF6",
            "gridcolor": "white",
            "gridwidth": 2,
            "linecolor": "white",
            "showbackground": true,
            "ticks": "",
            "zerolinecolor": "white"
           }
          },
          "shapedefaults": {
           "line": {
            "color": "#2a3f5f"
           }
          },
          "ternary": {
           "aaxis": {
            "gridcolor": "white",
            "linecolor": "white",
            "ticks": ""
           },
           "baxis": {
            "gridcolor": "white",
            "linecolor": "white",
            "ticks": ""
           },
           "bgcolor": "#E5ECF6",
           "caxis": {
            "gridcolor": "white",
            "linecolor": "white",
            "ticks": ""
           }
          },
          "title": {
           "x": 0.05
          },
          "xaxis": {
           "automargin": true,
           "gridcolor": "white",
           "linecolor": "white",
           "ticks": "",
           "title": {
            "standoff": 15
           },
           "zerolinecolor": "white",
           "zerolinewidth": 2
          },
          "yaxis": {
           "automargin": true,
           "gridcolor": "white",
           "linecolor": "white",
           "ticks": "",
           "title": {
            "standoff": 15
           },
           "zerolinecolor": "white",
           "zerolinewidth": 2
          }
         }
        },
        "xaxis": {
         "anchor": "y",
         "domain": [
          0,
          0.2888888888888889
         ]
        },
        "xaxis2": {
         "anchor": "y2",
         "domain": [
          0.35555555555555557,
          0.6444444444444445
         ]
        },
        "xaxis3": {
         "anchor": "y3",
         "domain": [
          0.7111111111111111,
          1
         ]
        },
        "yaxis": {
         "anchor": "x",
         "domain": [
          0,
          1
         ]
        },
        "yaxis2": {
         "anchor": "x2",
         "domain": [
          0,
          1
         ]
        },
        "yaxis3": {
         "anchor": "x3",
         "domain": [
          0,
          1
         ]
        }
       }
      },
      "text/html": [
       "<div>                            <div id=\"b45964a5-d2a5-4beb-8fd4-0ec54d5b84b4\" class=\"plotly-graph-div\" style=\"height:525px; width:100%;\"></div>            <script type=\"text/javascript\">                require([\"plotly\"], function(Plotly) {                    window.PLOTLYENV=window.PLOTLYENV || {};                                    if (document.getElementById(\"b45964a5-d2a5-4beb-8fd4-0ec54d5b84b4\")) {                    Plotly.newPlot(                        \"b45964a5-d2a5-4beb-8fd4-0ec54d5b84b4\",                        [{\"alignmentgroup\":\"True\",\"hovertemplate\":\"Monetary_Value=%{x}<extra></extra>\",\"legendgroup\":\"\",\"marker\":{\"color\":\"#636efa\"},\"name\":\"\",\"notched\":false,\"offsetgroup\":\"\",\"orientation\":\"h\",\"showlegend\":false,\"x\":[59034.319,1009600.709,126156.133,313714.277,1079512.053,102630.95499999999,1628703.258,5170552.074,476297.143,6563657.568,647882.3589999999,3409336.604,182643.631,158470.413,638901.497,1712878.265,718318.51,100482.24,11363759.48,162702.019,195664.696,4110733.875,1389255.402,71162.85,1772692.187,1959037.721,89471.51,381272.702,606108.565,618801.292,561377.8589999999,164964.32799999998,200163.321,2222585.406,279291.06200000003,982203.186,631914.395,1485986.184,15652619.032,350736.809,3552093.764,1606697.064,292135.429,52358.555,1620194.044,1918616.838,50644.972,216377.63199999998,156405.64399999997,5320324.896,1015101.858,8382071.782,374567.63,383528.092,19407522.966,74873.61,6050406.947,56407.88699999999,1021566.669,121873.357,4527596.519,258231.054,192589.685,94660.47099999999,304526.25299999997,10043388.979,12012256.78,21726033.099,2401587.722,2185590.856,142.953,139715.86,206531.164,165633.686,2338984.729,537401.11,984454.853,10310263.496,1428792.608,1446043.868,1855045.355,167466.456,806219.237,13116812.689,175785.848,526239.335,4291115.911,77080.788,312576.82399999996,20730451.015,275132.709,6223746.92,17738.531,100227.75,9649810.215,4370340.195,217.328,7413083.58,169662.465,1683820.896,98050.118,376307.563,23910113.471,2625217.962,1289051.9109999998,2061127.974,246444.74999999997,1773831.493,51.374,116896.48800000001,2081345.972,187315.554,1233071.472,62348.707,905951.335,701906.319,7978680.227,2237406.822,13243859.078,1831920.136,218786.141,373410.627,12881695.345,204566.695,7620730.25,706907.532,584985.912,511944.613,11820889.718,195996.009,5271432.352,2228626.9,2482609.994,2949585.5779999997,1044326.201,76838.657,104598.29699999999,156342.67599999998,1037282.863,5372842.027,4579459.626,7986355.574,220257.27000000002,12471120.168,1150860.237,137001.589,382267.712,60411.591,1441955.317,2495716.025,189890.83299999998,2850768.42,23573536.948,9796834.936,366770.529,994244.0819999999,11495877.275,275558.95,2001598.462,142435.044,288549.602,904067.191,193889.59,6106312.739,253964.071,13399966.219,3181672.145,2700927.887,1022785.45,1929562.339,1533299.428,81669.105,1194433.736,278942.05199999997,221551.00400000002,161529.393,4694759.3719999995,3360223.23,81920.773,3326709.821,2410636.057,628696.329,3938896.702,367628.213,375345.431,94888.88299999999,397585.885,108211.868,198173.063,293456.771,18463166.812,1854691.16,256092.709,753687.095,861535.35,249739.962,5951806.726,4468981.879,1428884.561,1887807.806,3865853.346,7599375.275,1248733.6739999999,272950.13,61979.79,1459455.712,606524.13,1610304.277,585822.125,3489287.383,2288001.61,2432035.215,574802.368,264345.206,7405227.098,8772150.569,993956.1869999999,895982.773,790868.322,13633379.33,3217658.714,76265.332,6468722.632,3611217.35,3567574.8649999998,1049858.086,74700.04,8866357.157,54805.824,425692.036,145233.89,210093.61599999998,76073.572,2477635.641,120761.82899999998,80128.905,2003079.808,217164.494,3750422.836,10555331.943,108439.974,7349392.620999999,2125064.26,172755.7,286789.32,16867660.151,207203.956,16875477.397,102433.534,1878613.9679999999,941090.505,631811.647,106132.90400000001,147385.886,2487369.4159999997,23561373.023,24552288.131,3001308.0609999998,2892381.003,517945.035,657798.1869999999,5394239.433999999,1622443.28,3000616.246,78.013,3481813.86,140709.62900000002,1460754.988,14294437.386,362274.794,488179.871,84206.185,2516937.04,1266610.959,300721.891,527603.602,4822883.272,1306305.568,14365356.711,518066.823,14641001.018,4995095.482,719410.488,3896098.369,2281844.108,219844.476,326483.521,1546555.6709999999,13075944.757,22820424.3,2419833.057,64076.297999999995,238543.133,484048.02099999995,912444.876,478009.519,853150.236,596048.424,639413.537,7987.279999999999,1015767.68,268469.848,372552.093,152496.358,55167.55,93985.74100000001,4701322.545,11865562.454,2819164.961,6089001.197,2859296.351,54136.891,5083584.987,1239283.374,108692.57699999999,59470.96399999999,4060430.841,87412.57199999999,244716.36000000002,4553430.263,1747360.334,114159.114,14325.305,408770.695,77369.261,1966941.378,7895040.941,118788.707,8969.777999999998,10283915.57,1558723.353,293090.999,90322.41100000001,19142843.251,2312170.867,1093642.555,1816227.1979999999,203886.117,51299.965,221199.716,55756.770000000004,5779247.121,384432.339,351269.725,725511.448,111792.884,222306.025,4334542.1729999995,2901079.903,140906.53999999998],\"x0\":\" \",\"xaxis\":\"x\",\"y0\":\" \",\"yaxis\":\"y\",\"type\":\"box\"},{\"alignmentgroup\":\"True\",\"hovertemplate\":\"Recency=%{x}<extra></extra>\",\"legendgroup\":\"\",\"marker\":{\"color\":\"#636efa\"},\"name\":\"\",\"notched\":false,\"offsetgroup\":\"\",\"orientation\":\"h\",\"showlegend\":false,\"x\":[9,4,67,259,15,31,107,4,277,20,14,241,79,220,30,46,64,326,3,307,9,2,220,111,182,19,248,70,74,233,139,222,227,171,26,24,311,2,12,28,156,288,146,146,7,47,194,45,61,66,168,5,45,15,1,335,5,62,81,292,218,307,309,19,79,71,202,1,36,14,208,179,38,73,231,31,56,1,46,27,168,172,48,1,123,214,206,275,175,14,174,1,349,128,11,11,290,6,120,6,243,148,10,55,198,248,61,16,106,131,30,222,213,34,336,228,130,24,45,11,21,82,4,164,8,57,69,9,3,83,6,285,1,130,45,20,148,335,90,19,180,242,15,136,10,111,15,143,1,28,17,8,1,2,87,282,2,15,2,299,62,127,126,2,24,25,318,10,96,8,11,138,77,8,58,232,24,80,128,18,15,69,25,30,5,149,277,290,1,240,38,31,222,48,185,67,233,275,5,253,345,12,21,213,170,103,13,2,293,14,312,16,116,364,88,1,163,42,107,2,240,40,1,56,85,169,331,211,13,87,60,76,10,62,55,76,170,12,11,21,112,145,8,72,349,33,248,2,123,314,19,150,179,15,97,1,1,65,13,103,4,11,283,200,340,2,355,1,2,197,35,179,45,82,124,128,75,62,1,335,1,18,19,92,38,107,224,15,77,11,328,256,143,154,221,152,77,27,88,272,181,44,14,308,52,207,28,4,10,2,38,27,26,147,202,54,1,63,90,115,28,90,257,304,124,191,57,360,74,111,6,48,95,2,18,8,42,169,256,262,33,107,268,75,277,225,306,84,74,154],\"x0\":\" \",\"xaxis\":\"x2\",\"y0\":\" \",\"yaxis\":\"y2\",\"type\":\"box\"},{\"alignmentgroup\":\"True\",\"hovertemplate\":\"Frequency=%{x}<extra></extra>\",\"legendgroup\":\"\",\"marker\":{\"color\":\"#636efa\"},\"name\":\"\",\"notched\":false,\"offsetgroup\":\"\",\"orientation\":\"h\",\"showlegend\":false,\"x\":[1,17,1,5,12,2,5,43,7,43,8,20,2,3,9,20,7,1,111,2,2,41,14,1,12,10,1,5,6,9,3,2,1,14,4,8,7,20,78,6,26,9,3,1,22,21,1,1,2,38,8,65,5,5,132,1,53,1,6,2,30,4,2,1,2,53,42,107,23,30,26,2,11,2,24,8,14,107,4,22,25,3,10,82,3,6,15,1,4,129,5,47,1,1,56,39,57,82,3,20,1,4,133,28,19,16,4,20,22,2,16,3,7,1,4,9,67,21,78,14,3,59,87,4,44,11,7,9,79,2,60,17,35,18,9,1,1,1,7,38,30,30,3,73,13,9,5,1,18,10,3,37,68,90,1,7,45,5,10,2,3,9,3,76,3,119,20,19,17,22,9,1,16,6,3,2,47,20,1,111,27,7,29,5,5,1,5,1,3,3,46,16,5,10,8,4,35,21,13,20,13,80,15,4,1,8,6,13,2,35,14,20,10,2,41,55,11,11,10,56,31,1,47,31,21,12,1,77,1,3,2,2,1,20,2,1,18,4,33,84,1,49,30,2,4,108,3,143,2,7,14,7,1,2,24,159,115,21,33,102,6,56,13,21,12,30,2,14,113,3,8,1,33,20,3,6,47,17,124,4,147,63,12,25,20,4,4,24,24,159,11,1,4,7,11,6,7,5,6,1,8,3,5,2,1,1,54,99,16,41,21,1,43,11,1,2,25,1,12,36,19,5,1,2,3,22,58,1,1,66,20,4,1,115,20,16,16,2,1,3,1,59,5,6,11,2,3,26,13,2],\"x0\":\" \",\"xaxis\":\"x3\",\"y0\":\" \",\"yaxis\":\"y3\",\"type\":\"box\"}],                        {\"template\":{\"data\":{\"histogram2dcontour\":[{\"type\":\"histogram2dcontour\",\"colorbar\":{\"outlinewidth\":0,\"ticks\":\"\"},\"colorscale\":[[0.0,\"#0d0887\"],[0.1111111111111111,\"#46039f\"],[0.2222222222222222,\"#7201a8\"],[0.3333333333333333,\"#9c179e\"],[0.4444444444444444,\"#bd3786\"],[0.5555555555555556,\"#d8576b\"],[0.6666666666666666,\"#ed7953\"],[0.7777777777777778,\"#fb9f3a\"],[0.8888888888888888,\"#fdca26\"],[1.0,\"#f0f921\"]]}],\"choropleth\":[{\"type\":\"choropleth\",\"colorbar\":{\"outlinewidth\":0,\"ticks\":\"\"}}],\"histogram2d\":[{\"type\":\"histogram2d\",\"colorbar\":{\"outlinewidth\":0,\"ticks\":\"\"},\"colorscale\":[[0.0,\"#0d0887\"],[0.1111111111111111,\"#46039f\"],[0.2222222222222222,\"#7201a8\"],[0.3333333333333333,\"#9c179e\"],[0.4444444444444444,\"#bd3786\"],[0.5555555555555556,\"#d8576b\"],[0.6666666666666666,\"#ed7953\"],[0.7777777777777778,\"#fb9f3a\"],[0.8888888888888888,\"#fdca26\"],[1.0,\"#f0f921\"]]}],\"heatmap\":[{\"type\":\"heatmap\",\"colorbar\":{\"outlinewidth\":0,\"ticks\":\"\"},\"colorscale\":[[0.0,\"#0d0887\"],[0.1111111111111111,\"#46039f\"],[0.2222222222222222,\"#7201a8\"],[0.3333333333333333,\"#9c179e\"],[0.4444444444444444,\"#bd3786\"],[0.5555555555555556,\"#d8576b\"],[0.6666666666666666,\"#ed7953\"],[0.7777777777777778,\"#fb9f3a\"],[0.8888888888888888,\"#fdca26\"],[1.0,\"#f0f921\"]]}],\"heatmapgl\":[{\"type\":\"heatmapgl\",\"colorbar\":{\"outlinewidth\":0,\"ticks\":\"\"},\"colorscale\":[[0.0,\"#0d0887\"],[0.1111111111111111,\"#46039f\"],[0.2222222222222222,\"#7201a8\"],[0.3333333333333333,\"#9c179e\"],[0.4444444444444444,\"#bd3786\"],[0.5555555555555556,\"#d8576b\"],[0.6666666666666666,\"#ed7953\"],[0.7777777777777778,\"#fb9f3a\"],[0.8888888888888888,\"#fdca26\"],[1.0,\"#f0f921\"]]}],\"contourcarpet\":[{\"type\":\"contourcarpet\",\"colorbar\":{\"outlinewidth\":0,\"ticks\":\"\"}}],\"contour\":[{\"type\":\"contour\",\"colorbar\":{\"outlinewidth\":0,\"ticks\":\"\"},\"colorscale\":[[0.0,\"#0d0887\"],[0.1111111111111111,\"#46039f\"],[0.2222222222222222,\"#7201a8\"],[0.3333333333333333,\"#9c179e\"],[0.4444444444444444,\"#bd3786\"],[0.5555555555555556,\"#d8576b\"],[0.6666666666666666,\"#ed7953\"],[0.7777777777777778,\"#fb9f3a\"],[0.8888888888888888,\"#fdca26\"],[1.0,\"#f0f921\"]]}],\"surface\":[{\"type\":\"surface\",\"colorbar\":{\"outlinewidth\":0,\"ticks\":\"\"},\"colorscale\":[[0.0,\"#0d0887\"],[0.1111111111111111,\"#46039f\"],[0.2222222222222222,\"#7201a8\"],[0.3333333333333333,\"#9c179e\"],[0.4444444444444444,\"#bd3786\"],[0.5555555555555556,\"#d8576b\"],[0.6666666666666666,\"#ed7953\"],[0.7777777777777778,\"#fb9f3a\"],[0.8888888888888888,\"#fdca26\"],[1.0,\"#f0f921\"]]}],\"mesh3d\":[{\"type\":\"mesh3d\",\"colorbar\":{\"outlinewidth\":0,\"ticks\":\"\"}}],\"scatter\":[{\"fillpattern\":{\"fillmode\":\"overlay\",\"size\":10,\"solidity\":0.2},\"type\":\"scatter\"}],\"parcoords\":[{\"type\":\"parcoords\",\"line\":{\"colorbar\":{\"outlinewidth\":0,\"ticks\":\"\"}}}],\"scatterpolargl\":[{\"type\":\"scatterpolargl\",\"marker\":{\"colorbar\":{\"outlinewidth\":0,\"ticks\":\"\"}}}],\"bar\":[{\"error_x\":{\"color\":\"#2a3f5f\"},\"error_y\":{\"color\":\"#2a3f5f\"},\"marker\":{\"line\":{\"color\":\"#E5ECF6\",\"width\":0.5},\"pattern\":{\"fillmode\":\"overlay\",\"size\":10,\"solidity\":0.2}},\"type\":\"bar\"}],\"scattergeo\":[{\"type\":\"scattergeo\",\"marker\":{\"colorbar\":{\"outlinewidth\":0,\"ticks\":\"\"}}}],\"scatterpolar\":[{\"type\":\"scatterpolar\",\"marker\":{\"colorbar\":{\"outlinewidth\":0,\"ticks\":\"\"}}}],\"histogram\":[{\"marker\":{\"pattern\":{\"fillmode\":\"overlay\",\"size\":10,\"solidity\":0.2}},\"type\":\"histogram\"}],\"scattergl\":[{\"type\":\"scattergl\",\"marker\":{\"colorbar\":{\"outlinewidth\":0,\"ticks\":\"\"}}}],\"scatter3d\":[{\"type\":\"scatter3d\",\"line\":{\"colorbar\":{\"outlinewidth\":0,\"ticks\":\"\"}},\"marker\":{\"colorbar\":{\"outlinewidth\":0,\"ticks\":\"\"}}}],\"scattermapbox\":[{\"type\":\"scattermapbox\",\"marker\":{\"colorbar\":{\"outlinewidth\":0,\"ticks\":\"\"}}}],\"scatterternary\":[{\"type\":\"scatterternary\",\"marker\":{\"colorbar\":{\"outlinewidth\":0,\"ticks\":\"\"}}}],\"scattercarpet\":[{\"type\":\"scattercarpet\",\"marker\":{\"colorbar\":{\"outlinewidth\":0,\"ticks\":\"\"}}}],\"carpet\":[{\"aaxis\":{\"endlinecolor\":\"#2a3f5f\",\"gridcolor\":\"white\",\"linecolor\":\"white\",\"minorgridcolor\":\"white\",\"startlinecolor\":\"#2a3f5f\"},\"baxis\":{\"endlinecolor\":\"#2a3f5f\",\"gridcolor\":\"white\",\"linecolor\":\"white\",\"minorgridcolor\":\"white\",\"startlinecolor\":\"#2a3f5f\"},\"type\":\"carpet\"}],\"table\":[{\"cells\":{\"fill\":{\"color\":\"#EBF0F8\"},\"line\":{\"color\":\"white\"}},\"header\":{\"fill\":{\"color\":\"#C8D4E3\"},\"line\":{\"color\":\"white\"}},\"type\":\"table\"}],\"barpolar\":[{\"marker\":{\"line\":{\"color\":\"#E5ECF6\",\"width\":0.5},\"pattern\":{\"fillmode\":\"overlay\",\"size\":10,\"solidity\":0.2}},\"type\":\"barpolar\"}],\"pie\":[{\"automargin\":true,\"type\":\"pie\"}]},\"layout\":{\"autotypenumbers\":\"strict\",\"colorway\":[\"#636efa\",\"#EF553B\",\"#00cc96\",\"#ab63fa\",\"#FFA15A\",\"#19d3f3\",\"#FF6692\",\"#B6E880\",\"#FF97FF\",\"#FECB52\"],\"font\":{\"color\":\"#2a3f5f\"},\"hovermode\":\"closest\",\"hoverlabel\":{\"align\":\"left\"},\"paper_bgcolor\":\"white\",\"plot_bgcolor\":\"#E5ECF6\",\"polar\":{\"bgcolor\":\"#E5ECF6\",\"angularaxis\":{\"gridcolor\":\"white\",\"linecolor\":\"white\",\"ticks\":\"\"},\"radialaxis\":{\"gridcolor\":\"white\",\"linecolor\":\"white\",\"ticks\":\"\"}},\"ternary\":{\"bgcolor\":\"#E5ECF6\",\"aaxis\":{\"gridcolor\":\"white\",\"linecolor\":\"white\",\"ticks\":\"\"},\"baxis\":{\"gridcolor\":\"white\",\"linecolor\":\"white\",\"ticks\":\"\"},\"caxis\":{\"gridcolor\":\"white\",\"linecolor\":\"white\",\"ticks\":\"\"}},\"coloraxis\":{\"colorbar\":{\"outlinewidth\":0,\"ticks\":\"\"}},\"colorscale\":{\"sequential\":[[0.0,\"#0d0887\"],[0.1111111111111111,\"#46039f\"],[0.2222222222222222,\"#7201a8\"],[0.3333333333333333,\"#9c179e\"],[0.4444444444444444,\"#bd3786\"],[0.5555555555555556,\"#d8576b\"],[0.6666666666666666,\"#ed7953\"],[0.7777777777777778,\"#fb9f3a\"],[0.8888888888888888,\"#fdca26\"],[1.0,\"#f0f921\"]],\"sequentialminus\":[[0.0,\"#0d0887\"],[0.1111111111111111,\"#46039f\"],[0.2222222222222222,\"#7201a8\"],[0.3333333333333333,\"#9c179e\"],[0.4444444444444444,\"#bd3786\"],[0.5555555555555556,\"#d8576b\"],[0.6666666666666666,\"#ed7953\"],[0.7777777777777778,\"#fb9f3a\"],[0.8888888888888888,\"#fdca26\"],[1.0,\"#f0f921\"]],\"diverging\":[[0,\"#8e0152\"],[0.1,\"#c51b7d\"],[0.2,\"#de77ae\"],[0.3,\"#f1b6da\"],[0.4,\"#fde0ef\"],[0.5,\"#f7f7f7\"],[0.6,\"#e6f5d0\"],[0.7,\"#b8e186\"],[0.8,\"#7fbc41\"],[0.9,\"#4d9221\"],[1,\"#276419\"]]},\"xaxis\":{\"gridcolor\":\"white\",\"linecolor\":\"white\",\"ticks\":\"\",\"title\":{\"standoff\":15},\"zerolinecolor\":\"white\",\"automargin\":true,\"zerolinewidth\":2},\"yaxis\":{\"gridcolor\":\"white\",\"linecolor\":\"white\",\"ticks\":\"\",\"title\":{\"standoff\":15},\"zerolinecolor\":\"white\",\"automargin\":true,\"zerolinewidth\":2},\"scene\":{\"xaxis\":{\"backgroundcolor\":\"#E5ECF6\",\"gridcolor\":\"white\",\"linecolor\":\"white\",\"showbackground\":true,\"ticks\":\"\",\"zerolinecolor\":\"white\",\"gridwidth\":2},\"yaxis\":{\"backgroundcolor\":\"#E5ECF6\",\"gridcolor\":\"white\",\"linecolor\":\"white\",\"showbackground\":true,\"ticks\":\"\",\"zerolinecolor\":\"white\",\"gridwidth\":2},\"zaxis\":{\"backgroundcolor\":\"#E5ECF6\",\"gridcolor\":\"white\",\"linecolor\":\"white\",\"showbackground\":true,\"ticks\":\"\",\"zerolinecolor\":\"white\",\"gridwidth\":2}},\"shapedefaults\":{\"line\":{\"color\":\"#2a3f5f\"}},\"annotationdefaults\":{\"arrowcolor\":\"#2a3f5f\",\"arrowhead\":0,\"arrowwidth\":1},\"geo\":{\"bgcolor\":\"white\",\"landcolor\":\"#E5ECF6\",\"subunitcolor\":\"white\",\"showland\":true,\"showlakes\":true,\"lakecolor\":\"white\"},\"title\":{\"x\":0.05},\"mapbox\":{\"style\":\"light\"}}},\"xaxis\":{\"anchor\":\"y\",\"domain\":[0.0,0.2888888888888889]},\"yaxis\":{\"anchor\":\"x\",\"domain\":[0.0,1.0]},\"xaxis2\":{\"anchor\":\"y2\",\"domain\":[0.35555555555555557,0.6444444444444445]},\"yaxis2\":{\"anchor\":\"x2\",\"domain\":[0.0,1.0]},\"xaxis3\":{\"anchor\":\"y3\",\"domain\":[0.7111111111111111,1.0]},\"yaxis3\":{\"anchor\":\"x3\",\"domain\":[0.0,1.0]},\"annotations\":[{\"font\":{\"size\":16},\"showarrow\":false,\"text\":\"Recency\",\"x\":0.14444444444444446,\"xanchor\":\"center\",\"xref\":\"paper\",\"y\":1.0,\"yanchor\":\"bottom\",\"yref\":\"paper\"},{\"font\":{\"size\":16},\"showarrow\":false,\"text\":\"Frequency\",\"x\":0.5,\"xanchor\":\"center\",\"xref\":\"paper\",\"y\":1.0,\"yanchor\":\"bottom\",\"yref\":\"paper\"},{\"font\":{\"size\":16},\"showarrow\":false,\"text\":\"Monetary\",\"x\":0.8555555555555556,\"xanchor\":\"center\",\"xref\":\"paper\",\"y\":1.0,\"yanchor\":\"bottom\",\"yref\":\"paper\"}],\"showlegend\":true},                        {\"responsive\": true}                    ).then(function(){\n",
       "                            \n",
       "var gd = document.getElementById('b45964a5-d2a5-4beb-8fd4-0ec54d5b84b4');\n",
       "var x = new MutationObserver(function (mutations, observer) {{\n",
       "        var display = window.getComputedStyle(gd).display;\n",
       "        if (!display || display === 'none') {{\n",
       "            console.log([gd, 'removed!']);\n",
       "            Plotly.purge(gd);\n",
       "            observer.disconnect();\n",
       "        }}\n",
       "}});\n",
       "\n",
       "// Listen for the removal of the full notebook cells\n",
       "var notebookContainer = gd.closest('#notebook-container');\n",
       "if (notebookContainer) {{\n",
       "    x.observe(notebookContainer, {childList: true});\n",
       "}}\n",
       "\n",
       "// Listen for the clearing of the current output cell\n",
       "var outputEl = gd.closest('.output');\n",
       "if (outputEl) {{\n",
       "    x.observe(outputEl, {childList: true});\n",
       "}}\n",
       "\n",
       "                        })                };                });            </script>        </div>"
      ]
     },
     "metadata": {},
     "output_type": "display_data"
    }
   ],
   "source": [
    "rfm_table_cleaned = rfm_table\n",
    "boxes = [px.box(rfm_table_cleaned, x=column)\n",
    "         for column in rfm_table_cleaned.columns]\n",
    "fig = make_subplots(\n",
    "    rows=1, cols=3,\n",
    "    subplot_titles=(\n",
    "        \"Recency\", \"Frequency\", \"Monetary\"\n",
    "    )\n",
    ")\n",
    "\n",
    "for i, box in enumerate(boxes):\n",
    "    fig.add_trace(boxes[i]['data'][0], row=1, col=i+1)\n",
    "\n",
    "fig.update_layout(showlegend=True)\n",
    "fig.show()"
   ]
  },
  {
   "cell_type": "markdown",
   "id": "3a02de99",
   "metadata": {},
   "source": [
    "Этап кластеризации. \n",
    "Для начала оценим, как распределены наблюдения в пространстве признаков. У нас всего три параметра, по которым мы хотим кластеризовать клиентов, поэтому данные визуализируем в виде трёхмерной диаграммы рассеяния.\n",
    "\n",
    "Построим визуализацию нашего трёхмерного пространства признаков:"
   ]
  },
  {
   "cell_type": "code",
   "execution_count": 842,
   "id": "1bcf89a1",
   "metadata": {},
   "outputs": [
    {
     "data": {
      "text/plain": [
       "Text(0.5, 0, 'Monetary_Value')"
      ]
     },
     "execution_count": 842,
     "metadata": {},
     "output_type": "execute_result"
    },
    {
     "data": {
      "image/png": "[encoded data removed]",
      "text/plain": [
       "<Figure size 432x432 with 1 Axes>"
      ]
     },
     "metadata": {
      "needs_background": "light"
     },
     "output_type": "display_data"
    }
   ],
   "source": [
    "# создадим трёхмерный объект\n",
    "fig = plt.figure(figsize=(6, 6))\n",
    "ax = Axes3D(fig)\n",
    "# добавим дополнительную ось в объект картинки\n",
    "fig.add_axes(ax)\n",
    "ax.azim = 20\n",
    "ax.elev = 30\n",
    "\n",
    "# визуализируем данные, передав значения x, y, z, а также информацию о группировке данных по цветам\n",
    "ax.scatter(\n",
    "    rfm_table_cleaned['Recency'].to_list(),\n",
    "    rfm_table_cleaned['Frequency'].to_list(),\n",
    "    rfm_table_cleaned['Monetary_Value'].to_list()\n",
    ")\n",
    "# добавим оси\n",
    "ax.set_xlabel('Recency')\n",
    "ax.set_ylabel('Frequency')\n",
    "ax.set_zlabel('Monetary_Value')"
   ]
  },
  {
   "cell_type": "markdown",
   "id": "55fa92d9",
   "metadata": {},
   "source": [
    "Начнём с метода главных компонент (PCA).  Стандартизируем/нормализуем данные.\n",
    "\n",
    "Обернём эти шаги по предобработке данных в pipeline.\n",
    "\n",
    "Создадим pipeline, в котором будут шаги:\n",
    "\n",
    "стандартизация с помощью StandardScaler с параметрами по умолчанию;\n",
    "метод главных компонент с двумя компонентами.\n",
    "Обучим pipeline на RFM-таблице, очищенной от выбросов, и применим к ней трансформацию.\n",
    "\n"
   ]
  },
  {
   "cell_type": "code",
   "execution_count": 843,
   "id": "caa4ec37",
   "metadata": {},
   "outputs": [
    {
     "name": "stdout",
     "output_type": "stream",
     "text": [
      "[0.70347877 0.26111153]\n"
     ]
    }
   ],
   "source": [
    "from sklearn.preprocessing import StandardScaler\n",
    "from sklearn.decomposition import PCA\n",
    "\n",
    "from sklearn.pipeline import Pipeline\n",
    "\n",
    "\n",
    "pipeline1 = Pipeline([('ss', StandardScaler()), ('pCa', PCA(n_components=2))])\n",
    "X = pipeline1.fit_transform(rfm_table_cleaned)\n",
    "print(pipeline1['pCa'].explained_variance_ratio_)"
   ]
  },
  {
   "cell_type": "markdown",
   "id": "d2f0d39f",
   "metadata": {},
   "source": [
    "Первая главная компонента объясняет 70% долю дисперсии исходных данных."
   ]
  },
  {
   "cell_type": "code",
   "execution_count": 844,
   "id": "a4960812",
   "metadata": {},
   "outputs": [],
   "source": [
    "principalComponents = X"
   ]
  },
  {
   "cell_type": "markdown",
   "id": "d3cc5cc9",
   "metadata": {},
   "source": [
    "Визуализировав пространство главных компонент после декомпозиции мы получим следующую картину:"
   ]
  },
  {
   "cell_type": "code",
   "execution_count": 845,
   "id": "299d9c3b",
   "metadata": {},
   "outputs": [
    {
     "data": {
      "text/plain": [
       "<AxesSubplot:>"
      ]
     },
     "execution_count": 845,
     "metadata": {},
     "output_type": "execute_result"
    },
    {
     "data": {
      "image/png": "[encoded data removed]",
      "text/plain": [
       "<Figure size 864x360 with 1 Axes>"
      ]
     },
     "metadata": {
      "needs_background": "light"
     },
     "output_type": "display_data"
    }
   ],
   "source": [
    "fig = plt.figure(figsize=(12, 5))\n",
    "sns.scatterplot(x=principalComponents.T[0], y=principalComponents.T[1])"
   ]
  },
  {
   "cell_type": "markdown",
   "id": "b111cecf",
   "metadata": {},
   "source": [
    "Попробуем разделить это пространство главных компонент на сегменты.\n",
    "\n",
    "Воспользуемся методом k-means.\n",
    "\n",
    "Подберем оптимальное количество кластеров для метода k-means с помощью коэффициента силуэта, перебирая возможные значения от 2 до 10 включительно.\n",
    "\n",
    "В качестве значения параметра random_state возьмем число 42. Остальные параметры -  по умолчанию.\n",
    "\n"
   ]
  },
  {
   "cell_type": "code",
   "execution_count": 846,
   "id": "73b8d1cd",
   "metadata": {},
   "outputs": [
    {
     "name": "stdout",
     "output_type": "stream",
     "text": [
      "n_clusters= 2\n",
      "silhouette_score= 0.5896977680154194\n",
      "n_clusters= 3\n",
      "silhouette_score= 0.52373425799871\n",
      "n_clusters= 4\n",
      "silhouette_score= 0.5383443424556975\n",
      "n_clusters= 5\n",
      "silhouette_score= 0.4709515480316769\n",
      "n_clusters= 6\n",
      "silhouette_score= 0.4614871475450921\n",
      "n_clusters= 7\n",
      "silhouette_score= 0.4273971207735892\n",
      "n_clusters= 8\n",
      "silhouette_score= 0.4375339925255446\n",
      "n_clusters= 9\n",
      "silhouette_score= 0.44039331959982403\n",
      "n_clusters= 10\n",
      "silhouette_score= 0.4103171412287004\n"
     ]
    },
    {
     "data": {
      "text/plain": [
       "[<matplotlib.lines.Line2D at 0x217b073f400>]"
      ]
     },
     "execution_count": 846,
     "metadata": {},
     "output_type": "execute_result"
    },
    {
     "data": {
      "image/png": "[encoded data removed]",
      "text/plain": [
       "<Figure size 432x288 with 1 Axes>"
      ]
     },
     "metadata": {
      "needs_background": "light"
     },
     "output_type": "display_data"
    }
   ],
   "source": [
    "from sklearn.cluster import KMeans\n",
    "\n",
    "silhouettes = []\n",
    "\n",
    "# определяем алгоритм кластеризации\n",
    "i = 0\n",
    "for i in range(2, 11):\n",
    "    km = KMeans(n_clusters=i, random_state=42)\n",
    "#    km.fit_predict(rfm_std)#principalComponents\n",
    "    km.fit_predict(principalComponents)\n",
    "    score = metrics.silhouette_score(\n",
    "        principalComponents, km.labels_, metric='euclidean')\n",
    "    silhouettes.append(score)\n",
    "    \n",
    "    print('n_clusters=', i)\n",
    "    print('silhouette_score=', score)\n",
    "plt.xlabel(\"cluster\", fontsize=12)\n",
    "plt.ylabel(\"silhouette\", fontsize=12)\n",
    "plt.plot([i for i in range(2, 11)], silhouettes, 'xb-')\n",
    "# вычисляем значение коэффициента силуэта"
   ]
  },
  {
   "cell_type": "markdown",
   "id": "f347bf45",
   "metadata": {},
   "source": [
    "1) Судя по полученным результатам лучше всего взять 3 кластера.\n",
    "\n",
    "2) Максимальное значение коэффициента силуэта  0.6."
   ]
  },
  {
   "cell_type": "markdown",
   "id": "b27d37ed",
   "metadata": {},
   "source": [
    "Теперь возьмём EM-алгоритм.\n",
    "\n",
    "Подберем оптимальное количество кластеров для EM-алгоритма (GaussianMixture) с помощью коэффициента силуэта, перебирая возможные значения от 2 до 10 включительно. В качестве значения параметра random_state возьмем число 42. Остальные параметры -  по умолчанию.\n",
    "\n"
   ]
  },
  {
   "cell_type": "code",
   "execution_count": 847,
   "id": "e717612e",
   "metadata": {},
   "outputs": [
    {
     "name": "stdout",
     "output_type": "stream",
     "text": [
      "n_clusters= 2\n",
      "silhouette_score= 0.500478449710129\n",
      "n_clusters= 3\n",
      "silhouette_score= 0.17990274210609283\n",
      "n_clusters= 4\n",
      "silhouette_score= 0.14504618915604534\n",
      "n_clusters= 5\n",
      "silhouette_score= 0.11017724244871557\n",
      "n_clusters= 6\n",
      "silhouette_score= 0.048782394912070766\n",
      "n_clusters= 7\n",
      "silhouette_score= 0.14896772200359415\n",
      "n_clusters= 8\n",
      "silhouette_score= 0.13193429276398597\n",
      "n_clusters= 9\n",
      "silhouette_score= 0.11142459351353645\n",
      "n_clusters= 10\n",
      "silhouette_score= 0.1474463828746824\n"
     ]
    },
    {
     "data": {
      "text/plain": [
       "[<matplotlib.lines.Line2D at 0x217b21352e0>]"
      ]
     },
     "execution_count": 847,
     "metadata": {},
     "output_type": "execute_result"
    },
    {
     "data": {
      "image/png": "[encoded data removed]",
      "text/plain": [
       "<Figure size 432x288 with 1 Axes>"
      ]
     },
     "metadata": {
      "needs_background": "light"
     },
     "output_type": "display_data"
    }
   ],
   "source": [
    "from sklearn.mixture import GaussianMixture\n",
    "silhouettes = []\n",
    "\n",
    "\n",
    "for i in range(2, 11):\n",
    "    em = GaussianMixture(n_components=i, random_state=42)\n",
    "    sss = em.fit_predict(principalComponents)\n",
    "    score = metrics.silhouette_score(\n",
    "        principalComponents, sss, metric='euclidean')\n",
    "    silhouettes.append(score)\n",
    "    print('n_clusters=', i)\n",
    "    print('silhouette_score=', score)\n",
    "    \n",
    "plt.xlabel(\"cluster\", fontsize=12)\n",
    "plt.ylabel(\"silhouette\", fontsize=12)\n",
    "plt.plot([i for i in range(2, 11)], silhouettes, 'xb-')"
   ]
  },
  {
   "cell_type": "markdown",
   "id": "b4b6261c",
   "metadata": {},
   "source": [
    "1) Судя по полученным результатам лучше всего взять 3 кластера.\n",
    "\n",
    "2) Максимальное значение коэффициента силуэта 0.5."
   ]
  },
  {
   "cell_type": "markdown",
   "id": "9e2be70b",
   "metadata": {},
   "source": [
    "Посмотрим на распределение кластеров.\n",
    "\n",
    "1) Определить лучшую модель. Для модели с оптимальным количеством кластеров наибольший коэффициент силуэта 0.6 - K-Means\n",
    "\n",
    "2) Обучим лучшую модель с подобранным ранее количеством кластеров на декомпозированных данных. "
   ]
  },
  {
   "cell_type": "code",
   "execution_count": 848,
   "id": "5110ca0a",
   "metadata": {},
   "outputs": [
    {
     "name": "stdout",
     "output_type": "stream",
     "text": [
      "[0 1 2] [191  44 115] "
     ]
    }
   ],
   "source": [
    "km = KMeans(n_clusters=3, random_state=42)\n",
    "rfm_km = km.fit_predict(principalComponents)\n",
    "b = km.labels_\n",
    "\n",
    "counts = np.unique(b, return_counts=True)\n",
    "for count in counts:\n",
    "    print(count, end=' ')"
   ]
  },
  {
   "cell_type": "code",
   "execution_count": 849,
   "id": "133d711d",
   "metadata": {},
   "outputs": [
    {
     "data": {
      "text/plain": [
       "191"
      ]
     },
     "execution_count": 849,
     "metadata": {},
     "output_type": "execute_result"
    }
   ],
   "source": [
    "s = pd.Series(rfm_km)\n",
    "s.value_counts().max()"
   ]
  },
  {
   "cell_type": "markdown",
   "id": "dbaa0c25",
   "metadata": {},
   "source": [
    "191 клиент попал в самый большой кластер"
   ]
  },
  {
   "cell_type": "code",
   "execution_count": 850,
   "id": "013791fb",
   "metadata": {},
   "outputs": [
    {
     "data": {
      "text/plain": [
       "<AxesSubplot:>"
      ]
     },
     "execution_count": 850,
     "metadata": {},
     "output_type": "execute_result"
    },
    {
     "data": {
      "image/png": "[encoded data removed]",
      "text/plain": [
       "<Figure size 864x360 with 1 Axes>"
      ]
     },
     "metadata": {
      "needs_background": "light"
     },
     "output_type": "display_data"
    }
   ],
   "source": [
    "fig = plt.figure(figsize=(12, 5))\n",
    "sns.scatterplot(x=principalComponents.T[0],\n",
    "                y=principalComponents.T[1], hue=rfm_km,)"
   ]
  },
  {
   "cell_type": "markdown",
   "id": "1baa6ad9",
   "metadata": {},
   "source": [
    "Итак, у нас есть три сегмента клиентов. Попробуем составить профиль для этих сегментов.\n",
    "\n",
    "Для составления профиля кластеров вернемся от декомпозированных данных к RFM-таблице, очищенной от выбросов. Сгруппируем RFM-таблицу по полученным кластерам и рассчитаем среднее по каждому из признаков."
   ]
  },
  {
   "cell_type": "code",
   "execution_count": 851,
   "id": "488d2767",
   "metadata": {},
   "outputs": [
    {
     "data": {
      "text/html": [
       "<div>\n",
       "<style scoped>\n",
       "    .dataframe tbody tr th:only-of-type {\n",
       "        vertical-align: middle;\n",
       "    }\n",
       "\n",
       "    .dataframe tbody tr th {\n",
       "        vertical-align: top;\n",
       "    }\n",
       "\n",
       "    .dataframe thead th {\n",
       "        text-align: right;\n",
       "    }\n",
       "</style>\n",
       "<table border=\"1\" class=\"dataframe\">\n",
       "  <thead>\n",
       "    <tr style=\"text-align: right;\">\n",
       "      <th></th>\n",
       "      <th>Monetary_Value</th>\n",
       "      <th>Recency</th>\n",
       "      <th>Frequency</th>\n",
       "      <th>Cluster</th>\n",
       "    </tr>\n",
       "    <tr>\n",
       "      <th>Покупатель</th>\n",
       "      <th></th>\n",
       "      <th></th>\n",
       "      <th></th>\n",
       "      <th></th>\n",
       "    </tr>\n",
       "  </thead>\n",
       "  <tbody>\n",
       "    <tr>\n",
       "      <th>1</th>\n",
       "      <td>59034.319</td>\n",
       "      <td>9</td>\n",
       "      <td>1</td>\n",
       "      <td>0</td>\n",
       "    </tr>\n",
       "    <tr>\n",
       "      <th>2</th>\n",
       "      <td>1009600.709</td>\n",
       "      <td>4</td>\n",
       "      <td>17</td>\n",
       "      <td>0</td>\n",
       "    </tr>\n",
       "    <tr>\n",
       "      <th>3</th>\n",
       "      <td>126156.133</td>\n",
       "      <td>67</td>\n",
       "      <td>1</td>\n",
       "      <td>0</td>\n",
       "    </tr>\n",
       "    <tr>\n",
       "      <th>4</th>\n",
       "      <td>313714.277</td>\n",
       "      <td>259</td>\n",
       "      <td>5</td>\n",
       "      <td>2</td>\n",
       "    </tr>\n",
       "    <tr>\n",
       "      <th>5</th>\n",
       "      <td>1079512.053</td>\n",
       "      <td>15</td>\n",
       "      <td>12</td>\n",
       "      <td>0</td>\n",
       "    </tr>\n",
       "    <tr>\n",
       "      <th>...</th>\n",
       "      <td>...</td>\n",
       "      <td>...</td>\n",
       "      <td>...</td>\n",
       "      <td>...</td>\n",
       "    </tr>\n",
       "    <tr>\n",
       "      <th>379</th>\n",
       "      <td>111792.884</td>\n",
       "      <td>225</td>\n",
       "      <td>2</td>\n",
       "      <td>2</td>\n",
       "    </tr>\n",
       "    <tr>\n",
       "      <th>380</th>\n",
       "      <td>222306.025</td>\n",
       "      <td>306</td>\n",
       "      <td>3</td>\n",
       "      <td>2</td>\n",
       "    </tr>\n",
       "    <tr>\n",
       "      <th>381</th>\n",
       "      <td>4334542.173</td>\n",
       "      <td>84</td>\n",
       "      <td>26</td>\n",
       "      <td>0</td>\n",
       "    </tr>\n",
       "    <tr>\n",
       "      <th>382</th>\n",
       "      <td>2901079.903</td>\n",
       "      <td>74</td>\n",
       "      <td>13</td>\n",
       "      <td>0</td>\n",
       "    </tr>\n",
       "    <tr>\n",
       "      <th>383</th>\n",
       "      <td>140906.540</td>\n",
       "      <td>154</td>\n",
       "      <td>2</td>\n",
       "      <td>2</td>\n",
       "    </tr>\n",
       "  </tbody>\n",
       "</table>\n",
       "<p>350 rows × 4 columns</p>\n",
       "</div>"
      ],
      "text/plain": [
       "            Monetary_Value  Recency  Frequency  Cluster\n",
       "Покупатель                                             \n",
       "1                59034.319        9          1        0\n",
       "2              1009600.709        4         17        0\n",
       "3               126156.133       67          1        0\n",
       "4               313714.277      259          5        2\n",
       "5              1079512.053       15         12        0\n",
       "...                    ...      ...        ...      ...\n",
       "379             111792.884      225          2        2\n",
       "380             222306.025      306          3        2\n",
       "381            4334542.173       84         26        0\n",
       "382            2901079.903       74         13        0\n",
       "383             140906.540      154          2        2\n",
       "\n",
       "[350 rows x 4 columns]"
      ]
     },
     "execution_count": 851,
     "metadata": {},
     "output_type": "execute_result"
    }
   ],
   "source": [
    "rfm_table_cleaned['Cluster'] = rfm_km\n",
    "rfm_table_cleaned"
   ]
  },
  {
   "cell_type": "code",
   "execution_count": 852,
   "id": "f3729391",
   "metadata": {},
   "outputs": [
    {
     "data": {
      "text/html": [
       "<div>\n",
       "<style scoped>\n",
       "    .dataframe tbody tr th:only-of-type {\n",
       "        vertical-align: middle;\n",
       "    }\n",
       "\n",
       "    .dataframe tbody tr th {\n",
       "        vertical-align: top;\n",
       "    }\n",
       "\n",
       "    .dataframe thead th {\n",
       "        text-align: right;\n",
       "    }\n",
       "</style>\n",
       "<table border=\"1\" class=\"dataframe\">\n",
       "  <thead>\n",
       "    <tr style=\"text-align: right;\">\n",
       "      <th></th>\n",
       "      <th>Recency_mean</th>\n",
       "      <th>Frequency_mean</th>\n",
       "      <th>Monetary_mean</th>\n",
       "    </tr>\n",
       "    <tr>\n",
       "      <th>Cluster</th>\n",
       "      <th></th>\n",
       "      <th></th>\n",
       "      <th></th>\n",
       "    </tr>\n",
       "  </thead>\n",
       "  <tbody>\n",
       "    <tr>\n",
       "      <th>0</th>\n",
       "      <td>47.39267</td>\n",
       "      <td>15.193717</td>\n",
       "      <td>1.597922e+06</td>\n",
       "    </tr>\n",
       "    <tr>\n",
       "      <th>1</th>\n",
       "      <td>31.75000</td>\n",
       "      <td>90.909091</td>\n",
       "      <td>1.337415e+07</td>\n",
       "    </tr>\n",
       "    <tr>\n",
       "      <th>2</th>\n",
       "      <td>236.80000</td>\n",
       "      <td>8.217391</td>\n",
       "      <td>9.626253e+05</td>\n",
       "    </tr>\n",
       "  </tbody>\n",
       "</table>\n",
       "</div>"
      ],
      "text/plain": [
       "         Recency_mean  Frequency_mean  Monetary_mean\n",
       "Cluster                                             \n",
       "0            47.39267       15.193717   1.597922e+06\n",
       "1            31.75000       90.909091   1.337415e+07\n",
       "2           236.80000        8.217391   9.626253e+05"
      ]
     },
     "execution_count": 852,
     "metadata": {},
     "output_type": "execute_result"
    }
   ],
   "source": [
    "rfm_mean = rfm_table_cleaned.groupby(['Cluster']).agg(\n",
    "    Recency_mean=pd.NamedAgg(column='Recency', aggfunc='mean'),\n",
    "    Frequency_mean=pd.NamedAgg(column=\"Frequency\", aggfunc='mean'),\n",
    "    Monetary_mean=pd.NamedAgg(column='Monetary_Value', aggfunc='mean'),\n",
    ")\n",
    "rfm_mean"
   ]
  },
  {
   "cell_type": "markdown",
   "id": "6154d6af",
   "metadata": {},
   "source": [
    "Максимальное среднее значение признака Frequency в полученной таблице:"
   ]
  },
  {
   "cell_type": "code",
   "execution_count": 853,
   "id": "3e8375ac",
   "metadata": {},
   "outputs": [
    {
     "data": {
      "text/plain": [
       "90.9090909090909"
      ]
     },
     "execution_count": 853,
     "metadata": {},
     "output_type": "execute_result"
    }
   ],
   "source": [
    "rfm_mean['Frequency_mean'].max()"
   ]
  },
  {
   "cell_type": "markdown",
   "id": "91f1bb02",
   "metadata": {},
   "source": [
    "Полярная диаграмма"
   ]
  },
  {
   "cell_type": "code",
   "execution_count": 854,
   "id": "b2e577ea",
   "metadata": {},
   "outputs": [],
   "source": [
    "def plot_cluster_profile(grouped_data, n_clusters):\n",
    "    # Нормализуем сгруппированные данные, приводя их к масштабу 0-1.\n",
    "    scaler = preprocessing.MinMaxScaler()\n",
    "    grouped_data = pd.DataFrame(scaler.fit_transform(\n",
    "        grouped_data), columns=grouped_data.columns)\n",
    "    # Создаем список признаков\n",
    "    features = grouped_data.columns\n",
    "    # Создаем пустую фигуру\n",
    "    fig = go.Figure()\n",
    "    # В цикле визуализируем полярную диаграмму для каждого кластера\n",
    "    for i in range(n_clusters):\n",
    "        # Создаем полярную диаграмму и добавляем ее на общий график\n",
    "        fig.add_trace(go.Scatterpolar(\n",
    "            r=grouped_data.iloc[i].values,  # радиусы\n",
    "            theta=features,  # название засечек\n",
    "            fill='toself',  # заливка многоугольника цветом\n",
    "            name=f'Cluster {i}',  # название - номер кластера\n",
    "        ))\n",
    "    # Обновляем параметры фигуры\n",
    "    fig.update_layout(\n",
    "        showlegend=True,  # отображение легенды\n",
    "        autosize=False,  # устаналиваем свои размеры графика\n",
    "        width=800,  # ширина (в пикселях)\n",
    "        height=800,  # высота (в пикселях)\n",
    "    )\n",
    "    # Отображаем фигуру\n",
    "    fig.show()"
   ]
  },
  {
   "cell_type": "markdown",
   "id": "2de3b65b",
   "metadata": {},
   "source": [
    "Визуализируем профили кластеров в виде полярной диаграммы на основе средних RFM-характеристик, вычисленных для каждого кластера.\n"
   ]
  },
  {
   "cell_type": "code",
   "execution_count": 855,
   "id": "371aa37e",
   "metadata": {},
   "outputs": [
    {
     "data": {
      "application/vnd.plotly.v1+json": {
       "config": {
        "plotlyServerURL": "https://plot.ly"
       },
       "data": [
        {
         "fill": "toself",
         "name": "Cluster 0",
         "r": [
          0.07628710147314344,
          0.08436549262483575,
          0.05118605164197325
         ],
         "theta": [
          "Recency_mean",
          "Frequency_mean",
          "Monetary_mean"
         ],
         "type": "scatterpolar"
        },
        {
         "fill": "toself",
         "name": "Cluster 1",
         "r": [
          0,
          1,
          1
         ],
         "theta": [
          "Recency_mean",
          "Frequency_mean",
          "Monetary_mean"
         ],
         "type": "scatterpolar"
        },
        {
         "fill": "toself",
         "name": "Cluster 2",
         "r": [
          1,
          0,
          0
         ],
         "theta": [
          "Recency_mean",
          "Frequency_mean",
          "Monetary_mean"
         ],
         "type": "scatterpolar"
        }
       ],
       "layout": {
        "autosize": false,
        "height": 800,
        "showlegend": true,
        "template": {
         "data": {
          "bar": [
           {
            "error_x": {
             "color": "#2a3f5f"
            },
            "error_y": {
             "color": "#2a3f5f"
            },
            "marker": {
             "line": {
              "color": "#E5ECF6",
              "width": 0.5
             },
             "pattern": {
              "fillmode": "overlay",
              "size": 10,
              "solidity": 0.2
             }
            },
            "type": "bar"
           }
          ],
          "barpolar": [
           {
            "marker": {
             "line": {
              "color": "#E5ECF6",
              "width": 0.5
             },
             "pattern": {
              "fillmode": "overlay",
              "size": 10,
              "solidity": 0.2
             }
            },
            "type": "barpolar"
           }
          ],
          "carpet": [
           {
            "aaxis": {
             "endlinecolor": "#2a3f5f",
             "gridcolor": "white",
             "linecolor": "white",
             "minorgridcolor": "white",
             "startlinecolor": "#2a3f5f"
            },
            "baxis": {
             "endlinecolor": "#2a3f5f",
             "gridcolor": "white",
             "linecolor": "white",
             "minorgridcolor": "white",
             "startlinecolor": "#2a3f5f"
            },
            "type": "carpet"
           }
          ],
          "choropleth": [
           {
            "colorbar": {
             "outlinewidth": 0,
             "ticks": ""
            },
            "type": "choropleth"
           }
          ],
          "contour": [
           {
            "colorbar": {
             "outlinewidth": 0,
             "ticks": ""
            },
            "colorscale": [
             [
              0,
              "#0d0887"
             ],
             [
              0.1111111111111111,
              "#46039f"
             ],
             [
              0.2222222222222222,
              "#7201a8"
             ],
             [
              0.3333333333333333,
              "#9c179e"
             ],
             [
              0.4444444444444444,
              "#bd3786"
             ],
             [
              0.5555555555555556,
              "#d8576b"
             ],
             [
              0.6666666666666666,
              "#ed7953"
             ],
             [
              0.7777777777777778,
              "#fb9f3a"
             ],
             [
              0.8888888888888888,
              "#fdca26"
             ],
             [
              1,
              "#f0f921"
             ]
            ],
            "type": "contour"
           }
          ],
          "contourcarpet": [
           {
            "colorbar": {
             "outlinewidth": 0,
             "ticks": ""
            },
            "type": "contourcarpet"
           }
          ],
          "heatmap": [
           {
            "colorbar": {
             "outlinewidth": 0,
             "ticks": ""
            },
            "colorscale": [
             [
              0,
              "#0d0887"
             ],
             [
              0.1111111111111111,
              "#46039f"
             ],
             [
              0.2222222222222222,
              "#7201a8"
             ],
             [
              0.3333333333333333,
              "#9c179e"
             ],
             [
              0.4444444444444444,
              "#bd3786"
             ],
             [
              0.5555555555555556,
              "#d8576b"
             ],
             [
              0.6666666666666666,
              "#ed7953"
             ],
             [
              0.7777777777777778,
              "#fb9f3a"
             ],
             [
              0.8888888888888888,
              "#fdca26"
             ],
             [
              1,
              "#f0f921"
             ]
            ],
            "type": "heatmap"
           }
          ],
          "heatmapgl": [
           {
            "colorbar": {
             "outlinewidth": 0,
             "ticks": ""
            },
            "colorscale": [
             [
              0,
              "#0d0887"
             ],
             [
              0.1111111111111111,
              "#46039f"
             ],
             [
              0.2222222222222222,
              "#7201a8"
             ],
             [
              0.3333333333333333,
              "#9c179e"
             ],
             [
              0.4444444444444444,
              "#bd3786"
             ],
             [
              0.5555555555555556,
              "#d8576b"
             ],
             [
              0.6666666666666666,
              "#ed7953"
             ],
             [
              0.7777777777777778,
              "#fb9f3a"
             ],
             [
              0.8888888888888888,
              "#fdca26"
             ],
             [
              1,
              "#f0f921"
             ]
            ],
            "type": "heatmapgl"
           }
          ],
          "histogram": [
           {
            "marker": {
             "pattern": {
              "fillmode": "overlay",
              "size": 10,
              "solidity": 0.2
             }
            },
            "type": "histogram"
           }
          ],
          "histogram2d": [
           {
            "colorbar": {
             "outlinewidth": 0,
             "ticks": ""
            },
            "colorscale": [
             [
              0,
              "#0d0887"
             ],
             [
              0.1111111111111111,
              "#46039f"
             ],
             [
              0.2222222222222222,
              "#7201a8"
             ],
             [
              0.3333333333333333,
              "#9c179e"
             ],
             [
              0.4444444444444444,
              "#bd3786"
             ],
             [
              0.5555555555555556,
              "#d8576b"
             ],
             [
              0.6666666666666666,
              "#ed7953"
             ],
             [
              0.7777777777777778,
              "#fb9f3a"
             ],
             [
              0.8888888888888888,
              "#fdca26"
             ],
             [
              1,
              "#f0f921"
             ]
            ],
            "type": "histogram2d"
           }
          ],
          "histogram2dcontour": [
           {
            "colorbar": {
             "outlinewidth": 0,
             "ticks": ""
            },
            "colorscale": [
             [
              0,
              "#0d0887"
             ],
             [
              0.1111111111111111,
              "#46039f"
             ],
             [
              0.2222222222222222,
              "#7201a8"
             ],
             [
              0.3333333333333333,
              "#9c179e"
             ],
             [
              0.4444444444444444,
              "#bd3786"
             ],
             [
              0.5555555555555556,
              "#d8576b"
             ],
             [
              0.6666666666666666,
              "#ed7953"
             ],
             [
              0.7777777777777778,
              "#fb9f3a"
             ],
             [
              0.8888888888888888,
              "#fdca26"
             ],
             [
              1,
              "#f0f921"
             ]
            ],
            "type": "histogram2dcontour"
           }
          ],
          "mesh3d": [
           {
            "colorbar": {
             "outlinewidth": 0,
             "ticks": ""
            },
            "type": "mesh3d"
           }
          ],
          "parcoords": [
           {
            "line": {
             "colorbar": {
              "outlinewidth": 0,
              "ticks": ""
             }
            },
            "type": "parcoords"
           }
          ],
          "pie": [
           {
            "automargin": true,
            "type": "pie"
           }
          ],
          "scatter": [
           {
            "fillpattern": {
             "fillmode": "overlay",
             "size": 10,
             "solidity": 0.2
            },
            "type": "scatter"
           }
          ],
          "scatter3d": [
           {
            "line": {
             "colorbar": {
              "outlinewidth": 0,
              "ticks": ""
             }
            },
            "marker": {
             "colorbar": {
              "outlinewidth": 0,
              "ticks": ""
             }
            },
            "type": "scatter3d"
           }
          ],
          "scattercarpet": [
           {
            "marker": {
             "colorbar": {
              "outlinewidth": 0,
              "ticks": ""
             }
            },
            "type": "scattercarpet"
           }
          ],
          "scattergeo": [
           {
            "marker": {
             "colorbar": {
              "outlinewidth": 0,
              "ticks": ""
             }
            },
            "type": "scattergeo"
           }
          ],
          "scattergl": [
           {
            "marker": {
             "colorbar": {
              "outlinewidth": 0,
              "ticks": ""
             }
            },
            "type": "scattergl"
           }
          ],
          "scattermapbox": [
           {
            "marker": {
             "colorbar": {
              "outlinewidth": 0,
              "ticks": ""
             }
            },
            "type": "scattermapbox"
           }
          ],
          "scatterpolar": [
           {
            "marker": {
             "colorbar": {
              "outlinewidth": 0,
              "ticks": ""
             }
            },
            "type": "scatterpolar"
           }
          ],
          "scatterpolargl": [
           {
            "marker": {
             "colorbar": {
              "outlinewidth": 0,
              "ticks": ""
             }
            },
            "type": "scatterpolargl"
           }
          ],
          "scatterternary": [
           {
            "marker": {
             "colorbar": {
              "outlinewidth": 0,
              "ticks": ""
             }
            },
            "type": "scatterternary"
           }
          ],
          "surface": [
           {
            "colorbar": {
             "outlinewidth": 0,
             "ticks": ""
            },
            "colorscale": [
             [
              0,
              "#0d0887"
             ],
             [
              0.1111111111111111,
              "#46039f"
             ],
             [
              0.2222222222222222,
              "#7201a8"
             ],
             [
              0.3333333333333333,
              "#9c179e"
             ],
             [
              0.4444444444444444,
              "#bd3786"
             ],
             [
              0.5555555555555556,
              "#d8576b"
             ],
             [
              0.6666666666666666,
              "#ed7953"
             ],
             [
              0.7777777777777778,
              "#fb9f3a"
             ],
             [
              0.8888888888888888,
              "#fdca26"
             ],
             [
              1,
              "#f0f921"
             ]
            ],
            "type": "surface"
           }
          ],
          "table": [
           {
            "cells": {
             "fill": {
              "color": "#EBF0F8"
             },
             "line": {
              "color": "white"
             }
            },
            "header": {
             "fill": {
              "color": "#C8D4E3"
             },
             "line": {
              "color": "white"
             }
            },
            "type": "table"
           }
          ]
         },
         "layout": {
          "annotationdefaults": {
           "arrowcolor": "#2a3f5f",
           "arrowhead": 0,
           "arrowwidth": 1
          },
          "autotypenumbers": "strict",
          "coloraxis": {
           "colorbar": {
            "outlinewidth": 0,
            "ticks": ""
           }
          },
          "colorscale": {
           "diverging": [
            [
             0,
             "#8e0152"
            ],
            [
             0.1,
             "#c51b7d"
            ],
            [
             0.2,
             "#de77ae"
            ],
            [
             0.3,
             "#f1b6da"
            ],
            [
             0.4,
             "#fde0ef"
            ],
            [
             0.5,
             "#f7f7f7"
            ],
            [
             0.6,
             "#e6f5d0"
            ],
            [
             0.7,
             "#b8e186"
            ],
            [
             0.8,
             "#7fbc41"
            ],
            [
             0.9,
             "#4d9221"
            ],
            [
             1,
             "#276419"
            ]
           ],
           "sequential": [
            [
             0,
             "#0d0887"
            ],
            [
             0.1111111111111111,
             "#46039f"
            ],
            [
             0.2222222222222222,
             "#7201a8"
            ],
            [
             0.3333333333333333,
             "#9c179e"
            ],
            [
             0.4444444444444444,
             "#bd3786"
            ],
            [
             0.5555555555555556,
             "#d8576b"
            ],
            [
             0.6666666666666666,
             "#ed7953"
            ],
            [
             0.7777777777777778,
             "#fb9f3a"
            ],
            [
             0.8888888888888888,
             "#fdca26"
            ],
            [
             1,
             "#f0f921"
            ]
           ],
           "sequentialminus": [
            [
             0,
             "#0d0887"
            ],
            [
             0.1111111111111111,
             "#46039f"
            ],
            [
             0.2222222222222222,
             "#7201a8"
            ],
            [
             0.3333333333333333,
             "#9c179e"
            ],
            [
             0.4444444444444444,
             "#bd3786"
            ],
            [
             0.5555555555555556,
             "#d8576b"
            ],
            [
             0.6666666666666666,
             "#ed7953"
            ],
            [
             0.7777777777777778,
             "#fb9f3a"
            ],
            [
             0.8888888888888888,
             "#fdca26"
            ],
            [
             1,
             "#f0f921"
            ]
           ]
          },
          "colorway": [
           "#636efa",
           "#EF553B",
           "#00cc96",
           "#ab63fa",
           "#FFA15A",
           "#19d3f3",
           "#FF6692",
           "#B6E880",
           "#FF97FF",
           "#FECB52"
          ],
          "font": {
           "color": "#2a3f5f"
          },
          "geo": {
           "bgcolor": "white",
           "lakecolor": "white",
           "landcolor": "#E5ECF6",
           "showlakes": true,
           "showland": true,
           "subunitcolor": "white"
          },
          "hoverlabel": {
           "align": "left"
          },
          "hovermode": "closest",
          "mapbox": {
           "style": "light"
          },
          "paper_bgcolor": "white",
          "plot_bgcolor": "#E5ECF6",
          "polar": {
           "angularaxis": {
            "gridcolor": "white",
            "linecolor": "white",
            "ticks": ""
           },
           "bgcolor": "#E5ECF6",
           "radialaxis": {
            "gridcolor": "white",
            "linecolor": "white",
            "ticks": ""
           }
          },
          "scene": {
           "xaxis": {
            "backgroundcolor": "#E5ECF6",
            "gridcolor": "white",
            "gridwidth": 2,
            "linecolor": "white",
            "showbackground": true,
            "ticks": "",
            "zerolinecolor": "white"
           },
           "yaxis": {
            "backgroundcolor": "#E5ECF6",
            "gridcolor": "white",
            "gridwidth": 2,
            "linecolor": "white",
            "showbackground": true,
            "ticks": "",
            "zerolinecolor": "white"
           },
           "zaxis": {
            "backgroundcolor": "#E5ECF6",
            "gridcolor": "white",
            "gridwidth": 2,
            "linecolor": "white",
            "showbackground": true,
            "ticks": "",
            "zerolinecolor": "white"
           }
          },
          "shapedefaults": {
           "line": {
            "color": "#2a3f5f"
           }
          },
          "ternary": {
           "aaxis": {
            "gridcolor": "white",
            "linecolor": "white",
            "ticks": ""
           },
           "baxis": {
            "gridcolor": "white",
            "linecolor": "white",
            "ticks": ""
           },
           "bgcolor": "#E5ECF6",
           "caxis": {
            "gridcolor": "white",
            "linecolor": "white",
            "ticks": ""
           }
          },
          "title": {
           "x": 0.05
          },
          "xaxis": {
           "automargin": true,
           "gridcolor": "white",
           "linecolor": "white",
           "ticks": "",
           "title": {
            "standoff": 15
           },
           "zerolinecolor": "white",
           "zerolinewidth": 2
          },
          "yaxis": {
           "automargin": true,
           "gridcolor": "white",
           "linecolor": "white",
           "ticks": "",
           "title": {
            "standoff": 15
           },
           "zerolinecolor": "white",
           "zerolinewidth": 2
          }
         }
        },
        "width": 800
       }
      },
      "text/html": [
       "<div>                            <div id=\"9d7f8f6e-756b-4ca6-9213-f7e5e45b6a70\" class=\"plotly-graph-div\" style=\"height:800px; width:800px;\"></div>            <script type=\"text/javascript\">                require([\"plotly\"], function(Plotly) {                    window.PLOTLYENV=window.PLOTLYENV || {};                                    if (document.getElementById(\"9d7f8f6e-756b-4ca6-9213-f7e5e45b6a70\")) {                    Plotly.newPlot(                        \"9d7f8f6e-756b-4ca6-9213-f7e5e45b6a70\",                        [{\"fill\":\"toself\",\"name\":\"Cluster 0\",\"r\":[0.07628710147314344,0.08436549262483575,0.05118605164197325],\"theta\":[\"Recency_mean\",\"Frequency_mean\",\"Monetary_mean\"],\"type\":\"scatterpolar\"},{\"fill\":\"toself\",\"name\":\"Cluster 1\",\"r\":[0.0,1.0,1.0],\"theta\":[\"Recency_mean\",\"Frequency_mean\",\"Monetary_mean\"],\"type\":\"scatterpolar\"},{\"fill\":\"toself\",\"name\":\"Cluster 2\",\"r\":[1.0,0.0,0.0],\"theta\":[\"Recency_mean\",\"Frequency_mean\",\"Monetary_mean\"],\"type\":\"scatterpolar\"}],                        {\"template\":{\"data\":{\"histogram2dcontour\":[{\"type\":\"histogram2dcontour\",\"colorbar\":{\"outlinewidth\":0,\"ticks\":\"\"},\"colorscale\":[[0.0,\"#0d0887\"],[0.1111111111111111,\"#46039f\"],[0.2222222222222222,\"#7201a8\"],[0.3333333333333333,\"#9c179e\"],[0.4444444444444444,\"#bd3786\"],[0.5555555555555556,\"#d8576b\"],[0.6666666666666666,\"#ed7953\"],[0.7777777777777778,\"#fb9f3a\"],[0.8888888888888888,\"#fdca26\"],[1.0,\"#f0f921\"]]}],\"choropleth\":[{\"type\":\"choropleth\",\"colorbar\":{\"outlinewidth\":0,\"ticks\":\"\"}}],\"histogram2d\":[{\"type\":\"histogram2d\",\"colorbar\":{\"outlinewidth\":0,\"ticks\":\"\"},\"colorscale\":[[0.0,\"#0d0887\"],[0.1111111111111111,\"#46039f\"],[0.2222222222222222,\"#7201a8\"],[0.3333333333333333,\"#9c179e\"],[0.4444444444444444,\"#bd3786\"],[0.5555555555555556,\"#d8576b\"],[0.6666666666666666,\"#ed7953\"],[0.7777777777777778,\"#fb9f3a\"],[0.8888888888888888,\"#fdca26\"],[1.0,\"#f0f921\"]]}],\"heatmap\":[{\"type\":\"heatmap\",\"colorbar\":{\"outlinewidth\":0,\"ticks\":\"\"},\"colorscale\":[[0.0,\"#0d0887\"],[0.1111111111111111,\"#46039f\"],[0.2222222222222222,\"#7201a8\"],[0.3333333333333333,\"#9c179e\"],[0.4444444444444444,\"#bd3786\"],[0.5555555555555556,\"#d8576b\"],[0.6666666666666666,\"#ed7953\"],[0.7777777777777778,\"#fb9f3a\"],[0.8888888888888888,\"#fdca26\"],[1.0,\"#f0f921\"]]}],\"heatmapgl\":[{\"type\":\"heatmapgl\",\"colorbar\":{\"outlinewidth\":0,\"ticks\":\"\"},\"colorscale\":[[0.0,\"#0d0887\"],[0.1111111111111111,\"#46039f\"],[0.2222222222222222,\"#7201a8\"],[0.3333333333333333,\"#9c179e\"],[0.4444444444444444,\"#bd3786\"],[0.5555555555555556,\"#d8576b\"],[0.6666666666666666,\"#ed7953\"],[0.7777777777777778,\"#fb9f3a\"],[0.8888888888888888,\"#fdca26\"],[1.0,\"#f0f921\"]]}],\"contourcarpet\":[{\"type\":\"contourcarpet\",\"colorbar\":{\"outlinewidth\":0,\"ticks\":\"\"}}],\"contour\":[{\"type\":\"contour\",\"colorbar\":{\"outlinewidth\":0,\"ticks\":\"\"},\"colorscale\":[[0.0,\"#0d0887\"],[0.1111111111111111,\"#46039f\"],[0.2222222222222222,\"#7201a8\"],[0.3333333333333333,\"#9c179e\"],[0.4444444444444444,\"#bd3786\"],[0.5555555555555556,\"#d8576b\"],[0.6666666666666666,\"#ed7953\"],[0.7777777777777778,\"#fb9f3a\"],[0.8888888888888888,\"#fdca26\"],[1.0,\"#f0f921\"]]}],\"surface\":[{\"type\":\"surface\",\"colorbar\":{\"outlinewidth\":0,\"ticks\":\"\"},\"colorscale\":[[0.0,\"#0d0887\"],[0.1111111111111111,\"#46039f\"],[0.2222222222222222,\"#7201a8\"],[0.3333333333333333,\"#9c179e\"],[0.4444444444444444,\"#bd3786\"],[0.5555555555555556,\"#d8576b\"],[0.6666666666666666,\"#ed7953\"],[0.7777777777777778,\"#fb9f3a\"],[0.8888888888888888,\"#fdca26\"],[1.0,\"#f0f921\"]]}],\"mesh3d\":[{\"type\":\"mesh3d\",\"colorbar\":{\"outlinewidth\":0,\"ticks\":\"\"}}],\"scatter\":[{\"fillpattern\":{\"fillmode\":\"overlay\",\"size\":10,\"solidity\":0.2},\"type\":\"scatter\"}],\"parcoords\":[{\"type\":\"parcoords\",\"line\":{\"colorbar\":{\"outlinewidth\":0,\"ticks\":\"\"}}}],\"scatterpolargl\":[{\"type\":\"scatterpolargl\",\"marker\":{\"colorbar\":{\"outlinewidth\":0,\"ticks\":\"\"}}}],\"bar\":[{\"error_x\":{\"color\":\"#2a3f5f\"},\"error_y\":{\"color\":\"#2a3f5f\"},\"marker\":{\"line\":{\"color\":\"#E5ECF6\",\"width\":0.5},\"pattern\":{\"fillmode\":\"overlay\",\"size\":10,\"solidity\":0.2}},\"type\":\"bar\"}],\"scattergeo\":[{\"type\":\"scattergeo\",\"marker\":{\"colorbar\":{\"outlinewidth\":0,\"ticks\":\"\"}}}],\"scatterpolar\":[{\"type\":\"scatterpolar\",\"marker\":{\"colorbar\":{\"outlinewidth\":0,\"ticks\":\"\"}}}],\"histogram\":[{\"marker\":{\"pattern\":{\"fillmode\":\"overlay\",\"size\":10,\"solidity\":0.2}},\"type\":\"histogram\"}],\"scattergl\":[{\"type\":\"scattergl\",\"marker\":{\"colorbar\":{\"outlinewidth\":0,\"ticks\":\"\"}}}],\"scatter3d\":[{\"type\":\"scatter3d\",\"line\":{\"colorbar\":{\"outlinewidth\":0,\"ticks\":\"\"}},\"marker\":{\"colorbar\":{\"outlinewidth\":0,\"ticks\":\"\"}}}],\"scattermapbox\":[{\"type\":\"scattermapbox\",\"marker\":{\"colorbar\":{\"outlinewidth\":0,\"ticks\":\"\"}}}],\"scatterternary\":[{\"type\":\"scatterternary\",\"marker\":{\"colorbar\":{\"outlinewidth\":0,\"ticks\":\"\"}}}],\"scattercarpet\":[{\"type\":\"scattercarpet\",\"marker\":{\"colorbar\":{\"outlinewidth\":0,\"ticks\":\"\"}}}],\"carpet\":[{\"aaxis\":{\"endlinecolor\":\"#2a3f5f\",\"gridcolor\":\"white\",\"linecolor\":\"white\",\"minorgridcolor\":\"white\",\"startlinecolor\":\"#2a3f5f\"},\"baxis\":{\"endlinecolor\":\"#2a3f5f\",\"gridcolor\":\"white\",\"linecolor\":\"white\",\"minorgridcolor\":\"white\",\"startlinecolor\":\"#2a3f5f\"},\"type\":\"carpet\"}],\"table\":[{\"cells\":{\"fill\":{\"color\":\"#EBF0F8\"},\"line\":{\"color\":\"white\"}},\"header\":{\"fill\":{\"color\":\"#C8D4E3\"},\"line\":{\"color\":\"white\"}},\"type\":\"table\"}],\"barpolar\":[{\"marker\":{\"line\":{\"color\":\"#E5ECF6\",\"width\":0.5},\"pattern\":{\"fillmode\":\"overlay\",\"size\":10,\"solidity\":0.2}},\"type\":\"barpolar\"}],\"pie\":[{\"automargin\":true,\"type\":\"pie\"}]},\"layout\":{\"autotypenumbers\":\"strict\",\"colorway\":[\"#636efa\",\"#EF553B\",\"#00cc96\",\"#ab63fa\",\"#FFA15A\",\"#19d3f3\",\"#FF6692\",\"#B6E880\",\"#FF97FF\",\"#FECB52\"],\"font\":{\"color\":\"#2a3f5f\"},\"hovermode\":\"closest\",\"hoverlabel\":{\"align\":\"left\"},\"paper_bgcolor\":\"white\",\"plot_bgcolor\":\"#E5ECF6\",\"polar\":{\"bgcolor\":\"#E5ECF6\",\"angularaxis\":{\"gridcolor\":\"white\",\"linecolor\":\"white\",\"ticks\":\"\"},\"radialaxis\":{\"gridcolor\":\"white\",\"linecolor\":\"white\",\"ticks\":\"\"}},\"ternary\":{\"bgcolor\":\"#E5ECF6\",\"aaxis\":{\"gridcolor\":\"white\",\"linecolor\":\"white\",\"ticks\":\"\"},\"baxis\":{\"gridcolor\":\"white\",\"linecolor\":\"white\",\"ticks\":\"\"},\"caxis\":{\"gridcolor\":\"white\",\"linecolor\":\"white\",\"ticks\":\"\"}},\"coloraxis\":{\"colorbar\":{\"outlinewidth\":0,\"ticks\":\"\"}},\"colorscale\":{\"sequential\":[[0.0,\"#0d0887\"],[0.1111111111111111,\"#46039f\"],[0.2222222222222222,\"#7201a8\"],[0.3333333333333333,\"#9c179e\"],[0.4444444444444444,\"#bd3786\"],[0.5555555555555556,\"#d8576b\"],[0.6666666666666666,\"#ed7953\"],[0.7777777777777778,\"#fb9f3a\"],[0.8888888888888888,\"#fdca26\"],[1.0,\"#f0f921\"]],\"sequentialminus\":[[0.0,\"#0d0887\"],[0.1111111111111111,\"#46039f\"],[0.2222222222222222,\"#7201a8\"],[0.3333333333333333,\"#9c179e\"],[0.4444444444444444,\"#bd3786\"],[0.5555555555555556,\"#d8576b\"],[0.6666666666666666,\"#ed7953\"],[0.7777777777777778,\"#fb9f3a\"],[0.8888888888888888,\"#fdca26\"],[1.0,\"#f0f921\"]],\"diverging\":[[0,\"#8e0152\"],[0.1,\"#c51b7d\"],[0.2,\"#de77ae\"],[0.3,\"#f1b6da\"],[0.4,\"#fde0ef\"],[0.5,\"#f7f7f7\"],[0.6,\"#e6f5d0\"],[0.7,\"#b8e186\"],[0.8,\"#7fbc41\"],[0.9,\"#4d9221\"],[1,\"#276419\"]]},\"xaxis\":{\"gridcolor\":\"white\",\"linecolor\":\"white\",\"ticks\":\"\",\"title\":{\"standoff\":15},\"zerolinecolor\":\"white\",\"automargin\":true,\"zerolinewidth\":2},\"yaxis\":{\"gridcolor\":\"white\",\"linecolor\":\"white\",\"ticks\":\"\",\"title\":{\"standoff\":15},\"zerolinecolor\":\"white\",\"automargin\":true,\"zerolinewidth\":2},\"scene\":{\"xaxis\":{\"backgroundcolor\":\"#E5ECF6\",\"gridcolor\":\"white\",\"linecolor\":\"white\",\"showbackground\":true,\"ticks\":\"\",\"zerolinecolor\":\"white\",\"gridwidth\":2},\"yaxis\":{\"backgroundcolor\":\"#E5ECF6\",\"gridcolor\":\"white\",\"linecolor\":\"white\",\"showbackground\":true,\"ticks\":\"\",\"zerolinecolor\":\"white\",\"gridwidth\":2},\"zaxis\":{\"backgroundcolor\":\"#E5ECF6\",\"gridcolor\":\"white\",\"linecolor\":\"white\",\"showbackground\":true,\"ticks\":\"\",\"zerolinecolor\":\"white\",\"gridwidth\":2}},\"shapedefaults\":{\"line\":{\"color\":\"#2a3f5f\"}},\"annotationdefaults\":{\"arrowcolor\":\"#2a3f5f\",\"arrowhead\":0,\"arrowwidth\":1},\"geo\":{\"bgcolor\":\"white\",\"landcolor\":\"#E5ECF6\",\"subunitcolor\":\"white\",\"showland\":true,\"showlakes\":true,\"lakecolor\":\"white\"},\"title\":{\"x\":0.05},\"mapbox\":{\"style\":\"light\"}}},\"showlegend\":true,\"autosize\":false,\"width\":800,\"height\":800},                        {\"responsive\": true}                    ).then(function(){\n",
       "                            \n",
       "var gd = document.getElementById('9d7f8f6e-756b-4ca6-9213-f7e5e45b6a70');\n",
       "var x = new MutationObserver(function (mutations, observer) {{\n",
       "        var display = window.getComputedStyle(gd).display;\n",
       "        if (!display || display === 'none') {{\n",
       "            console.log([gd, 'removed!']);\n",
       "            Plotly.purge(gd);\n",
       "            observer.disconnect();\n",
       "        }}\n",
       "}});\n",
       "\n",
       "// Listen for the removal of the full notebook cells\n",
       "var notebookContainer = gd.closest('#notebook-container');\n",
       "if (notebookContainer) {{\n",
       "    x.observe(notebookContainer, {childList: true});\n",
       "}}\n",
       "\n",
       "// Listen for the clearing of the current output cell\n",
       "var outputEl = gd.closest('.output');\n",
       "if (outputEl) {{\n",
       "    x.observe(outputEl, {childList: true});\n",
       "}}\n",
       "\n",
       "                        })                };                });            </script>        </div>"
      ]
     },
     "metadata": {},
     "output_type": "display_data"
    }
   ],
   "source": [
    "plot_cluster_profile(rfm_mean, 3)"
   ]
  },
  {
   "cell_type": "markdown",
   "id": "88f95f60",
   "metadata": {},
   "source": [
    "Кластер соответствует «лояльным» клиентам, которые приносят наибольший доход, совершают покупки чаще всего, а давность их последней покупки наименьшая - этол  кластер 1\n",
    "\n",
    "Кластер соответствует «промежуточным» клиентам, которые являются активными, но покупают не так часто и много, как лояльные клиенты. В то же время эти клиенты не являются «потерянными» - это кластер 0.\n",
    "Кластер 1 соответствует «потерянным» клиентам, которые купили меньше всего товара, и их последняя покупка была совершена очень давно."
   ]
  },
  {
   "cell_type": "markdown",
   "id": "25cdfdbb",
   "metadata": {},
   "source": [
    "Воспользуемся алгоритмом t-SNE и трансформируем RFM-таблицу, очищенную от выбросов, в двухмерное представление, масштабируем признаки.\n",
    "\n",
    "Обернём шаги по предобработке данных в pipeline.\n",
    "\n",
    "Создадим pipeline, который будет содержать следующие шаги:\n",
    "\n",
    "стандартизация с помощью StandardScaler с параметрами по умолчанию;\n",
    "алгоритм t-SNE с двумя компонентами, параметрами perplexity=50 и random_state=100.\n",
    "Обучим pipeline на RFM-таблице (очищенной от выбросов), полученной ранее, и применим к ней трансформацию."
   ]
  },
  {
   "cell_type": "code",
   "execution_count": 856,
   "id": "c30abe8b",
   "metadata": {},
   "outputs": [
    {
     "data": {
      "text/html": [
       "<div>\n",
       "<style scoped>\n",
       "    .dataframe tbody tr th:only-of-type {\n",
       "        vertical-align: middle;\n",
       "    }\n",
       "\n",
       "    .dataframe tbody tr th {\n",
       "        vertical-align: top;\n",
       "    }\n",
       "\n",
       "    .dataframe thead th {\n",
       "        text-align: right;\n",
       "    }\n",
       "</style>\n",
       "<table border=\"1\" class=\"dataframe\">\n",
       "  <thead>\n",
       "    <tr style=\"text-align: right;\">\n",
       "      <th></th>\n",
       "      <th>Monetary_Value</th>\n",
       "      <th>Recency</th>\n",
       "      <th>Frequency</th>\n",
       "    </tr>\n",
       "    <tr>\n",
       "      <th>Покупатель</th>\n",
       "      <th></th>\n",
       "      <th></th>\n",
       "      <th></th>\n",
       "    </tr>\n",
       "  </thead>\n",
       "  <tbody>\n",
       "    <tr>\n",
       "      <th>1</th>\n",
       "      <td>59034.319</td>\n",
       "      <td>9</td>\n",
       "      <td>1</td>\n",
       "    </tr>\n",
       "    <tr>\n",
       "      <th>2</th>\n",
       "      <td>1009600.709</td>\n",
       "      <td>4</td>\n",
       "      <td>17</td>\n",
       "    </tr>\n",
       "    <tr>\n",
       "      <th>3</th>\n",
       "      <td>126156.133</td>\n",
       "      <td>67</td>\n",
       "      <td>1</td>\n",
       "    </tr>\n",
       "    <tr>\n",
       "      <th>4</th>\n",
       "      <td>313714.277</td>\n",
       "      <td>259</td>\n",
       "      <td>5</td>\n",
       "    </tr>\n",
       "    <tr>\n",
       "      <th>5</th>\n",
       "      <td>1079512.053</td>\n",
       "      <td>15</td>\n",
       "      <td>12</td>\n",
       "    </tr>\n",
       "  </tbody>\n",
       "</table>\n",
       "</div>"
      ],
      "text/plain": [
       "            Monetary_Value  Recency  Frequency\n",
       "Покупатель                                    \n",
       "1                59034.319        9          1\n",
       "2              1009600.709        4         17\n",
       "3               126156.133       67          1\n",
       "4               313714.277      259          5\n",
       "5              1079512.053       15         12"
      ]
     },
     "execution_count": 856,
     "metadata": {},
     "output_type": "execute_result"
    }
   ],
   "source": [
    "#избавимся от кластеров\n",
    "rfm_table_cleaned = rfm_table_cleaned.drop(['Cluster'], axis=1)\n",
    "rfm_table_cleaned.head()"
   ]
  },
  {
   "cell_type": "code",
   "execution_count": 857,
   "id": "988834ea",
   "metadata": {},
   "outputs": [
    {
     "name": "stdout",
     "output_type": "stream",
     "text": [
      "0.18732167780399323\n"
     ]
    }
   ],
   "source": [
    "from sklearn.pipeline import Pipeline\n",
    "from sklearn.preprocessing import StandardScaler\n",
    "from sklearn.manifold import TSNE\n",
    "\n",
    "pipeline2 = Pipeline([('ssc', StandardScaler()), ('tsne', TSNE(\n",
    "    n_components=2, perplexity=50, random_state=100, init='pca'))])\n",
    "XX = pipeline2.fit_transform(rfm_table_cleaned)\n",
    "print(pipeline2['tsne'].kl_divergence_)"
   ]
  },
  {
   "cell_type": "markdown",
   "id": "7091a5c3",
   "metadata": {},
   "source": [
    " - значение дивергенции Кульбака — Лейблера для обученного алгоритма t-SNE"
   ]
  },
  {
   "cell_type": "code",
   "execution_count": 858,
   "id": "8ad3085d",
   "metadata": {},
   "outputs": [
    {
     "data": {
      "text/html": [
       "<div>\n",
       "<style scoped>\n",
       "    .dataframe tbody tr th:only-of-type {\n",
       "        vertical-align: middle;\n",
       "    }\n",
       "\n",
       "    .dataframe tbody tr th {\n",
       "        vertical-align: top;\n",
       "    }\n",
       "\n",
       "    .dataframe thead th {\n",
       "        text-align: right;\n",
       "    }\n",
       "</style>\n",
       "<table border=\"1\" class=\"dataframe\">\n",
       "  <thead>\n",
       "    <tr style=\"text-align: right;\">\n",
       "      <th></th>\n",
       "      <th>axis-1</th>\n",
       "      <th>axis-2</th>\n",
       "    </tr>\n",
       "    <tr>\n",
       "      <th>Покупатель</th>\n",
       "      <th></th>\n",
       "      <th></th>\n",
       "    </tr>\n",
       "  </thead>\n",
       "  <tbody>\n",
       "    <tr>\n",
       "      <th>1</th>\n",
       "      <td>2.829515</td>\n",
       "      <td>-9.561172</td>\n",
       "    </tr>\n",
       "    <tr>\n",
       "      <th>2</th>\n",
       "      <td>7.475344</td>\n",
       "      <td>-6.090868</td>\n",
       "    </tr>\n",
       "    <tr>\n",
       "      <th>3</th>\n",
       "      <td>-1.658601</td>\n",
       "      <td>-5.376214</td>\n",
       "    </tr>\n",
       "    <tr>\n",
       "      <th>4</th>\n",
       "      <td>-12.682503</td>\n",
       "      <td>4.756009</td>\n",
       "    </tr>\n",
       "    <tr>\n",
       "      <th>5</th>\n",
       "      <td>5.698689</td>\n",
       "      <td>-6.445992</td>\n",
       "    </tr>\n",
       "    <tr>\n",
       "      <th>...</th>\n",
       "      <td>...</td>\n",
       "      <td>...</td>\n",
       "    </tr>\n",
       "    <tr>\n",
       "      <th>379</th>\n",
       "      <td>-11.753762</td>\n",
       "      <td>3.000064</td>\n",
       "    </tr>\n",
       "    <tr>\n",
       "      <th>380</th>\n",
       "      <td>-14.418049</td>\n",
       "      <td>6.160693</td>\n",
       "    </tr>\n",
       "    <tr>\n",
       "      <th>381</th>\n",
       "      <td>7.668732</td>\n",
       "      <td>-0.366132</td>\n",
       "    </tr>\n",
       "    <tr>\n",
       "      <th>382</th>\n",
       "      <td>6.124164</td>\n",
       "      <td>-1.158955</td>\n",
       "    </tr>\n",
       "    <tr>\n",
       "      <th>383</th>\n",
       "      <td>-7.359162</td>\n",
       "      <td>0.349485</td>\n",
       "    </tr>\n",
       "  </tbody>\n",
       "</table>\n",
       "<p>350 rows × 2 columns</p>\n",
       "</div>"
      ],
      "text/plain": [
       "               axis-1    axis-2\n",
       "Покупатель                     \n",
       "1            2.829515 -9.561172\n",
       "2            7.475344 -6.090868\n",
       "3           -1.658601 -5.376214\n",
       "4          -12.682503  4.756009\n",
       "5            5.698689 -6.445992\n",
       "...               ...       ...\n",
       "379        -11.753762  3.000064\n",
       "380        -14.418049  6.160693\n",
       "381          7.668732 -0.366132\n",
       "382          6.124164 -1.158955\n",
       "383         -7.359162  0.349485\n",
       "\n",
       "[350 rows x 2 columns]"
      ]
     },
     "execution_count": 858,
     "metadata": {},
     "output_type": "execute_result"
    }
   ],
   "source": [
    "rfm_table_processed = pd.DataFrame(\n",
    "    XX, columns=['axis-1', 'axis-2'], index=rfm_table_cleaned.index)\n",
    "rfm_table_processed"
   ]
  },
  {
   "cell_type": "code",
   "execution_count": 859,
   "id": "c500680c",
   "metadata": {},
   "outputs": [
    {
     "data": {
      "text/plain": [
       "<AxesSubplot:>"
      ]
     },
     "execution_count": 859,
     "metadata": {},
     "output_type": "execute_result"
    },
    {
     "data": {
      "image/png": "[encoded data removed]",
      "text/plain": [
       "<Figure size 864x360 with 1 Axes>"
      ]
     },
     "metadata": {
      "needs_background": "light"
     },
     "output_type": "display_data"
    }
   ],
   "source": [
    "fig = plt.figure(figsize=(12, 5))\n",
    "sns.scatterplot(x=XX.T[0], y=XX.T[1])"
   ]
  },
  {
   "cell_type": "markdown",
   "id": "18f34f14",
   "metadata": {},
   "source": [
    "Визуализировав пространство после декомпозиции с помощью t-SNE, мы получили следующую картину:\n",
    "\n",
    "Как и ожидалось от t-SNE, алгоритм сгруппировал наиболее похожие объекты в подобие кластеров, причём эти кластеры можно определить.\n",
    "\n",
    "Теперь воспользуемся алгоритмами кластеризации, чтобы сформировать новые сегменты клиентов.\n",
    "\n",
    "\n",
    "Возьмем  метод k-means. Подберем оптимальное количество кластеров для метода k-means с помощью коэффициента силуэта, перебирая возможные значения от 3 до 8 включительно. В качестве значения параметра random_state возьмем число 42. Остальные параметры оставим по умолчанию.\n",
    "\n"
   ]
  },
  {
   "cell_type": "code",
   "execution_count": 860,
   "id": "bbeb4a56",
   "metadata": {},
   "outputs": [
    {
     "name": "stdout",
     "output_type": "stream",
     "text": [
      "n_clusters= 3\n",
      "silhouette_score= 0.5752359\n",
      "n_clusters= 4\n",
      "silhouette_score= 0.52155036\n",
      "n_clusters= 5\n",
      "silhouette_score= 0.52159476\n",
      "n_clusters= 6\n",
      "silhouette_score= 0.51774955\n",
      "n_clusters= 7\n",
      "silhouette_score= 0.5078809\n",
      "n_clusters= 8\n",
      "silhouette_score= 0.47558394\n"
     ]
    },
    {
     "data": {
      "text/plain": [
       "[<matplotlib.lines.Line2D at 0x217b2653220>]"
      ]
     },
     "execution_count": 860,
     "metadata": {},
     "output_type": "execute_result"
    },
    {
     "data": {
      "image/png": "[encoded data removed]",
      "text/plain": [
       "<Figure size 432x288 with 1 Axes>"
      ]
     },
     "metadata": {
      "needs_background": "light"
     },
     "output_type": "display_data"
    }
   ],
   "source": [
    "silhouettes = []\n",
    "\n",
    "\n",
    "\n",
    "for i in range(3, 9):\n",
    "    km = KMeans(n_clusters=i, random_state=42)\n",
    "#    sss=km.fit_predict(rfm_table_processed)\n",
    "    km.fit_predict(rfm_table_processed)\n",
    "    score = metrics.silhouette_score(rfm_table_processed, km.labels_)\n",
    "    silhouettes.append(score)\n",
    "    print('n_clusters=', i)\n",
    "    print('silhouette_score=', score)\n",
    "plt.xlabel(\"cluster\", fontsize=12)\n",
    "plt.ylabel(\"silhouette\", fontsize=12)\n",
    "plt.plot([i for i in range(3, 9)], silhouettes, 'xb-')"
   ]
  },
  {
   "cell_type": "markdown",
   "id": "35e13d4e",
   "metadata": {},
   "source": [
    "1) Судя по полученным результатам лучше всего взять 4 кластера.\n",
    "\n",
    "2) Максимальное значение коэффициента силуэта 0.56."
   ]
  },
  {
   "cell_type": "markdown",
   "id": "a2d62062",
   "metadata": {},
   "source": [
    "Воспользуемся EM-алгоритом.\n",
    "\n",
    "Подберем оптимальное количество кластеров для EM-алгоритма (GaussianMixture) с помощью коэффициента силуэта, перебирая возможные значения от 3 до 8 включительно.\n",
    "\n",
    "В качестве значения параметра random_state возьмем число 42. Остальные параметры оставим по умолчанию.\n"
   ]
  },
  {
   "cell_type": "code",
   "execution_count": 861,
   "id": "6e0b1e2b",
   "metadata": {},
   "outputs": [
    {
     "name": "stdout",
     "output_type": "stream",
     "text": [
      "n_clusters= 3\n",
      "silhouette_score= 0.5466872\n",
      "n_clusters= 4\n",
      "silhouette_score= 0.44282836\n",
      "n_clusters= 5\n",
      "silhouette_score= 0.37637198\n",
      "n_clusters= 6\n",
      "silhouette_score= 0.3868369\n",
      "n_clusters= 7\n",
      "silhouette_score= 0.44681928\n",
      "n_clusters= 8\n",
      "silhouette_score= 0.40447092\n"
     ]
    },
    {
     "data": {
      "text/plain": [
       "[<matplotlib.lines.Line2D at 0x217b26ac190>]"
      ]
     },
     "execution_count": 861,
     "metadata": {},
     "output_type": "execute_result"
    },
    {
     "data": {
      "image/png": "[encoded data removed]",
      "text/plain": [
       "<Figure size 432x288 with 1 Axes>"
      ]
     },
     "metadata": {
      "needs_background": "light"
     },
     "output_type": "display_data"
    }
   ],
   "source": [
    "silhouettes = []\n",
    "for i in range(3, 9):\n",
    "    em = GaussianMixture(n_components=i, random_state=42)\n",
    "    sss = em.fit_predict(rfm_table_processed)\n",
    "    score = metrics.silhouette_score(\n",
    "        rfm_table_processed, sss, metric='euclidean')\n",
    "    silhouettes.append(score)\n",
    "    print('n_clusters=', i)\n",
    "    print('silhouette_score=', score)\n",
    "\n",
    "plt.xlabel(\"cluster\", fontsize=12)\n",
    "plt.ylabel(\"silhouette\", fontsize=12)\n",
    "plt.plot([i for i in range(3, 9)], silhouettes, 'xb-')"
   ]
  },
  {
   "cell_type": "markdown",
   "id": "f7bbee17",
   "metadata": {},
   "source": [
    "1) Судя по полученным результатам лучше всего взять 5 кластера.\n",
    "\n",
    "2) Максимальное значение коэффициента силуэта 0.55."
   ]
  },
  {
   "cell_type": "markdown",
   "id": "fd80b108",
   "metadata": {},
   "source": [
    "Наконец, воспользуеся алгоритмом алгомеративной кластеризации (AgglomerativeClustering).\n",
    "\n",
    "Подберем оптимальное количество кластеров для алгоритма агломеративной кластеризации с помощью коэффициента силуэта, перебирая возможные значения от 3 до 8 включительно.\n",
    "\n",
    "Все параметры, за исключением числа кластеров, оставим по умолчанию.\n",
    "\n"
   ]
  },
  {
   "cell_type": "code",
   "execution_count": 862,
   "id": "726fe171",
   "metadata": {},
   "outputs": [
    {
     "name": "stdout",
     "output_type": "stream",
     "text": [
      "n_clusters= 3\n",
      "silhouette_score= 0.54956746\n",
      "n_clusters= 4\n",
      "silhouette_score= 0.54614687\n",
      "n_clusters= 5\n",
      "silhouette_score= 0.5054873\n",
      "n_clusters= 6\n",
      "silhouette_score= 0.5030231\n",
      "n_clusters= 7\n",
      "silhouette_score= 0.47950214\n",
      "n_clusters= 8\n",
      "silhouette_score= 0.46664116\n"
     ]
    },
    {
     "data": {
      "text/plain": [
       "[<matplotlib.lines.Line2D at 0x217b26f9d00>]"
      ]
     },
     "execution_count": 862,
     "metadata": {},
     "output_type": "execute_result"
    },
    {
     "data": {
      "image/png": "[encoded data removed]",
      "text/plain": [
       "<Figure size 432x288 with 1 Axes>"
      ]
     },
     "metadata": {
      "needs_background": "light"
     },
     "output_type": "display_data"
    }
   ],
   "source": [
    "from sklearn.cluster import AgglomerativeClustering\n",
    "\n",
    "silhouettes = []\n",
    "for i in range(3, 9):\n",
    "    ac = AgglomerativeClustering(n_clusters=i)\n",
    "    sss = ac.fit_predict(rfm_table_processed)\n",
    "    score = metrics.silhouette_score(\n",
    "        rfm_table_processed, sss, metric='euclidean')\n",
    "    silhouettes.append(score)\n",
    "    print('n_clusters=', i)\n",
    "    print('silhouette_score=', score)\n",
    "plt.xlabel(\"cluster\", fontsize=12)\n",
    "plt.ylabel(\"silhouette\", fontsize=12)\n",
    "plt.plot([i for i in range(3, 9)], silhouettes, 'xb-')"
   ]
  },
  {
   "cell_type": "markdown",
   "id": "5ac926ca",
   "metadata": {},
   "source": [
    "1) Судя по полученным результатам лучше всего взять 5 кластеров.\n",
    "\n",
    "2) Максимальное значение коэффициента силуэта 0.55."
   ]
  },
  {
   "cell_type": "markdown",
   "id": "43e16553",
   "metadata": {},
   "source": [
    "Посмотрим на распределение кластеров.\n",
    "\n",
    "1) Сначала определим лучшую модель. Для K-Means  количеством кластеров 4 коэффициент силуэта наибольший\n",
    "\n",
    "\n",
    "\n",
    "2) Обучим лучшую модель с подобранным ранее количеством кластеров на декомпозированных данных. "
   ]
  },
  {
   "cell_type": "code",
   "execution_count": 863,
   "id": "db46620e",
   "metadata": {},
   "outputs": [
    {
     "name": "stdout",
     "output_type": "stream",
     "text": [
      "[0 1 2 3] [ 48 104 181  17] "
     ]
    }
   ],
   "source": [
    "km = KMeans(n_clusters=4, random_state=42)\n",
    "ss=km.fit_predict(X)\n",
    "b=km.labels_\n",
    "\n",
    "counts = np.unique(b, return_counts=True)\n",
    "for count in counts:\n",
    "    print(count, end=' ')"
   ]
  },
  {
   "cell_type": "code",
   "execution_count": 864,
   "id": "6a918940",
   "metadata": {},
   "outputs": [
    {
     "data": {
      "text/plain": [
       "181"
      ]
     },
     "execution_count": 864,
     "metadata": {},
     "output_type": "execute_result"
    }
   ],
   "source": [
    "counts[1].max()"
   ]
  },
  {
   "cell_type": "markdown",
   "id": "cfac2719",
   "metadata": {},
   "source": [
    "-клиентов попало в самый большой кластер."
   ]
  },
  {
   "cell_type": "code",
   "execution_count": 865,
   "id": "36c84ebc",
   "metadata": {},
   "outputs": [
    {
     "data": {
      "text/plain": [
       "<AxesSubplot:>"
      ]
     },
     "execution_count": 865,
     "metadata": {},
     "output_type": "execute_result"
    },
    {
     "data": {
      "image/png": "[encoded data removed]",
      "text/plain": [
       "<Figure size 864x360 with 1 Axes>"
      ]
     },
     "metadata": {
      "needs_background": "light"
     },
     "output_type": "display_data"
    }
   ],
   "source": [
    "fig = plt.figure(figsize=(12, 5))\n",
    "sns.scatterplot(x=XX.T[0], y=XX.T[1], hue=ss,)"
   ]
  },
  {
   "cell_type": "markdown",
   "id": "3f02da4b",
   "metadata": {},
   "source": [
    "Для составления профиля кластеров вернемся от декомпозированных данных к RFM-таблице (очищенной от выбросов).\n",
    "\n",
    "Сгруппируем RFM-таблицу по полученным кластерам и рассчитаем среднее по каждому из признаков. Для наглядности округлим все значения в столбцах до целого числа.\n"
   ]
  },
  {
   "cell_type": "code",
   "execution_count": 866,
   "id": "728f7f9c",
   "metadata": {},
   "outputs": [
    {
     "data": {
      "text/html": [
       "<div>\n",
       "<style scoped>\n",
       "    .dataframe tbody tr th:only-of-type {\n",
       "        vertical-align: middle;\n",
       "    }\n",
       "\n",
       "    .dataframe tbody tr th {\n",
       "        vertical-align: top;\n",
       "    }\n",
       "\n",
       "    .dataframe thead th {\n",
       "        text-align: right;\n",
       "    }\n",
       "</style>\n",
       "<table border=\"1\" class=\"dataframe\">\n",
       "  <thead>\n",
       "    <tr style=\"text-align: right;\">\n",
       "      <th></th>\n",
       "      <th>Monetary_Value</th>\n",
       "      <th>Recency</th>\n",
       "      <th>Frequency</th>\n",
       "      <th>Cluster</th>\n",
       "    </tr>\n",
       "    <tr>\n",
       "      <th>Покупатель</th>\n",
       "      <th></th>\n",
       "      <th></th>\n",
       "      <th></th>\n",
       "      <th></th>\n",
       "    </tr>\n",
       "  </thead>\n",
       "  <tbody>\n",
       "    <tr>\n",
       "      <th>1</th>\n",
       "      <td>59034.319</td>\n",
       "      <td>9</td>\n",
       "      <td>1</td>\n",
       "      <td>2</td>\n",
       "    </tr>\n",
       "    <tr>\n",
       "      <th>2</th>\n",
       "      <td>1009600.709</td>\n",
       "      <td>4</td>\n",
       "      <td>17</td>\n",
       "      <td>2</td>\n",
       "    </tr>\n",
       "    <tr>\n",
       "      <th>3</th>\n",
       "      <td>126156.133</td>\n",
       "      <td>67</td>\n",
       "      <td>1</td>\n",
       "      <td>2</td>\n",
       "    </tr>\n",
       "    <tr>\n",
       "      <th>4</th>\n",
       "      <td>313714.277</td>\n",
       "      <td>259</td>\n",
       "      <td>5</td>\n",
       "      <td>1</td>\n",
       "    </tr>\n",
       "    <tr>\n",
       "      <th>5</th>\n",
       "      <td>1079512.053</td>\n",
       "      <td>15</td>\n",
       "      <td>12</td>\n",
       "      <td>2</td>\n",
       "    </tr>\n",
       "  </tbody>\n",
       "</table>\n",
       "</div>"
      ],
      "text/plain": [
       "            Monetary_Value  Recency  Frequency  Cluster\n",
       "Покупатель                                             \n",
       "1                59034.319        9          1        2\n",
       "2              1009600.709        4         17        2\n",
       "3               126156.133       67          1        2\n",
       "4               313714.277      259          5        1\n",
       "5              1079512.053       15         12        2"
      ]
     },
     "execution_count": 866,
     "metadata": {},
     "output_type": "execute_result"
    }
   ],
   "source": [
    "rfm_table_cleaned['Cluster'] = ss\n",
    "rfm_table_cleaned.head()"
   ]
  },
  {
   "cell_type": "code",
   "execution_count": 868,
   "id": "ff64505b",
   "metadata": {},
   "outputs": [
    {
     "data": {
      "text/html": [
       "<div>\n",
       "<style scoped>\n",
       "    .dataframe tbody tr th:only-of-type {\n",
       "        vertical-align: middle;\n",
       "    }\n",
       "\n",
       "    .dataframe tbody tr th {\n",
       "        vertical-align: top;\n",
       "    }\n",
       "\n",
       "    .dataframe thead th {\n",
       "        text-align: right;\n",
       "    }\n",
       "</style>\n",
       "<table border=\"1\" class=\"dataframe\">\n",
       "  <thead>\n",
       "    <tr style=\"text-align: right;\">\n",
       "      <th></th>\n",
       "      <th>Recency_mean</th>\n",
       "      <th>Frequency_mean</th>\n",
       "      <th>Monetary_mean</th>\n",
       "    </tr>\n",
       "    <tr>\n",
       "      <th>Cluster</th>\n",
       "      <th></th>\n",
       "      <th></th>\n",
       "      <th></th>\n",
       "    </tr>\n",
       "  </thead>\n",
       "  <tbody>\n",
       "    <tr>\n",
       "      <th>0</th>\n",
       "      <td>40.0</td>\n",
       "      <td>61.0</td>\n",
       "      <td>8134085.0</td>\n",
       "    </tr>\n",
       "    <tr>\n",
       "      <th>1</th>\n",
       "      <td>246.0</td>\n",
       "      <td>9.0</td>\n",
       "      <td>1028543.0</td>\n",
       "    </tr>\n",
       "    <tr>\n",
       "      <th>2</th>\n",
       "      <td>55.0</td>\n",
       "      <td>11.0</td>\n",
       "      <td>1050156.0</td>\n",
       "    </tr>\n",
       "    <tr>\n",
       "      <th>3</th>\n",
       "      <td>7.0</td>\n",
       "      <td>121.0</td>\n",
       "      <td>18640286.0</td>\n",
       "    </tr>\n",
       "  </tbody>\n",
       "</table>\n",
       "</div>"
      ],
      "text/plain": [
       "         Recency_mean  Frequency_mean  Monetary_mean\n",
       "Cluster                                             \n",
       "0                40.0            61.0      8134085.0\n",
       "1               246.0             9.0      1028543.0\n",
       "2                55.0            11.0      1050156.0\n",
       "3                 7.0           121.0     18640286.0"
      ]
     },
     "execution_count": 868,
     "metadata": {},
     "output_type": "execute_result"
    }
   ],
   "source": [
    "rfm_mean = rfm_table_cleaned.groupby(['Cluster']).agg(\n",
    "    Recency_mean=pd.NamedAgg(column='Recency', aggfunc='mean'),\n",
    "    Frequency_mean=pd.NamedAgg(column=\"Frequency\", aggfunc='mean'),\n",
    "    Monetary_mean=pd.NamedAgg(column='Monetary_Value', aggfunc='mean'),\n",
    ")\n",
    "rfm_mean_round = rfm_mean.round(0)\n",
    "rfm_mean_round"
   ]
  },
  {
   "cell_type": "code",
   "execution_count": 869,
   "id": "92c01baf",
   "metadata": {},
   "outputs": [
    {
     "data": {
      "text/plain": [
       "246.0"
      ]
     },
     "execution_count": 869,
     "metadata": {},
     "output_type": "execute_result"
    }
   ],
   "source": [
    "rfm_mean_round['Recency_mean'].max()"
   ]
  },
  {
   "cell_type": "markdown",
   "id": "dad37398",
   "metadata": {},
   "source": [
    "-максимальное среднее значение признака Recency в полученной таблице"
   ]
  },
  {
   "cell_type": "markdown",
   "id": "040d223d",
   "metadata": {},
   "source": [
    "Визуализируем профили кластеров в виде полярной диаграммы на основе средних RFM-характеристик, вычисленных для каждого кластера.\n",
    "\n",
    "Проанализируем кластеры и на основе анализа сопоставим номер кластера и его описание.\n",
    "\n"
   ]
  },
  {
   "cell_type": "code",
   "execution_count": 870,
   "id": "c09607c7",
   "metadata": {},
   "outputs": [
    {
     "data": {
      "application/vnd.plotly.v1+json": {
       "config": {
        "plotlyServerURL": "https://plot.ly"
       },
       "data": [
        {
         "fill": "toself",
         "name": "Cluster 0",
         "r": [
          0.13937058976885447,
          0.4657661146992348,
          0.40345476708884265
         ],
         "theta": [
          "Recency_mean",
          "Frequency_mean",
          "Monetary_mean"
         ],
         "type": "scatterpolar"
        },
        {
         "fill": "toself",
         "name": "Cluster 1",
         "r": [
          1,
          0,
          0
         ],
         "theta": [
          "Recency_mean",
          "Frequency_mean",
          "Monetary_mean"
         ],
         "type": "scatterpolar"
        },
        {
         "fill": "toself",
         "name": "Cluster 2",
         "r": [
          0.2006557835373604,
          0.017969668562756683,
          0.0012271886220603656
         ],
         "theta": [
          "Recency_mean",
          "Frequency_mean",
          "Monetary_mean"
         ],
         "type": "scatterpolar"
        },
        {
         "fill": "toself",
         "name": "Cluster 3",
         "r": [
          0,
          0.9999999999999999,
          1.0000000000000002
         ],
         "theta": [
          "Recency_mean",
          "Frequency_mean",
          "Monetary_mean"
         ],
         "type": "scatterpolar"
        }
       ],
       "layout": {
        "autosize": false,
        "height": 800,
        "showlegend": true,
        "template": {
         "data": {
          "bar": [
           {
            "error_x": {
             "color": "#2a3f5f"
            },
            "error_y": {
             "color": "#2a3f5f"
            },
            "marker": {
             "line": {
              "color": "#E5ECF6",
              "width": 0.5
             },
             "pattern": {
              "fillmode": "overlay",
              "size": 10,
              "solidity": 0.2
             }
            },
            "type": "bar"
           }
          ],
          "barpolar": [
           {
            "marker": {
             "line": {
              "color": "#E5ECF6",
              "width": 0.5
             },
             "pattern": {
              "fillmode": "overlay",
              "size": 10,
              "solidity": 0.2
             }
            },
            "type": "barpolar"
           }
          ],
          "carpet": [
           {
            "aaxis": {
             "endlinecolor": "#2a3f5f",
             "gridcolor": "white",
             "linecolor": "white",
             "minorgridcolor": "white",
             "startlinecolor": "#2a3f5f"
            },
            "baxis": {
             "endlinecolor": "#2a3f5f",
             "gridcolor": "white",
             "linecolor": "white",
             "minorgridcolor": "white",
             "startlinecolor": "#2a3f5f"
            },
            "type": "carpet"
           }
          ],
          "choropleth": [
           {
            "colorbar": {
             "outlinewidth": 0,
             "ticks": ""
            },
            "type": "choropleth"
           }
          ],
          "contour": [
           {
            "colorbar": {
             "outlinewidth": 0,
             "ticks": ""
            },
            "colorscale": [
             [
              0,
              "#0d0887"
             ],
             [
              0.1111111111111111,
              "#46039f"
             ],
             [
              0.2222222222222222,
              "#7201a8"
             ],
             [
              0.3333333333333333,
              "#9c179e"
             ],
             [
              0.4444444444444444,
              "#bd3786"
             ],
             [
              0.5555555555555556,
              "#d8576b"
             ],
             [
              0.6666666666666666,
              "#ed7953"
             ],
             [
              0.7777777777777778,
              "#fb9f3a"
             ],
             [
              0.8888888888888888,
              "#fdca26"
             ],
             [
              1,
              "#f0f921"
             ]
            ],
            "type": "contour"
           }
          ],
          "contourcarpet": [
           {
            "colorbar": {
             "outlinewidth": 0,
             "ticks": ""
            },
            "type": "contourcarpet"
           }
          ],
          "heatmap": [
           {
            "colorbar": {
             "outlinewidth": 0,
             "ticks": ""
            },
            "colorscale": [
             [
              0,
              "#0d0887"
             ],
             [
              0.1111111111111111,
              "#46039f"
             ],
             [
              0.2222222222222222,
              "#7201a8"
             ],
             [
              0.3333333333333333,
              "#9c179e"
             ],
             [
              0.4444444444444444,
              "#bd3786"
             ],
             [
              0.5555555555555556,
              "#d8576b"
             ],
             [
              0.6666666666666666,
              "#ed7953"
             ],
             [
              0.7777777777777778,
              "#fb9f3a"
             ],
             [
              0.8888888888888888,
              "#fdca26"
             ],
             [
              1,
              "#f0f921"
             ]
            ],
            "type": "heatmap"
           }
          ],
          "heatmapgl": [
           {
            "colorbar": {
             "outlinewidth": 0,
             "ticks": ""
            },
            "colorscale": [
             [
              0,
              "#0d0887"
             ],
             [
              0.1111111111111111,
              "#46039f"
             ],
             [
              0.2222222222222222,
              "#7201a8"
             ],
             [
              0.3333333333333333,
              "#9c179e"
             ],
             [
              0.4444444444444444,
              "#bd3786"
             ],
             [
              0.5555555555555556,
              "#d8576b"
             ],
             [
              0.6666666666666666,
              "#ed7953"
             ],
             [
              0.7777777777777778,
              "#fb9f3a"
             ],
             [
              0.8888888888888888,
              "#fdca26"
             ],
             [
              1,
              "#f0f921"
             ]
            ],
            "type": "heatmapgl"
           }
          ],
          "histogram": [
           {
            "marker": {
             "pattern": {
              "fillmode": "overlay",
              "size": 10,
              "solidity": 0.2
             }
            },
            "type": "histogram"
           }
          ],
          "histogram2d": [
           {
            "colorbar": {
             "outlinewidth": 0,
             "ticks": ""
            },
            "colorscale": [
             [
              0,
              "#0d0887"
             ],
             [
              0.1111111111111111,
              "#46039f"
             ],
             [
              0.2222222222222222,
              "#7201a8"
             ],
             [
              0.3333333333333333,
              "#9c179e"
             ],
             [
              0.4444444444444444,
              "#bd3786"
             ],
             [
              0.5555555555555556,
              "#d8576b"
             ],
             [
              0.6666666666666666,
              "#ed7953"
             ],
             [
              0.7777777777777778,
              "#fb9f3a"
             ],
             [
              0.8888888888888888,
              "#fdca26"
             ],
             [
              1,
              "#f0f921"
             ]
            ],
            "type": "histogram2d"
           }
          ],
          "histogram2dcontour": [
           {
            "colorbar": {
             "outlinewidth": 0,
             "ticks": ""
            },
            "colorscale": [
             [
              0,
              "#0d0887"
             ],
             [
              0.1111111111111111,
              "#46039f"
             ],
             [
              0.2222222222222222,
              "#7201a8"
             ],
             [
              0.3333333333333333,
              "#9c179e"
             ],
             [
              0.4444444444444444,
              "#bd3786"
             ],
             [
              0.5555555555555556,
              "#d8576b"
             ],
             [
              0.6666666666666666,
              "#ed7953"
             ],
             [
              0.7777777777777778,
              "#fb9f3a"
             ],
             [
              0.8888888888888888,
              "#fdca26"
             ],
             [
              1,
              "#f0f921"
             ]
            ],
            "type": "histogram2dcontour"
           }
          ],
          "mesh3d": [
           {
            "colorbar": {
             "outlinewidth": 0,
             "ticks": ""
            },
            "type": "mesh3d"
           }
          ],
          "parcoords": [
           {
            "line": {
             "colorbar": {
              "outlinewidth": 0,
              "ticks": ""
             }
            },
            "type": "parcoords"
           }
          ],
          "pie": [
           {
            "automargin": true,
            "type": "pie"
           }
          ],
          "scatter": [
           {
            "fillpattern": {
             "fillmode": "overlay",
             "size": 10,
             "solidity": 0.2
            },
            "type": "scatter"
           }
          ],
          "scatter3d": [
           {
            "line": {
             "colorbar": {
              "outlinewidth": 0,
              "ticks": ""
             }
            },
            "marker": {
             "colorbar": {
              "outlinewidth": 0,
              "ticks": ""
             }
            },
            "type": "scatter3d"
           }
          ],
          "scattercarpet": [
           {
            "marker": {
             "colorbar": {
              "outlinewidth": 0,
              "ticks": ""
             }
            },
            "type": "scattercarpet"
           }
          ],
          "scattergeo": [
           {
            "marker": {
             "colorbar": {
              "outlinewidth": 0,
              "ticks": ""
             }
            },
            "type": "scattergeo"
           }
          ],
          "scattergl": [
           {
            "marker": {
             "colorbar": {
              "outlinewidth": 0,
              "ticks": ""
             }
            },
            "type": "scattergl"
           }
          ],
          "scattermapbox": [
           {
            "marker": {
             "colorbar": {
              "outlinewidth": 0,
              "ticks": ""
             }
            },
            "type": "scattermapbox"
           }
          ],
          "scatterpolar": [
           {
            "marker": {
             "colorbar": {
              "outlinewidth": 0,
              "ticks": ""
             }
            },
            "type": "scatterpolar"
           }
          ],
          "scatterpolargl": [
           {
            "marker": {
             "colorbar": {
              "outlinewidth": 0,
              "ticks": ""
             }
            },
            "type": "scatterpolargl"
           }
          ],
          "scatterternary": [
           {
            "marker": {
             "colorbar": {
              "outlinewidth": 0,
              "ticks": ""
             }
            },
            "type": "scatterternary"
           }
          ],
          "surface": [
           {
            "colorbar": {
             "outlinewidth": 0,
             "ticks": ""
            },
            "colorscale": [
             [
              0,
              "#0d0887"
             ],
             [
              0.1111111111111111,
              "#46039f"
             ],
             [
              0.2222222222222222,
              "#7201a8"
             ],
             [
              0.3333333333333333,
              "#9c179e"
             ],
             [
              0.4444444444444444,
              "#bd3786"
             ],
             [
              0.5555555555555556,
              "#d8576b"
             ],
             [
              0.6666666666666666,
              "#ed7953"
             ],
             [
              0.7777777777777778,
              "#fb9f3a"
             ],
             [
              0.8888888888888888,
              "#fdca26"
             ],
             [
              1,
              "#f0f921"
             ]
            ],
            "type": "surface"
           }
          ],
          "table": [
           {
            "cells": {
             "fill": {
              "color": "#EBF0F8"
             },
             "line": {
              "color": "white"
             }
            },
            "header": {
             "fill": {
              "color": "#C8D4E3"
             },
             "line": {
              "color": "white"
             }
            },
            "type": "table"
           }
          ]
         },
         "layout": {
          "annotationdefaults": {
           "arrowcolor": "#2a3f5f",
           "arrowhead": 0,
           "arrowwidth": 1
          },
          "autotypenumbers": "strict",
          "coloraxis": {
           "colorbar": {
            "outlinewidth": 0,
            "ticks": ""
           }
          },
          "colorscale": {
           "diverging": [
            [
             0,
             "#8e0152"
            ],
            [
             0.1,
             "#c51b7d"
            ],
            [
             0.2,
             "#de77ae"
            ],
            [
             0.3,
             "#f1b6da"
            ],
            [
             0.4,
             "#fde0ef"
            ],
            [
             0.5,
             "#f7f7f7"
            ],
            [
             0.6,
             "#e6f5d0"
            ],
            [
             0.7,
             "#b8e186"
            ],
            [
             0.8,
             "#7fbc41"
            ],
            [
             0.9,
             "#4d9221"
            ],
            [
             1,
             "#276419"
            ]
           ],
           "sequential": [
            [
             0,
             "#0d0887"
            ],
            [
             0.1111111111111111,
             "#46039f"
            ],
            [
             0.2222222222222222,
             "#7201a8"
            ],
            [
             0.3333333333333333,
             "#9c179e"
            ],
            [
             0.4444444444444444,
             "#bd3786"
            ],
            [
             0.5555555555555556,
             "#d8576b"
            ],
            [
             0.6666666666666666,
             "#ed7953"
            ],
            [
             0.7777777777777778,
             "#fb9f3a"
            ],
            [
             0.8888888888888888,
             "#fdca26"
            ],
            [
             1,
             "#f0f921"
            ]
           ],
           "sequentialminus": [
            [
             0,
             "#0d0887"
            ],
            [
             0.1111111111111111,
             "#46039f"
            ],
            [
             0.2222222222222222,
             "#7201a8"
            ],
            [
             0.3333333333333333,
             "#9c179e"
            ],
            [
             0.4444444444444444,
             "#bd3786"
            ],
            [
             0.5555555555555556,
             "#d8576b"
            ],
            [
             0.6666666666666666,
             "#ed7953"
            ],
            [
             0.7777777777777778,
             "#fb9f3a"
            ],
            [
             0.8888888888888888,
             "#fdca26"
            ],
            [
             1,
             "#f0f921"
            ]
           ]
          },
          "colorway": [
           "#636efa",
           "#EF553B",
           "#00cc96",
           "#ab63fa",
           "#FFA15A",
           "#19d3f3",
           "#FF6692",
           "#B6E880",
           "#FF97FF",
           "#FECB52"
          ],
          "font": {
           "color": "#2a3f5f"
          },
          "geo": {
           "bgcolor": "white",
           "lakecolor": "white",
           "landcolor": "#E5ECF6",
           "showlakes": true,
           "showland": true,
           "subunitcolor": "white"
          },
          "hoverlabel": {
           "align": "left"
          },
          "hovermode": "closest",
          "mapbox": {
           "style": "light"
          },
          "paper_bgcolor": "white",
          "plot_bgcolor": "#E5ECF6",
          "polar": {
           "angularaxis": {
            "gridcolor": "white",
            "linecolor": "white",
            "ticks": ""
           },
           "bgcolor": "#E5ECF6",
           "radialaxis": {
            "gridcolor": "white",
            "linecolor": "white",
            "ticks": ""
           }
          },
          "scene": {
           "xaxis": {
            "backgroundcolor": "#E5ECF6",
            "gridcolor": "white",
            "gridwidth": 2,
            "linecolor": "white",
            "showbackground": true,
            "ticks": "",
            "zerolinecolor": "white"
           },
           "yaxis": {
            "backgroundcolor": "#E5ECF6",
            "gridcolor": "white",
            "gridwidth": 2,
            "linecolor": "white",
            "showbackground": true,
            "ticks": "",
            "zerolinecolor": "white"
           },
           "zaxis": {
            "backgroundcolor": "#E5ECF6",
            "gridcolor": "white",
            "gridwidth": 2,
            "linecolor": "white",
            "showbackground": true,
            "ticks": "",
            "zerolinecolor": "white"
           }
          },
          "shapedefaults": {
           "line": {
            "color": "#2a3f5f"
           }
          },
          "ternary": {
           "aaxis": {
            "gridcolor": "white",
            "linecolor": "white",
            "ticks": ""
           },
           "baxis": {
            "gridcolor": "white",
            "linecolor": "white",
            "ticks": ""
           },
           "bgcolor": "#E5ECF6",
           "caxis": {
            "gridcolor": "white",
            "linecolor": "white",
            "ticks": ""
           }
          },
          "title": {
           "x": 0.05
          },
          "xaxis": {
           "automargin": true,
           "gridcolor": "white",
           "linecolor": "white",
           "ticks": "",
           "title": {
            "standoff": 15
           },
           "zerolinecolor": "white",
           "zerolinewidth": 2
          },
          "yaxis": {
           "automargin": true,
           "gridcolor": "white",
           "linecolor": "white",
           "ticks": "",
           "title": {
            "standoff": 15
           },
           "zerolinecolor": "white",
           "zerolinewidth": 2
          }
         }
        },
        "width": 800
       }
      },
      "text/html": [
       "<div>                            <div id=\"4780c89e-1ae7-4206-ab51-ab8b22c673da\" class=\"plotly-graph-div\" style=\"height:800px; width:800px;\"></div>            <script type=\"text/javascript\">                require([\"plotly\"], function(Plotly) {                    window.PLOTLYENV=window.PLOTLYENV || {};                                    if (document.getElementById(\"4780c89e-1ae7-4206-ab51-ab8b22c673da\")) {                    Plotly.newPlot(                        \"4780c89e-1ae7-4206-ab51-ab8b22c673da\",                        [{\"fill\":\"toself\",\"name\":\"Cluster 0\",\"r\":[0.13937058976885447,0.4657661146992348,0.40345476708884265],\"theta\":[\"Recency_mean\",\"Frequency_mean\",\"Monetary_mean\"],\"type\":\"scatterpolar\"},{\"fill\":\"toself\",\"name\":\"Cluster 1\",\"r\":[1.0,0.0,0.0],\"theta\":[\"Recency_mean\",\"Frequency_mean\",\"Monetary_mean\"],\"type\":\"scatterpolar\"},{\"fill\":\"toself\",\"name\":\"Cluster 2\",\"r\":[0.2006557835373604,0.017969668562756683,0.0012271886220603656],\"theta\":[\"Recency_mean\",\"Frequency_mean\",\"Monetary_mean\"],\"type\":\"scatterpolar\"},{\"fill\":\"toself\",\"name\":\"Cluster 3\",\"r\":[0.0,0.9999999999999999,1.0000000000000002],\"theta\":[\"Recency_mean\",\"Frequency_mean\",\"Monetary_mean\"],\"type\":\"scatterpolar\"}],                        {\"template\":{\"data\":{\"histogram2dcontour\":[{\"type\":\"histogram2dcontour\",\"colorbar\":{\"outlinewidth\":0,\"ticks\":\"\"},\"colorscale\":[[0.0,\"#0d0887\"],[0.1111111111111111,\"#46039f\"],[0.2222222222222222,\"#7201a8\"],[0.3333333333333333,\"#9c179e\"],[0.4444444444444444,\"#bd3786\"],[0.5555555555555556,\"#d8576b\"],[0.6666666666666666,\"#ed7953\"],[0.7777777777777778,\"#fb9f3a\"],[0.8888888888888888,\"#fdca26\"],[1.0,\"#f0f921\"]]}],\"choropleth\":[{\"type\":\"choropleth\",\"colorbar\":{\"outlinewidth\":0,\"ticks\":\"\"}}],\"histogram2d\":[{\"type\":\"histogram2d\",\"colorbar\":{\"outlinewidth\":0,\"ticks\":\"\"},\"colorscale\":[[0.0,\"#0d0887\"],[0.1111111111111111,\"#46039f\"],[0.2222222222222222,\"#7201a8\"],[0.3333333333333333,\"#9c179e\"],[0.4444444444444444,\"#bd3786\"],[0.5555555555555556,\"#d8576b\"],[0.6666666666666666,\"#ed7953\"],[0.7777777777777778,\"#fb9f3a\"],[0.8888888888888888,\"#fdca26\"],[1.0,\"#f0f921\"]]}],\"heatmap\":[{\"type\":\"heatmap\",\"colorbar\":{\"outlinewidth\":0,\"ticks\":\"\"},\"colorscale\":[[0.0,\"#0d0887\"],[0.1111111111111111,\"#46039f\"],[0.2222222222222222,\"#7201a8\"],[0.3333333333333333,\"#9c179e\"],[0.4444444444444444,\"#bd3786\"],[0.5555555555555556,\"#d8576b\"],[0.6666666666666666,\"#ed7953\"],[0.7777777777777778,\"#fb9f3a\"],[0.8888888888888888,\"#fdca26\"],[1.0,\"#f0f921\"]]}],\"heatmapgl\":[{\"type\":\"heatmapgl\",\"colorbar\":{\"outlinewidth\":0,\"ticks\":\"\"},\"colorscale\":[[0.0,\"#0d0887\"],[0.1111111111111111,\"#46039f\"],[0.2222222222222222,\"#7201a8\"],[0.3333333333333333,\"#9c179e\"],[0.4444444444444444,\"#bd3786\"],[0.5555555555555556,\"#d8576b\"],[0.6666666666666666,\"#ed7953\"],[0.7777777777777778,\"#fb9f3a\"],[0.8888888888888888,\"#fdca26\"],[1.0,\"#f0f921\"]]}],\"contourcarpet\":[{\"type\":\"contourcarpet\",\"colorbar\":{\"outlinewidth\":0,\"ticks\":\"\"}}],\"contour\":[{\"type\":\"contour\",\"colorbar\":{\"outlinewidth\":0,\"ticks\":\"\"},\"colorscale\":[[0.0,\"#0d0887\"],[0.1111111111111111,\"#46039f\"],[0.2222222222222222,\"#7201a8\"],[0.3333333333333333,\"#9c179e\"],[0.4444444444444444,\"#bd3786\"],[0.5555555555555556,\"#d8576b\"],[0.6666666666666666,\"#ed7953\"],[0.7777777777777778,\"#fb9f3a\"],[0.8888888888888888,\"#fdca26\"],[1.0,\"#f0f921\"]]}],\"surface\":[{\"type\":\"surface\",\"colorbar\":{\"outlinewidth\":0,\"ticks\":\"\"},\"colorscale\":[[0.0,\"#0d0887\"],[0.1111111111111111,\"#46039f\"],[0.2222222222222222,\"#7201a8\"],[0.3333333333333333,\"#9c179e\"],[0.4444444444444444,\"#bd3786\"],[0.5555555555555556,\"#d8576b\"],[0.6666666666666666,\"#ed7953\"],[0.7777777777777778,\"#fb9f3a\"],[0.8888888888888888,\"#fdca26\"],[1.0,\"#f0f921\"]]}],\"mesh3d\":[{\"type\":\"mesh3d\",\"colorbar\":{\"outlinewidth\":0,\"ticks\":\"\"}}],\"scatter\":[{\"fillpattern\":{\"fillmode\":\"overlay\",\"size\":10,\"solidity\":0.2},\"type\":\"scatter\"}],\"parcoords\":[{\"type\":\"parcoords\",\"line\":{\"colorbar\":{\"outlinewidth\":0,\"ticks\":\"\"}}}],\"scatterpolargl\":[{\"type\":\"scatterpolargl\",\"marker\":{\"colorbar\":{\"outlinewidth\":0,\"ticks\":\"\"}}}],\"bar\":[{\"error_x\":{\"color\":\"#2a3f5f\"},\"error_y\":{\"color\":\"#2a3f5f\"},\"marker\":{\"line\":{\"color\":\"#E5ECF6\",\"width\":0.5},\"pattern\":{\"fillmode\":\"overlay\",\"size\":10,\"solidity\":0.2}},\"type\":\"bar\"}],\"scattergeo\":[{\"type\":\"scattergeo\",\"marker\":{\"colorbar\":{\"outlinewidth\":0,\"ticks\":\"\"}}}],\"scatterpolar\":[{\"type\":\"scatterpolar\",\"marker\":{\"colorbar\":{\"outlinewidth\":0,\"ticks\":\"\"}}}],\"histogram\":[{\"marker\":{\"pattern\":{\"fillmode\":\"overlay\",\"size\":10,\"solidity\":0.2}},\"type\":\"histogram\"}],\"scattergl\":[{\"type\":\"scattergl\",\"marker\":{\"colorbar\":{\"outlinewidth\":0,\"ticks\":\"\"}}}],\"scatter3d\":[{\"type\":\"scatter3d\",\"line\":{\"colorbar\":{\"outlinewidth\":0,\"ticks\":\"\"}},\"marker\":{\"colorbar\":{\"outlinewidth\":0,\"ticks\":\"\"}}}],\"scattermapbox\":[{\"type\":\"scattermapbox\",\"marker\":{\"colorbar\":{\"outlinewidth\":0,\"ticks\":\"\"}}}],\"scatterternary\":[{\"type\":\"scatterternary\",\"marker\":{\"colorbar\":{\"outlinewidth\":0,\"ticks\":\"\"}}}],\"scattercarpet\":[{\"type\":\"scattercarpet\",\"marker\":{\"colorbar\":{\"outlinewidth\":0,\"ticks\":\"\"}}}],\"carpet\":[{\"aaxis\":{\"endlinecolor\":\"#2a3f5f\",\"gridcolor\":\"white\",\"linecolor\":\"white\",\"minorgridcolor\":\"white\",\"startlinecolor\":\"#2a3f5f\"},\"baxis\":{\"endlinecolor\":\"#2a3f5f\",\"gridcolor\":\"white\",\"linecolor\":\"white\",\"minorgridcolor\":\"white\",\"startlinecolor\":\"#2a3f5f\"},\"type\":\"carpet\"}],\"table\":[{\"cells\":{\"fill\":{\"color\":\"#EBF0F8\"},\"line\":{\"color\":\"white\"}},\"header\":{\"fill\":{\"color\":\"#C8D4E3\"},\"line\":{\"color\":\"white\"}},\"type\":\"table\"}],\"barpolar\":[{\"marker\":{\"line\":{\"color\":\"#E5ECF6\",\"width\":0.5},\"pattern\":{\"fillmode\":\"overlay\",\"size\":10,\"solidity\":0.2}},\"type\":\"barpolar\"}],\"pie\":[{\"automargin\":true,\"type\":\"pie\"}]},\"layout\":{\"autotypenumbers\":\"strict\",\"colorway\":[\"#636efa\",\"#EF553B\",\"#00cc96\",\"#ab63fa\",\"#FFA15A\",\"#19d3f3\",\"#FF6692\",\"#B6E880\",\"#FF97FF\",\"#FECB52\"],\"font\":{\"color\":\"#2a3f5f\"},\"hovermode\":\"closest\",\"hoverlabel\":{\"align\":\"left\"},\"paper_bgcolor\":\"white\",\"plot_bgcolor\":\"#E5ECF6\",\"polar\":{\"bgcolor\":\"#E5ECF6\",\"angularaxis\":{\"gridcolor\":\"white\",\"linecolor\":\"white\",\"ticks\":\"\"},\"radialaxis\":{\"gridcolor\":\"white\",\"linecolor\":\"white\",\"ticks\":\"\"}},\"ternary\":{\"bgcolor\":\"#E5ECF6\",\"aaxis\":{\"gridcolor\":\"white\",\"linecolor\":\"white\",\"ticks\":\"\"},\"baxis\":{\"gridcolor\":\"white\",\"linecolor\":\"white\",\"ticks\":\"\"},\"caxis\":{\"gridcolor\":\"white\",\"linecolor\":\"white\",\"ticks\":\"\"}},\"coloraxis\":{\"colorbar\":{\"outlinewidth\":0,\"ticks\":\"\"}},\"colorscale\":{\"sequential\":[[0.0,\"#0d0887\"],[0.1111111111111111,\"#46039f\"],[0.2222222222222222,\"#7201a8\"],[0.3333333333333333,\"#9c179e\"],[0.4444444444444444,\"#bd3786\"],[0.5555555555555556,\"#d8576b\"],[0.6666666666666666,\"#ed7953\"],[0.7777777777777778,\"#fb9f3a\"],[0.8888888888888888,\"#fdca26\"],[1.0,\"#f0f921\"]],\"sequentialminus\":[[0.0,\"#0d0887\"],[0.1111111111111111,\"#46039f\"],[0.2222222222222222,\"#7201a8\"],[0.3333333333333333,\"#9c179e\"],[0.4444444444444444,\"#bd3786\"],[0.5555555555555556,\"#d8576b\"],[0.6666666666666666,\"#ed7953\"],[0.7777777777777778,\"#fb9f3a\"],[0.8888888888888888,\"#fdca26\"],[1.0,\"#f0f921\"]],\"diverging\":[[0,\"#8e0152\"],[0.1,\"#c51b7d\"],[0.2,\"#de77ae\"],[0.3,\"#f1b6da\"],[0.4,\"#fde0ef\"],[0.5,\"#f7f7f7\"],[0.6,\"#e6f5d0\"],[0.7,\"#b8e186\"],[0.8,\"#7fbc41\"],[0.9,\"#4d9221\"],[1,\"#276419\"]]},\"xaxis\":{\"gridcolor\":\"white\",\"linecolor\":\"white\",\"ticks\":\"\",\"title\":{\"standoff\":15},\"zerolinecolor\":\"white\",\"automargin\":true,\"zerolinewidth\":2},\"yaxis\":{\"gridcolor\":\"white\",\"linecolor\":\"white\",\"ticks\":\"\",\"title\":{\"standoff\":15},\"zerolinecolor\":\"white\",\"automargin\":true,\"zerolinewidth\":2},\"scene\":{\"xaxis\":{\"backgroundcolor\":\"#E5ECF6\",\"gridcolor\":\"white\",\"linecolor\":\"white\",\"showbackground\":true,\"ticks\":\"\",\"zerolinecolor\":\"white\",\"gridwidth\":2},\"yaxis\":{\"backgroundcolor\":\"#E5ECF6\",\"gridcolor\":\"white\",\"linecolor\":\"white\",\"showbackground\":true,\"ticks\":\"\",\"zerolinecolor\":\"white\",\"gridwidth\":2},\"zaxis\":{\"backgroundcolor\":\"#E5ECF6\",\"gridcolor\":\"white\",\"linecolor\":\"white\",\"showbackground\":true,\"ticks\":\"\",\"zerolinecolor\":\"white\",\"gridwidth\":2}},\"shapedefaults\":{\"line\":{\"color\":\"#2a3f5f\"}},\"annotationdefaults\":{\"arrowcolor\":\"#2a3f5f\",\"arrowhead\":0,\"arrowwidth\":1},\"geo\":{\"bgcolor\":\"white\",\"landcolor\":\"#E5ECF6\",\"subunitcolor\":\"white\",\"showland\":true,\"showlakes\":true,\"lakecolor\":\"white\"},\"title\":{\"x\":0.05},\"mapbox\":{\"style\":\"light\"}}},\"showlegend\":true,\"autosize\":false,\"width\":800,\"height\":800},                        {\"responsive\": true}                    ).then(function(){\n",
       "                            \n",
       "var gd = document.getElementById('4780c89e-1ae7-4206-ab51-ab8b22c673da');\n",
       "var x = new MutationObserver(function (mutations, observer) {{\n",
       "        var display = window.getComputedStyle(gd).display;\n",
       "        if (!display || display === 'none') {{\n",
       "            console.log([gd, 'removed!']);\n",
       "            Plotly.purge(gd);\n",
       "            observer.disconnect();\n",
       "        }}\n",
       "}});\n",
       "\n",
       "// Listen for the removal of the full notebook cells\n",
       "var notebookContainer = gd.closest('#notebook-container');\n",
       "if (notebookContainer) {{\n",
       "    x.observe(notebookContainer, {childList: true});\n",
       "}}\n",
       "\n",
       "// Listen for the clearing of the current output cell\n",
       "var outputEl = gd.closest('.output');\n",
       "if (outputEl) {{\n",
       "    x.observe(outputEl, {childList: true});\n",
       "}}\n",
       "\n",
       "                        })                };                });            </script>        </div>"
      ]
     },
     "metadata": {},
     "output_type": "display_data"
    }
   ],
   "source": [
    "plot_cluster_profile(rfm_mean, 4)"
   ]
  },
  {
   "cell_type": "markdown",
   "id": "dcd598af",
   "metadata": {},
   "source": [
    "Кластер 3 соответствует «лояльным» клиентам, которые приносят наибольший доход, совершают покупки чаще всего, а давность их последней покупки наименьшая.\n",
    "Кластер 0 соответствует «перспективным» клиентам, которые являются активными покупателями, но покупают не так часто и не так много, как лояльные клиенты.\n",
    "Кластер 2 соответствует «подвисшим» клиентам, которые относительно недавно сделали несколько заказов на небольшие суммы. Потенциально эти клиенты могут быть переведены в кластер «перспективных».\n",
    "Кластер 1 соответствует клиентам «в зоне риска», которые несколько раз покупали товары на небольшие суммы, однако их последняя покупка была совершена более пяти месяцев назад.\n"
   ]
  },
  {
   "cell_type": "code",
   "execution_count": 871,
   "id": "30e27133",
   "metadata": {},
   "outputs": [],
   "source": [
    "#pip install tensorflow"
   ]
  },
  {
   "cell_type": "markdown",
   "id": "f669a051",
   "metadata": {},
   "source": [
    "Воспользуемся Deep Learning для определения количества кластеров"
   ]
  },
  {
   "cell_type": "code",
   "execution_count": 872,
   "id": "8086a0ac",
   "metadata": {},
   "outputs": [],
   "source": [
    "from tensorflow.keras.layers import Input, Embedding, Flatten, Dot, Dense, Concatenate\n",
    "from tensorflow.keras.models import Model\n",
    "from tensorflow.keras.optimizers.legacy import Adam\n",
    " "
   ]
  },
  {
   "cell_type": "code",
   "execution_count": 873,
   "id": "76ede4ac",
   "metadata": {},
   "outputs": [
    {
     "data": {
      "text/html": [
       "<div>\n",
       "<style scoped>\n",
       "    .dataframe tbody tr th:only-of-type {\n",
       "        vertical-align: middle;\n",
       "    }\n",
       "\n",
       "    .dataframe tbody tr th {\n",
       "        vertical-align: top;\n",
       "    }\n",
       "\n",
       "    .dataframe thead th {\n",
       "        text-align: right;\n",
       "    }\n",
       "</style>\n",
       "<table border=\"1\" class=\"dataframe\">\n",
       "  <thead>\n",
       "    <tr style=\"text-align: right;\">\n",
       "      <th></th>\n",
       "      <th>Monetary_Value</th>\n",
       "      <th>Recency</th>\n",
       "      <th>Frequency</th>\n",
       "      <th>Cluster</th>\n",
       "    </tr>\n",
       "    <tr>\n",
       "      <th>Покупатель</th>\n",
       "      <th></th>\n",
       "      <th></th>\n",
       "      <th></th>\n",
       "      <th></th>\n",
       "    </tr>\n",
       "  </thead>\n",
       "  <tbody>\n",
       "    <tr>\n",
       "      <th>1</th>\n",
       "      <td>59034.319</td>\n",
       "      <td>9</td>\n",
       "      <td>1</td>\n",
       "      <td>2</td>\n",
       "    </tr>\n",
       "    <tr>\n",
       "      <th>2</th>\n",
       "      <td>1009600.709</td>\n",
       "      <td>4</td>\n",
       "      <td>17</td>\n",
       "      <td>2</td>\n",
       "    </tr>\n",
       "    <tr>\n",
       "      <th>3</th>\n",
       "      <td>126156.133</td>\n",
       "      <td>67</td>\n",
       "      <td>1</td>\n",
       "      <td>2</td>\n",
       "    </tr>\n",
       "    <tr>\n",
       "      <th>4</th>\n",
       "      <td>313714.277</td>\n",
       "      <td>259</td>\n",
       "      <td>5</td>\n",
       "      <td>1</td>\n",
       "    </tr>\n",
       "    <tr>\n",
       "      <th>5</th>\n",
       "      <td>1079512.053</td>\n",
       "      <td>15</td>\n",
       "      <td>12</td>\n",
       "      <td>2</td>\n",
       "    </tr>\n",
       "  </tbody>\n",
       "</table>\n",
       "</div>"
      ],
      "text/plain": [
       "            Monetary_Value  Recency  Frequency  Cluster\n",
       "Покупатель                                             \n",
       "1                59034.319        9          1        2\n",
       "2              1009600.709        4         17        2\n",
       "3               126156.133       67          1        2\n",
       "4               313714.277      259          5        1\n",
       "5              1079512.053       15         12        2"
      ]
     },
     "execution_count": 873,
     "metadata": {},
     "output_type": "execute_result"
    }
   ],
   "source": [
    "\n",
    "rfm_table_cleaned.head()"
   ]
  },
  {
   "cell_type": "code",
   "execution_count": 874,
   "id": "8b00db34",
   "metadata": {},
   "outputs": [],
   "source": [
    "rfm_table_cleaned=rfm_table_cleaned.reset_index()"
   ]
  },
  {
   "cell_type": "code",
   "execution_count": 875,
   "id": "7255ea26",
   "metadata": {},
   "outputs": [
    {
     "data": {
      "text/html": [
       "<div>\n",
       "<style scoped>\n",
       "    .dataframe tbody tr th:only-of-type {\n",
       "        vertical-align: middle;\n",
       "    }\n",
       "\n",
       "    .dataframe tbody tr th {\n",
       "        vertical-align: top;\n",
       "    }\n",
       "\n",
       "    .dataframe thead th {\n",
       "        text-align: right;\n",
       "    }\n",
       "</style>\n",
       "<table border=\"1\" class=\"dataframe\">\n",
       "  <thead>\n",
       "    <tr style=\"text-align: right;\">\n",
       "      <th></th>\n",
       "      <th>Покупатель</th>\n",
       "      <th>Monetary_Value</th>\n",
       "      <th>Recency</th>\n",
       "      <th>Frequency</th>\n",
       "      <th>Cluster</th>\n",
       "    </tr>\n",
       "  </thead>\n",
       "  <tbody>\n",
       "    <tr>\n",
       "      <th>0</th>\n",
       "      <td>1</td>\n",
       "      <td>59034.319</td>\n",
       "      <td>9</td>\n",
       "      <td>1</td>\n",
       "      <td>2</td>\n",
       "    </tr>\n",
       "    <tr>\n",
       "      <th>1</th>\n",
       "      <td>2</td>\n",
       "      <td>1009600.709</td>\n",
       "      <td>4</td>\n",
       "      <td>17</td>\n",
       "      <td>2</td>\n",
       "    </tr>\n",
       "    <tr>\n",
       "      <th>2</th>\n",
       "      <td>3</td>\n",
       "      <td>126156.133</td>\n",
       "      <td>67</td>\n",
       "      <td>1</td>\n",
       "      <td>2</td>\n",
       "    </tr>\n",
       "    <tr>\n",
       "      <th>3</th>\n",
       "      <td>4</td>\n",
       "      <td>313714.277</td>\n",
       "      <td>259</td>\n",
       "      <td>5</td>\n",
       "      <td>1</td>\n",
       "    </tr>\n",
       "    <tr>\n",
       "      <th>4</th>\n",
       "      <td>5</td>\n",
       "      <td>1079512.053</td>\n",
       "      <td>15</td>\n",
       "      <td>12</td>\n",
       "      <td>2</td>\n",
       "    </tr>\n",
       "  </tbody>\n",
       "</table>\n",
       "</div>"
      ],
      "text/plain": [
       "   Покупатель  Monetary_Value  Recency  Frequency  Cluster\n",
       "0           1       59034.319        9          1        2\n",
       "1           2     1009600.709        4         17        2\n",
       "2           3      126156.133       67          1        2\n",
       "3           4      313714.277      259          5        1\n",
       "4           5     1079512.053       15         12        2"
      ]
     },
     "execution_count": 875,
     "metadata": {},
     "output_type": "execute_result"
    }
   ],
   "source": [
    "rfm_table_cleaned.head()"
   ]
  },
  {
   "cell_type": "code",
   "execution_count": 877,
   "id": "36d0cf28",
   "metadata": {},
   "outputs": [
    {
     "data": {
      "text/plain": [
       "array([2, 1, 0, 3])"
      ]
     },
     "execution_count": 877,
     "metadata": {},
     "output_type": "execute_result"
    }
   ],
   "source": [
    "rfm_table_cleaned['Cluster'].unique()"
   ]
  },
  {
   "cell_type": "code",
   "execution_count": 878,
   "id": "682f1fbd",
   "metadata": {},
   "outputs": [
    {
     "name": "stdout",
     "output_type": "stream",
     "text": [
      "(280, 5)\n"
     ]
    }
   ],
   "source": [
    "from sklearn.model_selection import train_test_split\n",
    "train, test = train_test_split(rfm_table_cleaned, test_size=0.2, random_state=42)\n",
    "print(train.shape)"
   ]
  },
  {
   "cell_type": "code",
   "execution_count": 880,
   "id": "a4dc218a",
   "metadata": {},
   "outputs": [
    {
     "data": {
      "text/plain": [
       "array([2, 1, 0, 3])"
      ]
     },
     "execution_count": 880,
     "metadata": {},
     "output_type": "execute_result"
    }
   ],
   "source": [
    "rfm_table_cleaned['Cluster'].unique()"
   ]
  },
  {
   "cell_type": "code",
   "execution_count": 881,
   "id": "7c7a8744",
   "metadata": {},
   "outputs": [
    {
     "name": "stdout",
     "output_type": "stream",
     "text": [
      "383\n"
     ]
    }
   ],
   "source": [
    "n_users = int(rfm_table_cleaned['Покупатель'].max())\n",
    "\n",
    "\n",
    "print(n_users)"
   ]
  },
  {
   "cell_type": "code",
   "execution_count": 882,
   "id": "a272c2e3",
   "metadata": {},
   "outputs": [
    {
     "name": "stdout",
     "output_type": "stream",
     "text": [
      "24552288\n"
     ]
    }
   ],
   "source": [
    "n_Monetary_Value = int(rfm_table_cleaned['Monetary_Value'].max())\n",
    "\n",
    "\n",
    "\n",
    "print(n_Monetary_Value)"
   ]
  },
  {
   "cell_type": "code",
   "execution_count": 883,
   "id": "25cd5911",
   "metadata": {},
   "outputs": [],
   "source": [
    "n_Recency=int(rfm_table_cleaned['Recency'].max())\n",
    "\n",
    "n_Frequency=int(rfm_table_cleaned['Frequency'].max())"
   ]
  },
  {
   "cell_type": "code",
   "execution_count": 884,
   "id": "a03f1145",
   "metadata": {},
   "outputs": [
    {
     "data": {
      "text/plain": [
       "(364, 159)"
      ]
     },
     "execution_count": 884,
     "metadata": {},
     "output_type": "execute_result"
    }
   ],
   "source": [
    "n_Recency, n_Frequency"
   ]
  },
  {
   "cell_type": "markdown",
   "id": "49dc9d0a",
   "metadata": {},
   "source": [
    "Создаем эмбеддинги :"
   ]
  },
  {
   "cell_type": "code",
   "execution_count": 885,
   "id": "35407e30",
   "metadata": {},
   "outputs": [],
   "source": [
    "user_input = Input(shape=[1], name=\"User-Input\")\n",
    "user_embedding = Embedding(n_users+1, 5, name=\"User-Embedding\")(user_input)\n",
    "user_vec = Flatten(name=\"Flatten-Users\")(user_embedding)"
   ]
  },
  {
   "cell_type": "code",
   "execution_count": 886,
   "id": "6618f7ac",
   "metadata": {},
   "outputs": [],
   "source": [
    "Monetary_Value_input = Input(shape=[1], name=\"Monetary_Value-Input\")\n",
    "Monetary_Value_embedding = Embedding(n_Monetary_Value+1, 5, name=\"Monetary_Value-Embedding\")(Monetary_Value_input)\n",
    "Monetary_Value_vec = Flatten(name=\"Flatten-Monetary_Value\")(Monetary_Value_embedding)"
   ]
  },
  {
   "cell_type": "code",
   "execution_count": 887,
   "id": "7ee60461",
   "metadata": {},
   "outputs": [],
   "source": [
    "Recency_input = Input(shape=[1], name=\"Recency-Input\")\n",
    "Recency_embedding = Embedding(n_Recency+1, 5, name=\"Recency-Embedding\")(Recency_input)\n",
    "Recency_vec = Flatten(name=\"Flatten-Recency\")(Recency_embedding)"
   ]
  },
  {
   "cell_type": "code",
   "execution_count": 888,
   "id": "4d9f19df",
   "metadata": {},
   "outputs": [],
   "source": [
    "Frequency_input = Input(shape=[1], name=\"Frequency-Input\")\n",
    "Frequency_embedding = Embedding(n_Frequency+1, 5, name=\"Frequency-Embedding\")(Frequency_input)\n",
    "Frequency_vec = Flatten(name=\"Flatten-Frequency\")(Frequency_embedding)"
   ]
  },
  {
   "cell_type": "markdown",
   "id": "b0d3c8d5",
   "metadata": {},
   "source": [
    "соединяем представления:"
   ]
  },
  {
   "cell_type": "code",
   "execution_count": 889,
   "id": "8160f423",
   "metadata": {},
   "outputs": [],
   "source": [
    "conc = Concatenate()([user_vec,Monetary_Value_vec,Recency_vec, Frequency_vec])"
   ]
  },
  {
   "cell_type": "markdown",
   "id": "e0f739f8",
   "metadata": {},
   "source": [
    "начинаем «собирать» нашу нейронную сеть из слоёв. Dense обозначает полносвязный слой. Также мы обозначаем для него количество нейронов и данные, которые идут на вход."
   ]
  },
  {
   "cell_type": "code",
   "execution_count": 890,
   "id": "17c2e63f",
   "metadata": {},
   "outputs": [
    {
     "data": {
      "text/plain": [
       "TensorShape([None, 20])"
      ]
     },
     "execution_count": 890,
     "metadata": {},
     "output_type": "execute_result"
    }
   ],
   "source": [
    "conc.shape"
   ]
  },
  {
   "cell_type": "code",
   "execution_count": 891,
   "id": "4dd2ce83",
   "metadata": {},
   "outputs": [],
   "source": [
    "fc1 = Dense(128, activation='relu')(conc)\n",
    "fc2 = Dense(32, activation='relu')(fc1)\n",
    "out = Dense(1)(fc2)"
   ]
  },
  {
   "cell_type": "markdown",
   "id": "2ef75c34",
   "metadata": {},
   "source": [
    "Собираем модель — передаём входные данные, а также архитектуру нейронной сети:"
   ]
  },
  {
   "cell_type": "code",
   "execution_count": 892,
   "id": "59bb3131",
   "metadata": {},
   "outputs": [],
   "source": [
    "model2 = Model([user_input, Monetary_Value_input,Recency_input,Frequency_input], out)"
   ]
  },
  {
   "cell_type": "markdown",
   "id": "598780cc",
   "metadata": {},
   "source": [
    "Зададим алгоритм оптимизации и метрику, которую мы будем оптимизировать. В данном случае будем использовать метод adam и среднеквадратичную ошибку:"
   ]
  },
  {
   "cell_type": "code",
   "execution_count": 893,
   "id": "4dbc7f39",
   "metadata": {},
   "outputs": [],
   "source": [
    "model2.compile(optimizer = 'adam',loss =  'mean_squared_error')"
   ]
  },
  {
   "cell_type": "code",
   "execution_count": 894,
   "id": "a0e1c7f9",
   "metadata": {},
   "outputs": [
    {
     "name": "stdout",
     "output_type": "stream",
     "text": [
      "Epoch 1/5\n",
      "9/9 [==============================] - 14s 1s/step - loss: 2.7189\n",
      "Epoch 2/5\n",
      "9/9 [==============================] - 13s 1s/step - loss: 2.4092\n",
      "Epoch 3/5\n",
      "9/9 [==============================] - 12s 1s/step - loss: 1.9812\n",
      "Epoch 4/5\n",
      "9/9 [==============================] - 12s 1s/step - loss: 1.4136\n",
      "Epoch 5/5\n",
      "9/9 [==============================] - 12s 1s/step - loss: 0.8328\n"
     ]
    }
   ],
   "source": [
    "history = model2.fit([train.Покупатель, train.Monetary_Value,train.Recency, train.Frequency], train.Cluster, epochs=5, verbose=1)"
   ]
  },
  {
   "cell_type": "code",
   "execution_count": 895,
   "id": "d8c72f53",
   "metadata": {},
   "outputs": [
    {
     "name": "stdout",
     "output_type": "stream",
     "text": [
      "3/3 [==============================] - 0s 9ms/step - loss: 0.6744\n"
     ]
    },
    {
     "data": {
      "text/plain": [
       "0.6743669509887695"
      ]
     },
     "execution_count": 895,
     "metadata": {},
     "output_type": "execute_result"
    }
   ],
   "source": [
    "model2.evaluate([test.Покупатель, test.Monetary_Value,test.Recency, test.Frequency], test.Cluster)"
   ]
  },
  {
   "cell_type": "markdown",
   "id": "3be79489",
   "metadata": {},
   "source": [
    "Для улучшения качества модели каким-то образом модифицируют нейронную сеть: дополняют её, увеличивают время обучения. Добавим ещё один полносвязный слой с восемью нейронами после полносвязного слоя с 32 нейронами. Обучим нейронную сеть, реализовав десять эпох:"
   ]
  },
  {
   "cell_type": "code",
   "execution_count": 896,
   "id": "8bd3f915",
   "metadata": {},
   "outputs": [
    {
     "name": "stdout",
     "output_type": "stream",
     "text": [
      "Epoch 1/10\n",
      "9/9 [==============================] - 14s 1s/step - loss: 2.7502\n",
      "Epoch 2/10\n",
      "9/9 [==============================] - 12s 1s/step - loss: 2.5263\n",
      "Epoch 3/10\n",
      "9/9 [==============================] - 12s 1s/step - loss: 2.2038\n",
      "Epoch 4/10\n",
      "9/9 [==============================] - 12s 1s/step - loss: 1.7340\n",
      "Epoch 5/10\n",
      "9/9 [==============================] - 13s 1s/step - loss: 1.1211\n",
      "Epoch 6/10\n",
      "9/9 [==============================] - 12s 1s/step - loss: 0.5524\n",
      "Epoch 7/10\n",
      "9/9 [==============================] - 12s 1s/step - loss: 0.3753\n",
      "Epoch 8/10\n",
      "9/9 [==============================] - 13s 1s/step - loss: 0.3065\n",
      "Epoch 9/10\n",
      "9/9 [==============================] - 12s 1s/step - loss: 0.2118\n",
      "Epoch 10/10\n",
      "9/9 [==============================] - 13s 1s/step - loss: 0.1510\n",
      "WARNING:tensorflow:5 out of the last 16 calls to <function Model.make_test_function.<locals>.test_function at 0x00000217B2A38A60> triggered tf.function retracing. Tracing is expensive and the excessive number of tracings could be due to (1) creating @tf.function repeatedly in a loop, (2) passing tensors with different shapes, (3) passing Python objects instead of tensors. For (1), please define your @tf.function outside of the loop. For (2), @tf.function has reduce_retracing=True option that can avoid unnecessary retracing. For (3), please refer to https://www.tensorflow.org/guide/function#controlling_retracing and https://www.tensorflow.org/api_docs/python/tf/function for  more details.\n",
      "3/3 [==============================] - 0s 8ms/step - loss: 0.5822\n"
     ]
    },
    {
     "data": {
      "text/plain": [
       "0.5822358131408691"
      ]
     },
     "execution_count": 896,
     "metadata": {},
     "output_type": "execute_result"
    }
   ],
   "source": [
    "fc1 = Dense(128, activation='relu')(conc)\n",
    "fc2 = Dense(32, activation='relu')(fc1)\n",
    "fc3 = Dense(8, activation='relu')(fc2)\n",
    "out = Dense(1)(fc3)\n",
    "\n",
    "model2 = Model([user_input, Monetary_Value_input,Recency_input,Frequency_input], out)\n",
    "model2.compile(optimizer = 'adam',loss =  'mean_squared_error')\n",
    "result = model2.fit([train.Покупатель, train.Monetary_Value,train.Recency, train.Frequency], train.Cluster, epochs=10, verbose=1)\n",
    "model2.evaluate([test.Покупатель, test.Monetary_Value,test.Recency, test.Frequency], test.Cluster)\n"
   ]
  },
  {
   "cell_type": "code",
   "execution_count": 897,
   "id": "4e22761a",
   "metadata": {},
   "outputs": [
    {
     "name": "stdout",
     "output_type": "stream",
     "text": [
      "11/11 [==============================] - 0s 3ms/step\n"
     ]
    }
   ],
   "source": [
    "predictions = model2.predict([rfm_table_cleaned.Покупатель, rfm_table_cleaned.Monetary_Value,rfm_table_cleaned.Recency, rfm_table_cleaned.Frequency])"
   ]
  },
  {
   "cell_type": "code",
   "execution_count": 898,
   "id": "41a77a36",
   "metadata": {},
   "outputs": [],
   "source": [
    "predictions1=predictions.round(0)"
   ]
  },
  {
   "cell_type": "code",
   "execution_count": 899,
   "id": "c15129e1",
   "metadata": {},
   "outputs": [
    {
     "data": {
      "text/plain": [
       "<AxesSubplot:>"
      ]
     },
     "execution_count": 899,
     "metadata": {},
     "output_type": "execute_result"
    },
    {
     "data": {
      "image/png": "[encoded data removed]",
      "text/plain": [
       "<Figure size 864x360 with 1 Axes>"
      ]
     },
     "metadata": {
      "needs_background": "light"
     },
     "output_type": "display_data"
    }
   ],
   "source": [
    "fig = plt.figure(figsize=(12, 5))\n",
    "sns.scatterplot(x=XX.T[0], y=XX.T[1], hue=predictions1.T[0],)"
   ]
  },
  {
   "cell_type": "code",
   "execution_count": 900,
   "id": "3ad92313",
   "metadata": {},
   "outputs": [],
   "source": [
    "rfm_table_cleaned['Cluster']=predictions1.T[0]"
   ]
  },
  {
   "cell_type": "code",
   "execution_count": 901,
   "id": "0ff33277",
   "metadata": {},
   "outputs": [
    {
     "data": {
      "text/html": [
       "<div>\n",
       "<style scoped>\n",
       "    .dataframe tbody tr th:only-of-type {\n",
       "        vertical-align: middle;\n",
       "    }\n",
       "\n",
       "    .dataframe tbody tr th {\n",
       "        vertical-align: top;\n",
       "    }\n",
       "\n",
       "    .dataframe thead th {\n",
       "        text-align: right;\n",
       "    }\n",
       "</style>\n",
       "<table border=\"1\" class=\"dataframe\">\n",
       "  <thead>\n",
       "    <tr style=\"text-align: right;\">\n",
       "      <th></th>\n",
       "      <th>Recency_mean</th>\n",
       "      <th>Frequency_mean</th>\n",
       "      <th>Monetary_mean</th>\n",
       "    </tr>\n",
       "    <tr>\n",
       "      <th>Cluster</th>\n",
       "      <th></th>\n",
       "      <th></th>\n",
       "      <th></th>\n",
       "    </tr>\n",
       "  </thead>\n",
       "  <tbody>\n",
       "    <tr>\n",
       "      <th>0.0</th>\n",
       "      <td>41.0</td>\n",
       "      <td>58.0</td>\n",
       "      <td>8345508.0</td>\n",
       "    </tr>\n",
       "    <tr>\n",
       "      <th>1.0</th>\n",
       "      <td>180.0</td>\n",
       "      <td>17.0</td>\n",
       "      <td>1922716.0</td>\n",
       "    </tr>\n",
       "    <tr>\n",
       "      <th>2.0</th>\n",
       "      <td>55.0</td>\n",
       "      <td>21.0</td>\n",
       "      <td>2743624.0</td>\n",
       "    </tr>\n",
       "  </tbody>\n",
       "</table>\n",
       "</div>"
      ],
      "text/plain": [
       "         Recency_mean  Frequency_mean  Monetary_mean\n",
       "Cluster                                             \n",
       "0.0              41.0            58.0      8345508.0\n",
       "1.0             180.0            17.0      1922716.0\n",
       "2.0              55.0            21.0      2743624.0"
      ]
     },
     "execution_count": 901,
     "metadata": {},
     "output_type": "execute_result"
    }
   ],
   "source": [
    "rfm_mean = rfm_table_cleaned.groupby(['Cluster']).agg(\n",
    "    Recency_mean=pd.NamedAgg(column='Recency', aggfunc='mean'),\n",
    "    Frequency_mean=pd.NamedAgg(column=\"Frequency\", aggfunc='mean'),\n",
    "    Monetary_mean=pd.NamedAgg(column='Monetary_Value', aggfunc='mean'),\n",
    ")\n",
    "rfm_mean_round = rfm_mean.round(0)\n",
    "rfm_mean_round"
   ]
  },
  {
   "cell_type": "code",
   "execution_count": 902,
   "id": "9c66dc12",
   "metadata": {},
   "outputs": [
    {
     "data": {
      "application/vnd.plotly.v1+json": {
       "config": {
        "plotlyServerURL": "https://plot.ly"
       },
       "data": [
        {
         "fill": "toself",
         "name": "Cluster 0",
         "r": [
          0,
          1,
          1
         ],
         "theta": [
          "Recency_mean",
          "Frequency_mean",
          "Monetary_mean"
         ],
         "type": "scatterpolar"
        },
        {
         "fill": "toself",
         "name": "Cluster 1",
         "r": [
          1,
          0,
          0
         ],
         "theta": [
          "Recency_mean",
          "Frequency_mean",
          "Monetary_mean"
         ],
         "type": "scatterpolar"
        },
        {
         "fill": "toself",
         "name": "Cluster 2",
         "r": [
          0.10143037282322015,
          0.1090311807499274,
          0.12781170223968868
         ],
         "theta": [
          "Recency_mean",
          "Frequency_mean",
          "Monetary_mean"
         ],
         "type": "scatterpolar"
        }
       ],
       "layout": {
        "autosize": false,
        "height": 800,
        "showlegend": true,
        "template": {
         "data": {
          "bar": [
           {
            "error_x": {
             "color": "#2a3f5f"
            },
            "error_y": {
             "color": "#2a3f5f"
            },
            "marker": {
             "line": {
              "color": "#E5ECF6",
              "width": 0.5
             },
             "pattern": {
              "fillmode": "overlay",
              "size": 10,
              "solidity": 0.2
             }
            },
            "type": "bar"
           }
          ],
          "barpolar": [
           {
            "marker": {
             "line": {
              "color": "#E5ECF6",
              "width": 0.5
             },
             "pattern": {
              "fillmode": "overlay",
              "size": 10,
              "solidity": 0.2
             }
            },
            "type": "barpolar"
           }
          ],
          "carpet": [
           {
            "aaxis": {
             "endlinecolor": "#2a3f5f",
             "gridcolor": "white",
             "linecolor": "white",
             "minorgridcolor": "white",
             "startlinecolor": "#2a3f5f"
            },
            "baxis": {
             "endlinecolor": "#2a3f5f",
             "gridcolor": "white",
             "linecolor": "white",
             "minorgridcolor": "white",
             "startlinecolor": "#2a3f5f"
            },
            "type": "carpet"
           }
          ],
          "choropleth": [
           {
            "colorbar": {
             "outlinewidth": 0,
             "ticks": ""
            },
            "type": "choropleth"
           }
          ],
          "contour": [
           {
            "colorbar": {
             "outlinewidth": 0,
             "ticks": ""
            },
            "colorscale": [
             [
              0,
              "#0d0887"
             ],
             [
              0.1111111111111111,
              "#46039f"
             ],
             [
              0.2222222222222222,
              "#7201a8"
             ],
             [
              0.3333333333333333,
              "#9c179e"
             ],
             [
              0.4444444444444444,
              "#bd3786"
             ],
             [
              0.5555555555555556,
              "#d8576b"
             ],
             [
              0.6666666666666666,
              "#ed7953"
             ],
             [
              0.7777777777777778,
              "#fb9f3a"
             ],
             [
              0.8888888888888888,
              "#fdca26"
             ],
             [
              1,
              "#f0f921"
             ]
            ],
            "type": "contour"
           }
          ],
          "contourcarpet": [
           {
            "colorbar": {
             "outlinewidth": 0,
             "ticks": ""
            },
            "type": "contourcarpet"
           }
          ],
          "heatmap": [
           {
            "colorbar": {
             "outlinewidth": 0,
             "ticks": ""
            },
            "colorscale": [
             [
              0,
              "#0d0887"
             ],
             [
              0.1111111111111111,
              "#46039f"
             ],
             [
              0.2222222222222222,
              "#7201a8"
             ],
             [
              0.3333333333333333,
              "#9c179e"
             ],
             [
              0.4444444444444444,
              "#bd3786"
             ],
             [
              0.5555555555555556,
              "#d8576b"
             ],
             [
              0.6666666666666666,
              "#ed7953"
             ],
             [
              0.7777777777777778,
              "#fb9f3a"
             ],
             [
              0.8888888888888888,
              "#fdca26"
             ],
             [
              1,
              "#f0f921"
             ]
            ],
            "type": "heatmap"
           }
          ],
          "heatmapgl": [
           {
            "colorbar": {
             "outlinewidth": 0,
             "ticks": ""
            },
            "colorscale": [
             [
              0,
              "#0d0887"
             ],
             [
              0.1111111111111111,
              "#46039f"
             ],
             [
              0.2222222222222222,
              "#7201a8"
             ],
             [
              0.3333333333333333,
              "#9c179e"
             ],
             [
              0.4444444444444444,
              "#bd3786"
             ],
             [
              0.5555555555555556,
              "#d8576b"
             ],
             [
              0.6666666666666666,
              "#ed7953"
             ],
             [
              0.7777777777777778,
              "#fb9f3a"
             ],
             [
              0.8888888888888888,
              "#fdca26"
             ],
             [
              1,
              "#f0f921"
             ]
            ],
            "type": "heatmapgl"
           }
          ],
          "histogram": [
           {
            "marker": {
             "pattern": {
              "fillmode": "overlay",
              "size": 10,
              "solidity": 0.2
             }
            },
            "type": "histogram"
           }
          ],
          "histogram2d": [
           {
            "colorbar": {
             "outlinewidth": 0,
             "ticks": ""
            },
            "colorscale": [
             [
              0,
              "#0d0887"
             ],
             [
              0.1111111111111111,
              "#46039f"
             ],
             [
              0.2222222222222222,
              "#7201a8"
             ],
             [
              0.3333333333333333,
              "#9c179e"
             ],
             [
              0.4444444444444444,
              "#bd3786"
             ],
             [
              0.5555555555555556,
              "#d8576b"
             ],
             [
              0.6666666666666666,
              "#ed7953"
             ],
             [
              0.7777777777777778,
              "#fb9f3a"
             ],
             [
              0.8888888888888888,
              "#fdca26"
             ],
             [
              1,
              "#f0f921"
             ]
            ],
            "type": "histogram2d"
           }
          ],
          "histogram2dcontour": [
           {
            "colorbar": {
             "outlinewidth": 0,
             "ticks": ""
            },
            "colorscale": [
             [
              0,
              "#0d0887"
             ],
             [
              0.1111111111111111,
              "#46039f"
             ],
             [
              0.2222222222222222,
              "#7201a8"
             ],
             [
              0.3333333333333333,
              "#9c179e"
             ],
             [
              0.4444444444444444,
              "#bd3786"
             ],
             [
              0.5555555555555556,
              "#d8576b"
             ],
             [
              0.6666666666666666,
              "#ed7953"
             ],
             [
              0.7777777777777778,
              "#fb9f3a"
             ],
             [
              0.8888888888888888,
              "#fdca26"
             ],
             [
              1,
              "#f0f921"
             ]
            ],
            "type": "histogram2dcontour"
           }
          ],
          "mesh3d": [
           {
            "colorbar": {
             "outlinewidth": 0,
             "ticks": ""
            },
            "type": "mesh3d"
           }
          ],
          "parcoords": [
           {
            "line": {
             "colorbar": {
              "outlinewidth": 0,
              "ticks": ""
             }
            },
            "type": "parcoords"
           }
          ],
          "pie": [
           {
            "automargin": true,
            "type": "pie"
           }
          ],
          "scatter": [
           {
            "fillpattern": {
             "fillmode": "overlay",
             "size": 10,
             "solidity": 0.2
            },
            "type": "scatter"
           }
          ],
          "scatter3d": [
           {
            "line": {
             "colorbar": {
              "outlinewidth": 0,
              "ticks": ""
             }
            },
            "marker": {
             "colorbar": {
              "outlinewidth": 0,
              "ticks": ""
             }
            },
            "type": "scatter3d"
           }
          ],
          "scattercarpet": [
           {
            "marker": {
             "colorbar": {
              "outlinewidth": 0,
              "ticks": ""
             }
            },
            "type": "scattercarpet"
           }
          ],
          "scattergeo": [
           {
            "marker": {
             "colorbar": {
              "outlinewidth": 0,
              "ticks": ""
             }
            },
            "type": "scattergeo"
           }
          ],
          "scattergl": [
           {
            "marker": {
             "colorbar": {
              "outlinewidth": 0,
              "ticks": ""
             }
            },
            "type": "scattergl"
           }
          ],
          "scattermapbox": [
           {
            "marker": {
             "colorbar": {
              "outlinewidth": 0,
              "ticks": ""
             }
            },
            "type": "scattermapbox"
           }
          ],
          "scatterpolar": [
           {
            "marker": {
             "colorbar": {
              "outlinewidth": 0,
              "ticks": ""
             }
            },
            "type": "scatterpolar"
           }
          ],
          "scatterpolargl": [
           {
            "marker": {
             "colorbar": {
              "outlinewidth": 0,
              "ticks": ""
             }
            },
            "type": "scatterpolargl"
           }
          ],
          "scatterternary": [
           {
            "marker": {
             "colorbar": {
              "outlinewidth": 0,
              "ticks": ""
             }
            },
            "type": "scatterternary"
           }
          ],
          "surface": [
           {
            "colorbar": {
             "outlinewidth": 0,
             "ticks": ""
            },
            "colorscale": [
             [
              0,
              "#0d0887"
             ],
             [
              0.1111111111111111,
              "#46039f"
             ],
             [
              0.2222222222222222,
              "#7201a8"
             ],
             [
              0.3333333333333333,
              "#9c179e"
             ],
             [
              0.4444444444444444,
              "#bd3786"
             ],
             [
              0.5555555555555556,
              "#d8576b"
             ],
             [
              0.6666666666666666,
              "#ed7953"
             ],
             [
              0.7777777777777778,
              "#fb9f3a"
             ],
             [
              0.8888888888888888,
              "#fdca26"
             ],
             [
              1,
              "#f0f921"
             ]
            ],
            "type": "surface"
           }
          ],
          "table": [
           {
            "cells": {
             "fill": {
              "color": "#EBF0F8"
             },
             "line": {
              "color": "white"
             }
            },
            "header": {
             "fill": {
              "color": "#C8D4E3"
             },
             "line": {
              "color": "white"
             }
            },
            "type": "table"
           }
          ]
         },
         "layout": {
          "annotationdefaults": {
           "arrowcolor": "#2a3f5f",
           "arrowhead": 0,
           "arrowwidth": 1
          },
          "autotypenumbers": "strict",
          "coloraxis": {
           "colorbar": {
            "outlinewidth": 0,
            "ticks": ""
           }
          },
          "colorscale": {
           "diverging": [
            [
             0,
             "#8e0152"
            ],
            [
             0.1,
             "#c51b7d"
            ],
            [
             0.2,
             "#de77ae"
            ],
            [
             0.3,
             "#f1b6da"
            ],
            [
             0.4,
             "#fde0ef"
            ],
            [
             0.5,
             "#f7f7f7"
            ],
            [
             0.6,
             "#e6f5d0"
            ],
            [
             0.7,
             "#b8e186"
            ],
            [
             0.8,
             "#7fbc41"
            ],
            [
             0.9,
             "#4d9221"
            ],
            [
             1,
             "#276419"
            ]
           ],
           "sequential": [
            [
             0,
             "#0d0887"
            ],
            [
             0.1111111111111111,
             "#46039f"
            ],
            [
             0.2222222222222222,
             "#7201a8"
            ],
            [
             0.3333333333333333,
             "#9c179e"
            ],
            [
             0.4444444444444444,
             "#bd3786"
            ],
            [
             0.5555555555555556,
             "#d8576b"
            ],
            [
             0.6666666666666666,
             "#ed7953"
            ],
            [
             0.7777777777777778,
             "#fb9f3a"
            ],
            [
             0.8888888888888888,
             "#fdca26"
            ],
            [
             1,
             "#f0f921"
            ]
           ],
           "sequentialminus": [
            [
             0,
             "#0d0887"
            ],
            [
             0.1111111111111111,
             "#46039f"
            ],
            [
             0.2222222222222222,
             "#7201a8"
            ],
            [
             0.3333333333333333,
             "#9c179e"
            ],
            [
             0.4444444444444444,
             "#bd3786"
            ],
            [
             0.5555555555555556,
             "#d8576b"
            ],
            [
             0.6666666666666666,
             "#ed7953"
            ],
            [
             0.7777777777777778,
             "#fb9f3a"
            ],
            [
             0.8888888888888888,
             "#fdca26"
            ],
            [
             1,
             "#f0f921"
            ]
           ]
          },
          "colorway": [
           "#636efa",
           "#EF553B",
           "#00cc96",
           "#ab63fa",
           "#FFA15A",
           "#19d3f3",
           "#FF6692",
           "#B6E880",
           "#FF97FF",
           "#FECB52"
          ],
          "font": {
           "color": "#2a3f5f"
          },
          "geo": {
           "bgcolor": "white",
           "lakecolor": "white",
           "landcolor": "#E5ECF6",
           "showlakes": true,
           "showland": true,
           "subunitcolor": "white"
          },
          "hoverlabel": {
           "align": "left"
          },
          "hovermode": "closest",
          "mapbox": {
           "style": "light"
          },
          "paper_bgcolor": "white",
          "plot_bgcolor": "#E5ECF6",
          "polar": {
           "angularaxis": {
            "gridcolor": "white",
            "linecolor": "white",
            "ticks": ""
           },
           "bgcolor": "#E5ECF6",
           "radialaxis": {
            "gridcolor": "white",
            "linecolor": "white",
            "ticks": ""
           }
          },
          "scene": {
           "xaxis": {
            "backgroundcolor": "#E5ECF6",
            "gridcolor": "white",
            "gridwidth": 2,
            "linecolor": "white",
            "showbackground": true,
            "ticks": "",
            "zerolinecolor": "white"
           },
           "yaxis": {
            "backgroundcolor": "#E5ECF6",
            "gridcolor": "white",
            "gridwidth": 2,
            "linecolor": "white",
            "showbackground": true,
            "ticks": "",
            "zerolinecolor": "white"
           },
           "zaxis": {
            "backgroundcolor": "#E5ECF6",
            "gridcolor": "white",
            "gridwidth": 2,
            "linecolor": "white",
            "showbackground": true,
            "ticks": "",
            "zerolinecolor": "white"
           }
          },
          "shapedefaults": {
           "line": {
            "color": "#2a3f5f"
           }
          },
          "ternary": {
           "aaxis": {
            "gridcolor": "white",
            "linecolor": "white",
            "ticks": ""
           },
           "baxis": {
            "gridcolor": "white",
            "linecolor": "white",
            "ticks": ""
           },
           "bgcolor": "#E5ECF6",
           "caxis": {
            "gridcolor": "white",
            "linecolor": "white",
            "ticks": ""
           }
          },
          "title": {
           "x": 0.05
          },
          "xaxis": {
           "automargin": true,
           "gridcolor": "white",
           "linecolor": "white",
           "ticks": "",
           "title": {
            "standoff": 15
           },
           "zerolinecolor": "white",
           "zerolinewidth": 2
          },
          "yaxis": {
           "automargin": true,
           "gridcolor": "white",
           "linecolor": "white",
           "ticks": "",
           "title": {
            "standoff": 15
           },
           "zerolinecolor": "white",
           "zerolinewidth": 2
          }
         }
        },
        "width": 800
       }
      },
      "text/html": [
       "<div>                            <div id=\"df5d2262-956a-444d-82ae-1bd7558e5a7e\" class=\"plotly-graph-div\" style=\"height:800px; width:800px;\"></div>            <script type=\"text/javascript\">                require([\"plotly\"], function(Plotly) {                    window.PLOTLYENV=window.PLOTLYENV || {};                                    if (document.getElementById(\"df5d2262-956a-444d-82ae-1bd7558e5a7e\")) {                    Plotly.newPlot(                        \"df5d2262-956a-444d-82ae-1bd7558e5a7e\",                        [{\"fill\":\"toself\",\"name\":\"Cluster 0\",\"r\":[0.0,1.0,1.0],\"theta\":[\"Recency_mean\",\"Frequency_mean\",\"Monetary_mean\"],\"type\":\"scatterpolar\"},{\"fill\":\"toself\",\"name\":\"Cluster 1\",\"r\":[1.0,0.0,0.0],\"theta\":[\"Recency_mean\",\"Frequency_mean\",\"Monetary_mean\"],\"type\":\"scatterpolar\"},{\"fill\":\"toself\",\"name\":\"Cluster 2\",\"r\":[0.10143037282322015,0.1090311807499274,0.12781170223968868],\"theta\":[\"Recency_mean\",\"Frequency_mean\",\"Monetary_mean\"],\"type\":\"scatterpolar\"}],                        {\"template\":{\"data\":{\"histogram2dcontour\":[{\"type\":\"histogram2dcontour\",\"colorbar\":{\"outlinewidth\":0,\"ticks\":\"\"},\"colorscale\":[[0.0,\"#0d0887\"],[0.1111111111111111,\"#46039f\"],[0.2222222222222222,\"#7201a8\"],[0.3333333333333333,\"#9c179e\"],[0.4444444444444444,\"#bd3786\"],[0.5555555555555556,\"#d8576b\"],[0.6666666666666666,\"#ed7953\"],[0.7777777777777778,\"#fb9f3a\"],[0.8888888888888888,\"#fdca26\"],[1.0,\"#f0f921\"]]}],\"choropleth\":[{\"type\":\"choropleth\",\"colorbar\":{\"outlinewidth\":0,\"ticks\":\"\"}}],\"histogram2d\":[{\"type\":\"histogram2d\",\"colorbar\":{\"outlinewidth\":0,\"ticks\":\"\"},\"colorscale\":[[0.0,\"#0d0887\"],[0.1111111111111111,\"#46039f\"],[0.2222222222222222,\"#7201a8\"],[0.3333333333333333,\"#9c179e\"],[0.4444444444444444,\"#bd3786\"],[0.5555555555555556,\"#d8576b\"],[0.6666666666666666,\"#ed7953\"],[0.7777777777777778,\"#fb9f3a\"],[0.8888888888888888,\"#fdca26\"],[1.0,\"#f0f921\"]]}],\"heatmap\":[{\"type\":\"heatmap\",\"colorbar\":{\"outlinewidth\":0,\"ticks\":\"\"},\"colorscale\":[[0.0,\"#0d0887\"],[0.1111111111111111,\"#46039f\"],[0.2222222222222222,\"#7201a8\"],[0.3333333333333333,\"#9c179e\"],[0.4444444444444444,\"#bd3786\"],[0.5555555555555556,\"#d8576b\"],[0.6666666666666666,\"#ed7953\"],[0.7777777777777778,\"#fb9f3a\"],[0.8888888888888888,\"#fdca26\"],[1.0,\"#f0f921\"]]}],\"heatmapgl\":[{\"type\":\"heatmapgl\",\"colorbar\":{\"outlinewidth\":0,\"ticks\":\"\"},\"colorscale\":[[0.0,\"#0d0887\"],[0.1111111111111111,\"#46039f\"],[0.2222222222222222,\"#7201a8\"],[0.3333333333333333,\"#9c179e\"],[0.4444444444444444,\"#bd3786\"],[0.5555555555555556,\"#d8576b\"],[0.6666666666666666,\"#ed7953\"],[0.7777777777777778,\"#fb9f3a\"],[0.8888888888888888,\"#fdca26\"],[1.0,\"#f0f921\"]]}],\"contourcarpet\":[{\"type\":\"contourcarpet\",\"colorbar\":{\"outlinewidth\":0,\"ticks\":\"\"}}],\"contour\":[{\"type\":\"contour\",\"colorbar\":{\"outlinewidth\":0,\"ticks\":\"\"},\"colorscale\":[[0.0,\"#0d0887\"],[0.1111111111111111,\"#46039f\"],[0.2222222222222222,\"#7201a8\"],[0.3333333333333333,\"#9c179e\"],[0.4444444444444444,\"#bd3786\"],[0.5555555555555556,\"#d8576b\"],[0.6666666666666666,\"#ed7953\"],[0.7777777777777778,\"#fb9f3a\"],[0.8888888888888888,\"#fdca26\"],[1.0,\"#f0f921\"]]}],\"surface\":[{\"type\":\"surface\",\"colorbar\":{\"outlinewidth\":0,\"ticks\":\"\"},\"colorscale\":[[0.0,\"#0d0887\"],[0.1111111111111111,\"#46039f\"],[0.2222222222222222,\"#7201a8\"],[0.3333333333333333,\"#9c179e\"],[0.4444444444444444,\"#bd3786\"],[0.5555555555555556,\"#d8576b\"],[0.6666666666666666,\"#ed7953\"],[0.7777777777777778,\"#fb9f3a\"],[0.8888888888888888,\"#fdca26\"],[1.0,\"#f0f921\"]]}],\"mesh3d\":[{\"type\":\"mesh3d\",\"colorbar\":{\"outlinewidth\":0,\"ticks\":\"\"}}],\"scatter\":[{\"fillpattern\":{\"fillmode\":\"overlay\",\"size\":10,\"solidity\":0.2},\"type\":\"scatter\"}],\"parcoords\":[{\"type\":\"parcoords\",\"line\":{\"colorbar\":{\"outlinewidth\":0,\"ticks\":\"\"}}}],\"scatterpolargl\":[{\"type\":\"scatterpolargl\",\"marker\":{\"colorbar\":{\"outlinewidth\":0,\"ticks\":\"\"}}}],\"bar\":[{\"error_x\":{\"color\":\"#2a3f5f\"},\"error_y\":{\"color\":\"#2a3f5f\"},\"marker\":{\"line\":{\"color\":\"#E5ECF6\",\"width\":0.5},\"pattern\":{\"fillmode\":\"overlay\",\"size\":10,\"solidity\":0.2}},\"type\":\"bar\"}],\"scattergeo\":[{\"type\":\"scattergeo\",\"marker\":{\"colorbar\":{\"outlinewidth\":0,\"ticks\":\"\"}}}],\"scatterpolar\":[{\"type\":\"scatterpolar\",\"marker\":{\"colorbar\":{\"outlinewidth\":0,\"ticks\":\"\"}}}],\"histogram\":[{\"marker\":{\"pattern\":{\"fillmode\":\"overlay\",\"size\":10,\"solidity\":0.2}},\"type\":\"histogram\"}],\"scattergl\":[{\"type\":\"scattergl\",\"marker\":{\"colorbar\":{\"outlinewidth\":0,\"ticks\":\"\"}}}],\"scatter3d\":[{\"type\":\"scatter3d\",\"line\":{\"colorbar\":{\"outlinewidth\":0,\"ticks\":\"\"}},\"marker\":{\"colorbar\":{\"outlinewidth\":0,\"ticks\":\"\"}}}],\"scattermapbox\":[{\"type\":\"scattermapbox\",\"marker\":{\"colorbar\":{\"outlinewidth\":0,\"ticks\":\"\"}}}],\"scatterternary\":[{\"type\":\"scatterternary\",\"marker\":{\"colorbar\":{\"outlinewidth\":0,\"ticks\":\"\"}}}],\"scattercarpet\":[{\"type\":\"scattercarpet\",\"marker\":{\"colorbar\":{\"outlinewidth\":0,\"ticks\":\"\"}}}],\"carpet\":[{\"aaxis\":{\"endlinecolor\":\"#2a3f5f\",\"gridcolor\":\"white\",\"linecolor\":\"white\",\"minorgridcolor\":\"white\",\"startlinecolor\":\"#2a3f5f\"},\"baxis\":{\"endlinecolor\":\"#2a3f5f\",\"gridcolor\":\"white\",\"linecolor\":\"white\",\"minorgridcolor\":\"white\",\"startlinecolor\":\"#2a3f5f\"},\"type\":\"carpet\"}],\"table\":[{\"cells\":{\"fill\":{\"color\":\"#EBF0F8\"},\"line\":{\"color\":\"white\"}},\"header\":{\"fill\":{\"color\":\"#C8D4E3\"},\"line\":{\"color\":\"white\"}},\"type\":\"table\"}],\"barpolar\":[{\"marker\":{\"line\":{\"color\":\"#E5ECF6\",\"width\":0.5},\"pattern\":{\"fillmode\":\"overlay\",\"size\":10,\"solidity\":0.2}},\"type\":\"barpolar\"}],\"pie\":[{\"automargin\":true,\"type\":\"pie\"}]},\"layout\":{\"autotypenumbers\":\"strict\",\"colorway\":[\"#636efa\",\"#EF553B\",\"#00cc96\",\"#ab63fa\",\"#FFA15A\",\"#19d3f3\",\"#FF6692\",\"#B6E880\",\"#FF97FF\",\"#FECB52\"],\"font\":{\"color\":\"#2a3f5f\"},\"hovermode\":\"closest\",\"hoverlabel\":{\"align\":\"left\"},\"paper_bgcolor\":\"white\",\"plot_bgcolor\":\"#E5ECF6\",\"polar\":{\"bgcolor\":\"#E5ECF6\",\"angularaxis\":{\"gridcolor\":\"white\",\"linecolor\":\"white\",\"ticks\":\"\"},\"radialaxis\":{\"gridcolor\":\"white\",\"linecolor\":\"white\",\"ticks\":\"\"}},\"ternary\":{\"bgcolor\":\"#E5ECF6\",\"aaxis\":{\"gridcolor\":\"white\",\"linecolor\":\"white\",\"ticks\":\"\"},\"baxis\":{\"gridcolor\":\"white\",\"linecolor\":\"white\",\"ticks\":\"\"},\"caxis\":{\"gridcolor\":\"white\",\"linecolor\":\"white\",\"ticks\":\"\"}},\"coloraxis\":{\"colorbar\":{\"outlinewidth\":0,\"ticks\":\"\"}},\"colorscale\":{\"sequential\":[[0.0,\"#0d0887\"],[0.1111111111111111,\"#46039f\"],[0.2222222222222222,\"#7201a8\"],[0.3333333333333333,\"#9c179e\"],[0.4444444444444444,\"#bd3786\"],[0.5555555555555556,\"#d8576b\"],[0.6666666666666666,\"#ed7953\"],[0.7777777777777778,\"#fb9f3a\"],[0.8888888888888888,\"#fdca26\"],[1.0,\"#f0f921\"]],\"sequentialminus\":[[0.0,\"#0d0887\"],[0.1111111111111111,\"#46039f\"],[0.2222222222222222,\"#7201a8\"],[0.3333333333333333,\"#9c179e\"],[0.4444444444444444,\"#bd3786\"],[0.5555555555555556,\"#d8576b\"],[0.6666666666666666,\"#ed7953\"],[0.7777777777777778,\"#fb9f3a\"],[0.8888888888888888,\"#fdca26\"],[1.0,\"#f0f921\"]],\"diverging\":[[0,\"#8e0152\"],[0.1,\"#c51b7d\"],[0.2,\"#de77ae\"],[0.3,\"#f1b6da\"],[0.4,\"#fde0ef\"],[0.5,\"#f7f7f7\"],[0.6,\"#e6f5d0\"],[0.7,\"#b8e186\"],[0.8,\"#7fbc41\"],[0.9,\"#4d9221\"],[1,\"#276419\"]]},\"xaxis\":{\"gridcolor\":\"white\",\"linecolor\":\"white\",\"ticks\":\"\",\"title\":{\"standoff\":15},\"zerolinecolor\":\"white\",\"automargin\":true,\"zerolinewidth\":2},\"yaxis\":{\"gridcolor\":\"white\",\"linecolor\":\"white\",\"ticks\":\"\",\"title\":{\"standoff\":15},\"zerolinecolor\":\"white\",\"automargin\":true,\"zerolinewidth\":2},\"scene\":{\"xaxis\":{\"backgroundcolor\":\"#E5ECF6\",\"gridcolor\":\"white\",\"linecolor\":\"white\",\"showbackground\":true,\"ticks\":\"\",\"zerolinecolor\":\"white\",\"gridwidth\":2},\"yaxis\":{\"backgroundcolor\":\"#E5ECF6\",\"gridcolor\":\"white\",\"linecolor\":\"white\",\"showbackground\":true,\"ticks\":\"\",\"zerolinecolor\":\"white\",\"gridwidth\":2},\"zaxis\":{\"backgroundcolor\":\"#E5ECF6\",\"gridcolor\":\"white\",\"linecolor\":\"white\",\"showbackground\":true,\"ticks\":\"\",\"zerolinecolor\":\"white\",\"gridwidth\":2}},\"shapedefaults\":{\"line\":{\"color\":\"#2a3f5f\"}},\"annotationdefaults\":{\"arrowcolor\":\"#2a3f5f\",\"arrowhead\":0,\"arrowwidth\":1},\"geo\":{\"bgcolor\":\"white\",\"landcolor\":\"#E5ECF6\",\"subunitcolor\":\"white\",\"showland\":true,\"showlakes\":true,\"lakecolor\":\"white\"},\"title\":{\"x\":0.05},\"mapbox\":{\"style\":\"light\"}}},\"showlegend\":true,\"autosize\":false,\"width\":800,\"height\":800},                        {\"responsive\": true}                    ).then(function(){\n",
       "                            \n",
       "var gd = document.getElementById('df5d2262-956a-444d-82ae-1bd7558e5a7e');\n",
       "var x = new MutationObserver(function (mutations, observer) {{\n",
       "        var display = window.getComputedStyle(gd).display;\n",
       "        if (!display || display === 'none') {{\n",
       "            console.log([gd, 'removed!']);\n",
       "            Plotly.purge(gd);\n",
       "            observer.disconnect();\n",
       "        }}\n",
       "}});\n",
       "\n",
       "// Listen for the removal of the full notebook cells\n",
       "var notebookContainer = gd.closest('#notebook-container');\n",
       "if (notebookContainer) {{\n",
       "    x.observe(notebookContainer, {childList: true});\n",
       "}}\n",
       "\n",
       "// Listen for the clearing of the current output cell\n",
       "var outputEl = gd.closest('.output');\n",
       "if (outputEl) {{\n",
       "    x.observe(outputEl, {childList: true});\n",
       "}}\n",
       "\n",
       "                        })                };                });            </script>        </div>"
      ]
     },
     "metadata": {},
     "output_type": "display_data"
    }
   ],
   "source": [
    "plot_cluster_profile(rfm_mean, 3)"
   ]
  },
  {
   "cell_type": "markdown",
   "id": "f5a7c2eb",
   "metadata": {},
   "source": [
    "Кластер 0 соответствует «лояльным» клиентам, которые приносят наибольший доход, совершают покупки чаще всего, а давность их последней покупки наименьшая.\n",
    "Кластер 2 соответствует «перспективным» клиентам, которые являются активными покупателями, но покупают не так часто и не так много, как лояльные клиенты.\n",
    "Кластер 1 соответствует «подвисшим» клиентам, которые относительно недавно сделали несколько заказов на небольшие суммы. Потенциально эти клиенты могут быть переведены в кластер «перспективных»."
   ]
  },
  {
   "cell_type": "code",
   "execution_count": null,
   "id": "55c473a3",
   "metadata": {},
   "outputs": [],
   "source": []
  }
 ],
 "metadata": {
  "kernelspec": {
   "display_name": "Python 3",
   "language": "python",
   "name": "python3"
  },
  "language_info": {
   "codemirror_mode": {
    "name": "ipython",
    "version": 3
   },
   "file_extension": ".py",
   "mimetype": "text/x-python",
   "name": "python",
   "nbconvert_exporter": "python",
   "pygments_lexer": "ipython3",
   "version": "3.8.8"
  }
 },
 "nbformat": 4,
 "nbformat_minor": 5
}
